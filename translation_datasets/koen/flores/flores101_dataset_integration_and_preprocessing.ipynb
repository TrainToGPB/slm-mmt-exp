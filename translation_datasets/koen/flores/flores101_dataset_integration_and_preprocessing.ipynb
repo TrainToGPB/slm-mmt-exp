{
 "cells": [
  {
   "cell_type": "code",
   "execution_count": 1,
   "metadata": {},
   "outputs": [
    {
     "name": "stderr",
     "output_type": "stream",
     "text": [
      "/home/tmax/anaconda3/envs/qlora/lib/python3.11/site-packages/tqdm/auto.py:21: TqdmWarning: IProgress not found. Please update jupyter and ipywidgets. See https://ipywidgets.readthedocs.io/en/stable/user_install.html\n",
      "  from .autonotebook import tqdm as notebook_tqdm\n"
     ]
    }
   ],
   "source": [
    "from datasets import load_dataset\n",
    "import pandas as pd"
   ]
  },
  {
   "cell_type": "code",
   "execution_count": 8,
   "metadata": {},
   "outputs": [],
   "source": [
    "flores_en = load_dataset(\"gsarti/flores_101\", 'eng')\n",
    "flores_ko = load_dataset(\"gsarti/flores_101\", 'kor')"
   ]
  },
  {
   "cell_type": "code",
   "execution_count": 9,
   "metadata": {},
   "outputs": [
    {
     "data": {
      "text/plain": [
       "DatasetDict({\n",
       "    dev: Dataset({\n",
       "        features: ['id', 'URL', 'domain', 'topic', 'has_image', 'has_hyperlink', 'sentence'],\n",
       "        num_rows: 997\n",
       "    })\n",
       "    devtest: Dataset({\n",
       "        features: ['id', 'URL', 'domain', 'topic', 'has_image', 'has_hyperlink', 'sentence'],\n",
       "        num_rows: 1012\n",
       "    })\n",
       "})"
      ]
     },
     "execution_count": 9,
     "metadata": {},
     "output_type": "execute_result"
    }
   ],
   "source": [
    "flores_en"
   ]
  },
  {
   "cell_type": "code",
   "execution_count": 14,
   "metadata": {},
   "outputs": [
    {
     "data": {
      "text/html": [
       "<div>\n",
       "<style scoped>\n",
       "    .dataframe tbody tr th:only-of-type {\n",
       "        vertical-align: middle;\n",
       "    }\n",
       "\n",
       "    .dataframe tbody tr th {\n",
       "        vertical-align: top;\n",
       "    }\n",
       "\n",
       "    .dataframe thead th {\n",
       "        text-align: right;\n",
       "    }\n",
       "</style>\n",
       "<table border=\"1\" class=\"dataframe\">\n",
       "  <thead>\n",
       "    <tr style=\"text-align: right;\">\n",
       "      <th></th>\n",
       "      <th>id</th>\n",
       "      <th>URL</th>\n",
       "      <th>domain</th>\n",
       "      <th>topic</th>\n",
       "      <th>has_image</th>\n",
       "      <th>has_hyperlink</th>\n",
       "      <th>sentence</th>\n",
       "    </tr>\n",
       "  </thead>\n",
       "  <tbody>\n",
       "    <tr>\n",
       "      <th>0</th>\n",
       "      <td>1</td>\n",
       "      <td>https://en.wikinews.org/wiki/Toronto_team-led_...</td>\n",
       "      <td>wikinews</td>\n",
       "      <td>disease, research, canada</td>\n",
       "      <td>0</td>\n",
       "      <td>0</td>\n",
       "      <td>\"We now have 4-month-old mice that are non-dia...</td>\n",
       "    </tr>\n",
       "    <tr>\n",
       "      <th>1</th>\n",
       "      <td>2</td>\n",
       "      <td>https://en.wikinews.org/wiki/Toronto_team-led_...</td>\n",
       "      <td>wikinews</td>\n",
       "      <td>disease, research, canada</td>\n",
       "      <td>0</td>\n",
       "      <td>0</td>\n",
       "      <td>Dr. Ehud Ur, professor of medicine at Dalhousi...</td>\n",
       "    </tr>\n",
       "    <tr>\n",
       "      <th>2</th>\n",
       "      <td>3</td>\n",
       "      <td>https://en.wikinews.org/wiki/Toronto_team-led_...</td>\n",
       "      <td>wikinews</td>\n",
       "      <td>disease, research, canada</td>\n",
       "      <td>0</td>\n",
       "      <td>0</td>\n",
       "      <td>Like some other experts, he is skeptical about...</td>\n",
       "    </tr>\n",
       "    <tr>\n",
       "      <th>3</th>\n",
       "      <td>4</td>\n",
       "      <td>https://en.wikinews.org/wiki/Nobel_Prize_in_Li...</td>\n",
       "      <td>wikinews</td>\n",
       "      <td>music</td>\n",
       "      <td>0</td>\n",
       "      <td>0</td>\n",
       "      <td>On Monday, Sara Danius, permanent secretary of...</td>\n",
       "    </tr>\n",
       "    <tr>\n",
       "      <th>4</th>\n",
       "      <td>5</td>\n",
       "      <td>https://en.wikinews.org/wiki/Nobel_Prize_in_Li...</td>\n",
       "      <td>wikinews</td>\n",
       "      <td>music</td>\n",
       "      <td>0</td>\n",
       "      <td>0</td>\n",
       "      <td>Danius said, \"Right now we are doing nothing. ...</td>\n",
       "    </tr>\n",
       "  </tbody>\n",
       "</table>\n",
       "</div>"
      ],
      "text/plain": [
       "   id                                                URL    domain  \\\n",
       "0   1  https://en.wikinews.org/wiki/Toronto_team-led_...  wikinews   \n",
       "1   2  https://en.wikinews.org/wiki/Toronto_team-led_...  wikinews   \n",
       "2   3  https://en.wikinews.org/wiki/Toronto_team-led_...  wikinews   \n",
       "3   4  https://en.wikinews.org/wiki/Nobel_Prize_in_Li...  wikinews   \n",
       "4   5  https://en.wikinews.org/wiki/Nobel_Prize_in_Li...  wikinews   \n",
       "\n",
       "                       topic  has_image  has_hyperlink  \\\n",
       "0  disease, research, canada          0              0   \n",
       "1  disease, research, canada          0              0   \n",
       "2  disease, research, canada          0              0   \n",
       "3                      music          0              0   \n",
       "4                      music          0              0   \n",
       "\n",
       "                                            sentence  \n",
       "0  \"We now have 4-month-old mice that are non-dia...  \n",
       "1  Dr. Ehud Ur, professor of medicine at Dalhousi...  \n",
       "2  Like some other experts, he is skeptical about...  \n",
       "3  On Monday, Sara Danius, permanent secretary of...  \n",
       "4  Danius said, \"Right now we are doing nothing. ...  "
      ]
     },
     "execution_count": 14,
     "metadata": {},
     "output_type": "execute_result"
    }
   ],
   "source": [
    "flores_en_df = pd.DataFrame(flores_en['devtest'])\n",
    "flores_en_df.head()"
   ]
  },
  {
   "cell_type": "code",
   "execution_count": 15,
   "metadata": {},
   "outputs": [
    {
     "data": {
      "text/html": [
       "<div>\n",
       "<style scoped>\n",
       "    .dataframe tbody tr th:only-of-type {\n",
       "        vertical-align: middle;\n",
       "    }\n",
       "\n",
       "    .dataframe tbody tr th {\n",
       "        vertical-align: top;\n",
       "    }\n",
       "\n",
       "    .dataframe thead th {\n",
       "        text-align: right;\n",
       "    }\n",
       "</style>\n",
       "<table border=\"1\" class=\"dataframe\">\n",
       "  <thead>\n",
       "    <tr style=\"text-align: right;\">\n",
       "      <th></th>\n",
       "      <th>id</th>\n",
       "      <th>URL</th>\n",
       "      <th>domain</th>\n",
       "      <th>topic</th>\n",
       "      <th>has_image</th>\n",
       "      <th>has_hyperlink</th>\n",
       "      <th>sentence</th>\n",
       "    </tr>\n",
       "  </thead>\n",
       "  <tbody>\n",
       "    <tr>\n",
       "      <th>0</th>\n",
       "      <td>1</td>\n",
       "      <td>https://en.wikinews.org/wiki/Toronto_team-led_...</td>\n",
       "      <td>wikinews</td>\n",
       "      <td>disease, research, canada</td>\n",
       "      <td>0</td>\n",
       "      <td>0</td>\n",
       "      <td>\"그는 \"\"현재 4개월 된 당뇨병에서 치료된 생쥐가 있다\"\"고 덧붙였다.\"</td>\n",
       "    </tr>\n",
       "    <tr>\n",
       "      <th>1</th>\n",
       "      <td>2</td>\n",
       "      <td>https://en.wikinews.org/wiki/Toronto_team-led_...</td>\n",
       "      <td>wikinews</td>\n",
       "      <td>disease, research, canada</td>\n",
       "      <td>0</td>\n",
       "      <td>0</td>\n",
       "      <td>노바스코샤주 핼리팩스의 댈하우지대학교 의과 교수이자 캐나다 당뇨 협회 임상과학부 의...</td>\n",
       "    </tr>\n",
       "    <tr>\n",
       "      <th>2</th>\n",
       "      <td>3</td>\n",
       "      <td>https://en.wikinews.org/wiki/Toronto_team-led_...</td>\n",
       "      <td>wikinews</td>\n",
       "      <td>disease, research, canada</td>\n",
       "      <td>0</td>\n",
       "      <td>0</td>\n",
       "      <td>다른 전문가들과 마찬가지로, 그는 당뇨병의 치료 여부에 회의적이며, 이러한 결과는 ...</td>\n",
       "    </tr>\n",
       "    <tr>\n",
       "      <th>3</th>\n",
       "      <td>4</td>\n",
       "      <td>https://en.wikinews.org/wiki/Nobel_Prize_in_Li...</td>\n",
       "      <td>wikinews</td>\n",
       "      <td>music</td>\n",
       "      <td>0</td>\n",
       "      <td>0</td>\n",
       "      <td>월요일 스웨덴 한림원 노벨상 문학위원회 사무총장 사라 다니우스는 스웨덴 스베리예스 ...</td>\n",
       "    </tr>\n",
       "    <tr>\n",
       "      <th>4</th>\n",
       "      <td>5</td>\n",
       "      <td>https://en.wikinews.org/wiki/Nobel_Prize_in_Li...</td>\n",
       "      <td>wikinews</td>\n",
       "      <td>music</td>\n",
       "      <td>0</td>\n",
       "      <td>0</td>\n",
       "      <td>\"대니어스(Danius)는 \"\"지금 우리는 아무것도 하지는 않고 있다. 그의 가장 ...</td>\n",
       "    </tr>\n",
       "  </tbody>\n",
       "</table>\n",
       "</div>"
      ],
      "text/plain": [
       "   id                                                URL    domain  \\\n",
       "0   1  https://en.wikinews.org/wiki/Toronto_team-led_...  wikinews   \n",
       "1   2  https://en.wikinews.org/wiki/Toronto_team-led_...  wikinews   \n",
       "2   3  https://en.wikinews.org/wiki/Toronto_team-led_...  wikinews   \n",
       "3   4  https://en.wikinews.org/wiki/Nobel_Prize_in_Li...  wikinews   \n",
       "4   5  https://en.wikinews.org/wiki/Nobel_Prize_in_Li...  wikinews   \n",
       "\n",
       "                       topic  has_image  has_hyperlink  \\\n",
       "0  disease, research, canada          0              0   \n",
       "1  disease, research, canada          0              0   \n",
       "2  disease, research, canada          0              0   \n",
       "3                      music          0              0   \n",
       "4                      music          0              0   \n",
       "\n",
       "                                            sentence  \n",
       "0          \"그는 \"\"현재 4개월 된 당뇨병에서 치료된 생쥐가 있다\"\"고 덧붙였다.\"  \n",
       "1  노바스코샤주 핼리팩스의 댈하우지대학교 의과 교수이자 캐나다 당뇨 협회 임상과학부 의...  \n",
       "2  다른 전문가들과 마찬가지로, 그는 당뇨병의 치료 여부에 회의적이며, 이러한 결과는 ...  \n",
       "3  월요일 스웨덴 한림원 노벨상 문학위원회 사무총장 사라 다니우스는 스웨덴 스베리예스 ...  \n",
       "4  \"대니어스(Danius)는 \"\"지금 우리는 아무것도 하지는 않고 있다. 그의 가장 ...  "
      ]
     },
     "execution_count": 15,
     "metadata": {},
     "output_type": "execute_result"
    }
   ],
   "source": [
    "flores_ko_df = pd.DataFrame(flores_ko['devtest'])\n",
    "flores_ko_df.head()"
   ]
  },
  {
   "cell_type": "code",
   "execution_count": 18,
   "metadata": {},
   "outputs": [
    {
     "data": {
      "text/plain": [
       "182"
      ]
     },
     "execution_count": 18,
     "metadata": {},
     "output_type": "execute_result"
    }
   ],
   "source": [
    "len(flores_en_df['topic'].unique())"
   ]
  },
  {
   "cell_type": "code",
   "execution_count": 35,
   "metadata": {},
   "outputs": [
    {
     "data": {
      "text/html": [
       "<div>\n",
       "<style scoped>\n",
       "    .dataframe tbody tr th:only-of-type {\n",
       "        vertical-align: middle;\n",
       "    }\n",
       "\n",
       "    .dataframe tbody tr th {\n",
       "        vertical-align: top;\n",
       "    }\n",
       "\n",
       "    .dataframe thead th {\n",
       "        text-align: right;\n",
       "    }\n",
       "</style>\n",
       "<table border=\"1\" class=\"dataframe\">\n",
       "  <thead>\n",
       "    <tr style=\"text-align: right;\">\n",
       "      <th></th>\n",
       "      <th>en</th>\n",
       "      <th>ko</th>\n",
       "    </tr>\n",
       "  </thead>\n",
       "  <tbody>\n",
       "    <tr>\n",
       "      <th>0</th>\n",
       "      <td>\"We now have 4-month-old mice that are non-dia...</td>\n",
       "      <td>\"그는 \"\"현재 4개월 된 당뇨병에서 치료된 생쥐가 있다\"\"고 덧붙였다.\"</td>\n",
       "    </tr>\n",
       "    <tr>\n",
       "      <th>1</th>\n",
       "      <td>Dr. Ehud Ur, professor of medicine at Dalhousi...</td>\n",
       "      <td>노바스코샤주 핼리팩스의 댈하우지대학교 의과 교수이자 캐나다 당뇨 협회 임상과학부 의...</td>\n",
       "    </tr>\n",
       "    <tr>\n",
       "      <th>2</th>\n",
       "      <td>Like some other experts, he is skeptical about...</td>\n",
       "      <td>다른 전문가들과 마찬가지로, 그는 당뇨병의 치료 여부에 회의적이며, 이러한 결과는 ...</td>\n",
       "    </tr>\n",
       "    <tr>\n",
       "      <th>3</th>\n",
       "      <td>On Monday, Sara Danius, permanent secretary of...</td>\n",
       "      <td>월요일 스웨덴 한림원 노벨상 문학위원회 사무총장 사라 다니우스는 스웨덴 스베리예스 ...</td>\n",
       "    </tr>\n",
       "    <tr>\n",
       "      <th>4</th>\n",
       "      <td>Danius said, \"Right now we are doing nothing. ...</td>\n",
       "      <td>\"대니어스(Danius)는 \"\"지금 우리는 아무것도 하지는 않고 있다. 그의 가장 ...</td>\n",
       "    </tr>\n",
       "  </tbody>\n",
       "</table>\n",
       "</div>"
      ],
      "text/plain": [
       "                                                  en  \\\n",
       "0  \"We now have 4-month-old mice that are non-dia...   \n",
       "1  Dr. Ehud Ur, professor of medicine at Dalhousi...   \n",
       "2  Like some other experts, he is skeptical about...   \n",
       "3  On Monday, Sara Danius, permanent secretary of...   \n",
       "4  Danius said, \"Right now we are doing nothing. ...   \n",
       "\n",
       "                                                  ko  \n",
       "0          \"그는 \"\"현재 4개월 된 당뇨병에서 치료된 생쥐가 있다\"\"고 덧붙였다.\"  \n",
       "1  노바스코샤주 핼리팩스의 댈하우지대학교 의과 교수이자 캐나다 당뇨 협회 임상과학부 의...  \n",
       "2  다른 전문가들과 마찬가지로, 그는 당뇨병의 치료 여부에 회의적이며, 이러한 결과는 ...  \n",
       "3  월요일 스웨덴 한림원 노벨상 문학위원회 사무총장 사라 다니우스는 스웨덴 스베리예스 ...  \n",
       "4  \"대니어스(Danius)는 \"\"지금 우리는 아무것도 하지는 않고 있다. 그의 가장 ...  "
      ]
     },
     "execution_count": 35,
     "metadata": {},
     "output_type": "execute_result"
    }
   ],
   "source": [
    "flores_dict = {\n",
    "    'en': flores_en_df['sentence'], \n",
    "    'ko': flores_ko_df['sentence']\n",
    "}\n",
    "flores = pd.DataFrame.from_dict(flores_dict)\n",
    "flores.head()"
   ]
  },
  {
   "cell_type": "code",
   "execution_count": 36,
   "metadata": {},
   "outputs": [
    {
     "name": "stdout",
     "output_type": "stream",
     "text": [
      "그는 \"현재 4개월 된 당뇨병에서 치료된 생쥐가 있다\"고 덧붙였다.\n",
      "대니어스(Danius)는 \"지금 우리는 아무것도 하지는 않고 있다. 그의 가장 가까운 협력자에게 전화를 걸어 이메일을 보냈고 매우 친절한 답장을 받았다. 현재로서는 확실히 그것으로 충분하다.\"\n",
      "의견을 물었을 때 밀러는 \"청문회 동안 마이크는 많은 이야기를 했습니다… 저는 준비를 하고 있었기 때문에 그가 하는 말을 듣지 못했습니다\"라고 말했습니다.\n",
      "후 주석은 \"2020년까지는 GDP 단위당 이산화탄소 방출량을 2005년 수준에서 현저한 폭으로 감소시키려고 노력할 것입니다\"라고 말했습니다.\n",
      "후는 개발도상국들이 \"일단 오염시키고 나중에 치우는 옛 방식을 탈피하도록\" 격려했습니다.\n",
      "후 주석은 \"그렇다 해서 그들에게 그 발달단계와 책임 범위, 능력을 벗어나는 의무를 지라고 요구해서는 안 된다\"라고 덧붙였다.\n",
      "레이튼(Layton)은 총리와의 면담에서 보수당의 환경 법안을 \"철저히, 완전하게 재작성\" 할 것을 요청하며, 보수당의 환경 법안에 대한 변경을 촉구했다.\n",
      "부시의 대변인 고든 존드로는 북한의 약속에 대해 \"한반도의 비핵화를 달성하기 위한 주요 단계\"라고 평했습니다.\n",
      "\"그 (웨일즈)는 처음부터 우리에게 거짓말했어요. 먼저 이 모든 것이 법적인 이유 때문이라고 했고, 또 삭제하기 직전까지 우리의 말을 듣는 것처럼 행동했죠.\" \n",
      "그의 작품은 높은 품질과 세밀하기로 정평이 나 있고 그는 도장 파는 사람 중 정말 몇 되지 않는 \"누구나 아는 이름\"의 소유자이다. 그의 작품만을 전문으로 수집하는 사람들도 있다.   \n",
      "사고 지점 인근 한 정비소에서 근무하는 한 사람은 \"길을 건너려고 기다리던 아이들이 모두 비명을 지르며 울고 불고 난리였어요\"라고 말했다.\n",
      "\"이건 작별 인사가 아닙니다. 이것은 한 장의 끝이며 새로운 장의 시작입니다.\"\n",
      "국경 없는 의사회 리차드 비어만(Richard Veerman) 대변인은 \"앙골라는 최악의 사태로 치닫고 있으며 앙골라의 상황은 여전히 매우 나쁩니다\"라고 말했습니다.\n",
      "\"세븐 시스터즈\"라는 이름이 붙은 모든 동굴의 입구는 지름이 최소 100에서 250미터(328피트에서 820피트) 정도이다.\n",
      "\"이들은 주변 지표면보다 낮에는 더 시원하고 밤에는 더 따듯합니다.\n",
      "미국 지질조사국(United States Geological Survey) 천문지질학 팀 및 아리조나주 플래그스태프의 노던 아리조나 대학 소속인글렌 쿠싱(Glen Cushing)은 “이러한 열적 거동은 일정한 온도를 유지하는 지구의 큰 동굴만큼 안정적이지는 않지만, 지표면의 깊은 구멍에 일치한다\"고 말했습니다.\n",
      "한 목격자는 사람들이 무리를 이루어 거리를 배회하고 물품을 약탈하는 것으로 보아 비슈케크(Bishkek)가 \"무정부\"상태로 빠지고 있다고 묘사하였습니다.\n",
      "챔버스는 \"수백만의 지구인들에게 널리 가해진 죽음, 파괴 및 수백만 번의 테러\"에 대해 신을 고소했습니다.\n",
      "불가지론자 챔버스는 자신의 소송이 \"사소하다\"며 \"누구나 누구든 고소할 수 있다\"고 주장했습니다.\n",
      "카미유 생상(Camille Saint-Saens)이 프랑스 오페라에서 발표한 이야기는 \"마약과 일본에 대한 사랑이 지배한 삶을 산\" 한 예술가의 이야기입니다.\n",
      "페리는 \"오늘 밤 간부 회의의 결과를 평가하기 위해 텍사스로 돌아가 이번 선거전에 나 자신에게 득이 되는 길이 있는지를 결정할 것\"이라고 말했지만, 나중에 그는 선거전에 남아 1월 21일 사우스캐롤라이나 예비선거에서 경쟁할 것이라고 말했습니다.\n",
      "알려진 바에 따르면 그는 20대라고 한다. 성명서에서 비버는 \"제가 비록 그 비극적인 사건 현장에 있지 않았고 직접적인 관련도 없기는 해도, 희생자의 가족들을 위해 위로와 기도를 전합니다.\" \n",
      "기자 회견 녹취록에 따르면 장이모우는 \"그녀는 매우 귀엽고 노래도 꽤 잘합니다\"라고 말했습니다.\n",
      "\"나는 매번 이 작품의 리허설을 할 때마다 마음 깊숙이 감동을 느꼈습니다\".\n",
      "나사의 우주 왕복선 프로그램 책임자 웨인 헤일 주니어(N. Wayne Hale Jr.)는 \"우리가 걱정하던 시기\" 후에  발포 단열재가 떨어졌다고 말했다. \n",
      "내 동생과 동생의 친구를 잃어버렸고, 가는 도중엔 휠체어를 탄 두 명의 장애인을 보았고 사람들이 그 둘을 밀치고 있는 것을 보았다.\"라고 Armand Versace는 전했다.\n",
      "이 법안은 캘리포니아 주에서 판매되는 폭력적인 비디오 게임에는 \"18\"이라는 라벨을 붙여야 하며, 이 게임을 미성년자에게 판매하는 경우 1000달러의 벌금에 처하도록 규정하고 있습니다.\n",
      "D K 아리아 부감찰관은 \"스위스 여성을 성폭행한 5명을 체포했으며, 또한 피해 여성의 휴대폰과 휴대용 컴퓨터를 복구했다\"고 말했습니다.\n",
      "지난주 일본경제산업성(METI)은 애플이 \"심각하지 않다\"고 한 과열 사고를 추가적으로 34건 보고했다고 발표했습니다.\n",
      "경제산업성에선 애플의 보고서 발표 연기에 대해 \"정말 유감스럽다\"며 맞받아쳤다.\n",
      "타미 드리머는 \"루나는 1대 Queen of Extreme이었습니다. 나의 첫 매니저이기도 했고요. 루나는 2개의 달이 뜬 밤에 세상을 떠났습니다. 마치 그녀처럼 아주 특별하게요. 강한 여성이었어요.\"라고 말했다.\n",
      "더스틴 \"골더스트\" 러널스는 \"루나는 나만큼 기이했는데... 어쩌면 더 기이한 것 같아요… 그녀를 사랑하고 그녀가 그리울 겁니다… 더 좋은 곳에 갔기를 바랍니다\"라고 말했습니다. \n",
      "그는 그 소문을 \"정치적 수다와 어리석음\"이라고 언급했습니다.\n",
      "금은 매우 얇게 만들어질 수 있으며 다른 금속에도 붙일 수 있습니다. 매우 얇게 만들 수가 있어서 \"채색 필사본\"이라고 불리는 책의 손 그림을 장식하는 데 사용되기도 했습니다.\n",
      "미국 독립선언서의 뒷면에는 \"원본 독립선언서 작성일 1776년 7월 4일\"이라는 글자가 적혀 있습니다. 이 글자는 문서의 아랫쪽에 위아래가 뒤집혀진 상태로 적혀 있습니다.\n",
      "거기는 \"비시\" 프랑스의 지배를 받았다. 이들은 1940년 독일과 강화를 택한 프랑스인들로 침략자들에 맞서 싸우기보다 동조한 사람들이다.\n",
      "1940년 8월 15일, 연합군은 프랑스 남부를 침략했고, 이 침략은 \"드래군 작전\"이라 불렸다. \n",
      "일본이 가지고 있는 섬의 군집/군 때문에 지리적인 입장에서 일본을 종종 \"열도\"라고 부릅니다.\n",
      "이집트의 죽음의 계곡에 있는 기자 고원(Giza Plateau) 또는 \"기자 묘지 (Giza Necropolis)\"에는 여러 개의 피라미드(그레이트 피라미드가 가장 큰 피라미드), 여러 개의 작은 무덤, 여러 개의 사원 및 스핑크스가 있습니다.\n",
      "\"올림활\" 표시는 V자같이 생겼으며 \"내림활\" 표시는 스테이플 또는 바닥면이 없는 사각형같이 생겼다. \n",
      "기술 결정론에 대한 대부분의 해석은 두 가지 개념을 갖습니다. 기술 개발 자체가 문화나 정치 이상의 영향력을 보인다는 것과 기술은 사회적으로 통제되는 것이 아니라 오히려 사회에 본질적인 \"영향\"을 미칩니다.\n",
      "예를 들어, \"학습\"과 \"사회화\"가 인터넷 사용에 대한 중요한 동기로 제시되었습니다(제임스 외, 1995년)\n",
      "모든 상황을 고려해 보면 우리 조상이 오늘날 사바나의 침팬지가 하는 것과 같은 방식으로 \"단백질 문제\"를 해결했다고 해도 그리 놀랄 일은 아닙니다.\n",
      "달의 표면은 돌과 먼지로 이루어져 있는데, 달의 바깥층은 '크러스트(the crust)\"라고 불린다.\n",
      "일반적으로 두 가지 행동은 관리자가 이전 동료를 이끌기 시작하면서 나타날 수 있습니다. 스페트럼의 한쪽 끝에서 \"직원 중 한 사람\"으로 남으려고 노력합니다.\n",
      "진정한 \"투명 팀\"의 존재(라슨 및 라파스토, 1989년, 109쪽)도 가상 팀의 독특한 구성 요소입니다. \n",
      "\"보이지 않는 팀\"은 각 구성원이 보고하는 관리팀이다. 이 팀은 각 멤버에게 기준을 맞춘다.\n",
      "또한 블로그는 \"학생들이 자신 주변에 대해 더 관심을 기울이도록 한다\" 청중의 관심을 끌기위한 필요성을 통해 학생들은 영리하고 흥미롭도록 합니다(토토, 2004).\n",
      "블로그의 적절한 이용은 \"인터넷 자료에 적극적으로 응답함으로써 학생들의 분석적이고 비판적인 사고를 증진시키고 학생들이 다른 이의 글에서 자신의 입장을 정의하고 특정 주제에 대해 자기의 시각을 성립할 수 있도록 한다(오라벡, 2020).\n",
      "\"우기\", \"건기\"가 특별히 따로 존재하지 않는다. 강수량은 연중 거의 동일한 수준이다.\n",
      "하이킹 사파리(\"부시 산책\", \"하이킹 사파리\" 또는 \"발디딤\"이라고도 함)는 몇 시간 또는 며칠 동안 할 수 있는 하이킹으로 구성된다.\n",
      "카레는 물의 양에 따라 \"되직\"하거나 \"묽게\"될 수 있다.\n",
      "스키여행은 스키광(\"ski bums\")이라고 불리는 애호가들이 즐기는 여행 방식이다. 그 사람들은 휴가 일정을 어느 한 특정 장소에서 줄곧 스키를 타는 시간으로 계획한다.\n",
      "핀란드는 보트를 즐기기 위한 좋은 여행지이다. \"천 개의 호수의 땅(Land of a thousand lakes)\"은 호수와 해안 군도에도 수천 개의 섬을 가지고 있다.\n",
      "보통 이것은 부정확한 고정관념일 뿐이지만, 파리에서 가장 잘 지낼 수 있는 방법은 여전히 \"bien élevé(예의 바른)\" 사람처럼 행동하는 것입니다. 이러면 더 쉽게 생활할 수 있을 것입니다.\n",
      "식물은 자연환경에서 가장 좋아 보이므로 \"딱 하나\"의 표본은 괜찮겠지 라는 유혹은 버려야 한다.\n",
      "형식적으로 정리된 정원을 방문해서 \"표본\"을 모으면 두말할 것 없이 쫓겨난다.\n",
      "하지만 적도에서 몇 도 정도에 위치한 \"고열대\" 지방에 놓이게 되면, 높은 기온(항상 높음)과 강한 태양의 내리쬠(드물지만 하늘이 맑을 때)을 상대해야 할 것입니다.\n"
     ]
    }
   ],
   "source": [
    "for idx, ko in enumerate(flores['ko']):\n",
    "    if '\"\"' in ko:\n",
    "        flores.at[idx, 'ko'] = ko[1:-1].replace('\"\"', '\"')\n",
    "        print(flores.at[idx, 'ko'])"
   ]
  },
  {
   "cell_type": "code",
   "execution_count": 38,
   "metadata": {},
   "outputs": [
    {
     "data": {
      "text/html": [
       "<div>\n",
       "<style scoped>\n",
       "    .dataframe tbody tr th:only-of-type {\n",
       "        vertical-align: middle;\n",
       "    }\n",
       "\n",
       "    .dataframe tbody tr th {\n",
       "        vertical-align: top;\n",
       "    }\n",
       "\n",
       "    .dataframe thead th {\n",
       "        text-align: right;\n",
       "    }\n",
       "</style>\n",
       "<table border=\"1\" class=\"dataframe\">\n",
       "  <thead>\n",
       "    <tr style=\"text-align: right;\">\n",
       "      <th></th>\n",
       "      <th>en</th>\n",
       "      <th>ko</th>\n",
       "    </tr>\n",
       "  </thead>\n",
       "  <tbody>\n",
       "    <tr>\n",
       "      <th>0</th>\n",
       "      <td>\"We now have 4-month-old mice that are non-dia...</td>\n",
       "      <td>그는 \"현재 4개월 된 당뇨병에서 치료된 생쥐가 있다\"고 덧붙였다.</td>\n",
       "    </tr>\n",
       "    <tr>\n",
       "      <th>1</th>\n",
       "      <td>Dr. Ehud Ur, professor of medicine at Dalhousi...</td>\n",
       "      <td>노바스코샤주 핼리팩스의 댈하우지대학교 의과 교수이자 캐나다 당뇨 협회 임상과학부 의...</td>\n",
       "    </tr>\n",
       "    <tr>\n",
       "      <th>2</th>\n",
       "      <td>Like some other experts, he is skeptical about...</td>\n",
       "      <td>다른 전문가들과 마찬가지로, 그는 당뇨병의 치료 여부에 회의적이며, 이러한 결과는 ...</td>\n",
       "    </tr>\n",
       "    <tr>\n",
       "      <th>3</th>\n",
       "      <td>On Monday, Sara Danius, permanent secretary of...</td>\n",
       "      <td>월요일 스웨덴 한림원 노벨상 문학위원회 사무총장 사라 다니우스는 스웨덴 스베리예스 ...</td>\n",
       "    </tr>\n",
       "    <tr>\n",
       "      <th>4</th>\n",
       "      <td>Danius said, \"Right now we are doing nothing. ...</td>\n",
       "      <td>대니어스(Danius)는 \"지금 우리는 아무것도 하지는 않고 있다. 그의 가장 가까...</td>\n",
       "    </tr>\n",
       "  </tbody>\n",
       "</table>\n",
       "</div>"
      ],
      "text/plain": [
       "                                                  en  \\\n",
       "0  \"We now have 4-month-old mice that are non-dia...   \n",
       "1  Dr. Ehud Ur, professor of medicine at Dalhousi...   \n",
       "2  Like some other experts, he is skeptical about...   \n",
       "3  On Monday, Sara Danius, permanent secretary of...   \n",
       "4  Danius said, \"Right now we are doing nothing. ...   \n",
       "\n",
       "                                                  ko  \n",
       "0              그는 \"현재 4개월 된 당뇨병에서 치료된 생쥐가 있다\"고 덧붙였다.  \n",
       "1  노바스코샤주 핼리팩스의 댈하우지대학교 의과 교수이자 캐나다 당뇨 협회 임상과학부 의...  \n",
       "2  다른 전문가들과 마찬가지로, 그는 당뇨병의 치료 여부에 회의적이며, 이러한 결과는 ...  \n",
       "3  월요일 스웨덴 한림원 노벨상 문학위원회 사무총장 사라 다니우스는 스웨덴 스베리예스 ...  \n",
       "4  대니어스(Danius)는 \"지금 우리는 아무것도 하지는 않고 있다. 그의 가장 가까...  "
      ]
     },
     "execution_count": 38,
     "metadata": {},
     "output_type": "execute_result"
    }
   ],
   "source": [
    "flores.head()"
   ]
  },
  {
   "cell_type": "code",
   "execution_count": 39,
   "metadata": {},
   "outputs": [],
   "source": [
    "flores.to_csv('./test_flores.csv', index=False)"
   ]
  },
  {
   "cell_type": "code",
   "execution_count": null,
   "metadata": {},
   "outputs": [],
   "source": []
  }
 ],
 "metadata": {
  "kernelspec": {
   "display_name": "qlora",
   "language": "python",
   "name": "python3"
  },
  "language_info": {
   "codemirror_mode": {
    "name": "ipython",
    "version": 3
   },
   "file_extension": ".py",
   "mimetype": "text/x-python",
   "name": "python",
   "nbconvert_exporter": "python",
   "pygments_lexer": "ipython3",
   "version": "3.11.5"
  }
 },
 "nbformat": 4,
 "nbformat_minor": 2
}
