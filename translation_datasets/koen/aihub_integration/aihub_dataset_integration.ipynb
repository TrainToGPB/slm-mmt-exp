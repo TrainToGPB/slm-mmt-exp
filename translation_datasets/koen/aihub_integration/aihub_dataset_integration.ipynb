{
 "cells": [
  {
   "cell_type": "code",
   "execution_count": 1,
   "metadata": {},
   "outputs": [],
   "source": [
    "import os\n",
    "import sys\n",
    "import re\n",
    "\n",
    "import pandas as pd\n",
    "\n",
    "sys.path.append('../../../')\n",
    "from custom_utils.data_utils import merge_json_datasets, merge_json_datasets_parallel, merge_excel_datasets"
   ]
  },
  {
   "cell_type": "markdown",
   "metadata": {},
   "source": [
    "### 111. 전문분야"
   ]
  },
  {
   "cell_type": "code",
   "execution_count": 11,
   "metadata": {},
   "outputs": [
    {
     "name": "stderr",
     "output_type": "stream",
     "text": [
      "100%|██████████| 8/8 [00:10<00:00,  1.31s/it]\n",
      "100%|██████████| 8/8 [00:01<00:00,  6.91it/s]\n"
     ]
    }
   ],
   "source": [
    "folder_path_111_train = '../111_expertized_fields/1.Training/라벨링데이터'\n",
    "folder_path_111_eval = '../111_expertized_fields/2.Validation/라벨링데이터'\n",
    "\n",
    "train_111_df_raw = merge_json_datasets(folder_path_111_train)\n",
    "train_111_df = train_111_df_raw[['한국어', '영어']]\n",
    "train_111_df = train_111_df.rename(columns={'한국어': 'ko', '영어': 'en'})\n",
    "\n",
    "eval_111_df_raw = merge_json_datasets(folder_path_111_eval)\n",
    "eval_111_df = eval_111_df_raw[['한국어', '영어']]\n",
    "eval_111_df = eval_111_df.rename(columns={'한국어': 'ko', '영어': 'en'})\n",
    "\n",
    "total_111_df = pd.concat([train_111_df, eval_111_df], ignore_index=True)\n",
    "total_111_df['source'] = 111"
   ]
  },
  {
   "cell_type": "code",
   "execution_count": 12,
   "metadata": {},
   "outputs": [
    {
     "data": {
      "text/html": [
       "<div>\n",
       "<style scoped>\n",
       "    .dataframe tbody tr th:only-of-type {\n",
       "        vertical-align: middle;\n",
       "    }\n",
       "\n",
       "    .dataframe tbody tr th {\n",
       "        vertical-align: top;\n",
       "    }\n",
       "\n",
       "    .dataframe thead th {\n",
       "        text-align: right;\n",
       "    }\n",
       "</style>\n",
       "<table border=\"1\" class=\"dataframe\">\n",
       "  <thead>\n",
       "    <tr style=\"text-align: right;\">\n",
       "      <th></th>\n",
       "      <th>ko</th>\n",
       "      <th>en</th>\n",
       "      <th>source</th>\n",
       "    </tr>\n",
       "  </thead>\n",
       "  <tbody>\n",
       "    <tr>\n",
       "      <th>0</th>\n",
       "      <td>통영 용남면 장평리 바닷가 해안도로 앞에 위치한 통영 늘푸른 펜션에 오신 것을 환영...</td>\n",
       "      <td>Welcome to Tongyeong's Evergreen Pension locat...</td>\n",
       "      <td>111</td>\n",
       "    </tr>\n",
       "    <tr>\n",
       "      <th>1</th>\n",
       "      <td>허브아일랜드의 불빛동화 축제는 국내 최고 겨울축제 중 하나로 꼽힌다.</td>\n",
       "      <td>Herb Island's Light Fairy Tale Festival is con...</td>\n",
       "      <td>111</td>\n",
       "    </tr>\n",
       "    <tr>\n",
       "      <th>2</th>\n",
       "      <td>봉비산 자락에 위치하고 있는 도심 속의 전통 사찰이다.</td>\n",
       "      <td>It is a traditional temple in the city center ...</td>\n",
       "      <td>111</td>\n",
       "    </tr>\n",
       "    <tr>\n",
       "      <th>3</th>\n",
       "      <td>수룡동 마을안길로 들어가면 쉽게 오를 수 있다.</td>\n",
       "      <td>It can be easily climbed by entering the insid...</td>\n",
       "      <td>111</td>\n",
       "    </tr>\n",
       "    <tr>\n",
       "      <th>4</th>\n",
       "      <td>토스 측은 \"가족과 함께 송편을 나눠먹듯, 송편지원금 또한 가족, 친척, 친구, 오...</td>\n",
       "      <td>Toss explained the meaning of the event, sayin...</td>\n",
       "      <td>111</td>\n",
       "    </tr>\n",
       "  </tbody>\n",
       "</table>\n",
       "</div>"
      ],
      "text/plain": [
       "                                                  ko  \\\n",
       "0  통영 용남면 장평리 바닷가 해안도로 앞에 위치한 통영 늘푸른 펜션에 오신 것을 환영...   \n",
       "1             허브아일랜드의 불빛동화 축제는 국내 최고 겨울축제 중 하나로 꼽힌다.   \n",
       "2                     봉비산 자락에 위치하고 있는 도심 속의 전통 사찰이다.   \n",
       "3                         수룡동 마을안길로 들어가면 쉽게 오를 수 있다.   \n",
       "4  토스 측은 \"가족과 함께 송편을 나눠먹듯, 송편지원금 또한 가족, 친척, 친구, 오...   \n",
       "\n",
       "                                                  en  source  \n",
       "0  Welcome to Tongyeong's Evergreen Pension locat...     111  \n",
       "1  Herb Island's Light Fairy Tale Festival is con...     111  \n",
       "2  It is a traditional temple in the city center ...     111  \n",
       "3  It can be easily climbed by entering the insid...     111  \n",
       "4  Toss explained the meaning of the event, sayin...     111  "
      ]
     },
     "execution_count": 12,
     "metadata": {},
     "output_type": "execute_result"
    }
   ],
   "source": [
    "total_111_df.head()"
   ]
  },
  {
   "cell_type": "code",
   "execution_count": 13,
   "metadata": {},
   "outputs": [
    {
     "name": "stdout",
     "output_type": "stream",
     "text": [
      "Train length: 1200000\n",
      "Validation length: 150000\n",
      "Total length: 1350000\n"
     ]
    }
   ],
   "source": [
    "print(\"Train length:\", len(train_111_df))\n",
    "print(\"Validation length:\", len(eval_111_df))\n",
    "print(\"Total length:\", len(total_111_df))"
   ]
  },
  {
   "cell_type": "markdown",
   "metadata": {},
   "source": [
    "### 124. 기술과학 1"
   ]
  },
  {
   "cell_type": "code",
   "execution_count": 14,
   "metadata": {},
   "outputs": [],
   "source": [
    "file_path_124_train = '../124_tech_and_science_2/01.데이터/1.Training_1113_add/1113_tech_train_set_1195228.csv'\n",
    "file_path_124_eval = '../124_tech_and_science_2/01.데이터/2.Validation_1113_add/1113_tech_valid_set_149403.csv'\n",
    "\n",
    "train_124_df_raw = pd.read_csv(file_path_124_train)\n",
    "train_124_df = train_124_df_raw[['ko', 'en']]\n",
    "\n",
    "eval_124_df_raw = pd.read_csv(file_path_124_eval)\n",
    "eval_124_df = eval_124_df_raw[['ko', 'en']]\n",
    "\n",
    "total_124_df = pd.concat([train_124_df, eval_124_df], ignore_index=True)\n",
    "total_124_df['source'] = 124"
   ]
  },
  {
   "cell_type": "code",
   "execution_count": 15,
   "metadata": {},
   "outputs": [
    {
     "data": {
      "text/html": [
       "<div>\n",
       "<style scoped>\n",
       "    .dataframe tbody tr th:only-of-type {\n",
       "        vertical-align: middle;\n",
       "    }\n",
       "\n",
       "    .dataframe tbody tr th {\n",
       "        vertical-align: top;\n",
       "    }\n",
       "\n",
       "    .dataframe thead th {\n",
       "        text-align: right;\n",
       "    }\n",
       "</style>\n",
       "<table border=\"1\" class=\"dataframe\">\n",
       "  <thead>\n",
       "    <tr style=\"text-align: right;\">\n",
       "      <th></th>\n",
       "      <th>ko</th>\n",
       "      <th>en</th>\n",
       "      <th>source</th>\n",
       "    </tr>\n",
       "  </thead>\n",
       "  <tbody>\n",
       "    <tr>\n",
       "      <th>0</th>\n",
       "      <td>오븐 세척제에 포함된 피부 부식성/자극성 물질은 모두 심한 눈손상성/눈 자극성에도 ...</td>\n",
       "      <td>All skin corrosion/irritation substances conta...</td>\n",
       "      <td>124</td>\n",
       "    </tr>\n",
       "    <tr>\n",
       "      <th>1</th>\n",
       "      <td>국내에서는 2030년 BAU 대비 37%의 온실가스 감축을 의무화함으로써 이에 따른...</td>\n",
       "      <td>In Korea, it really is urgent to produce an an...</td>\n",
       "      <td>124</td>\n",
       "    </tr>\n",
       "    <tr>\n",
       "      <th>2</th>\n",
       "      <td>수술 전 정맥혈을 채취하고 월경주기의 난포기 동안 8시간 이상 금식한 후 정맥혈액을...</td>\n",
       "      <td>Before the operation, blood samples were obtai...</td>\n",
       "      <td>124</td>\n",
       "    </tr>\n",
       "    <tr>\n",
       "      <th>3</th>\n",
       "      <td>3등급 이하 인정자는 8.2%만이 재가급여에서 시설급여로 변경하였다.</td>\n",
       "      <td>Only 8.2% of third graders or lower changed fr...</td>\n",
       "      <td>124</td>\n",
       "    </tr>\n",
       "    <tr>\n",
       "      <th>4</th>\n",
       "      <td>센싱에 의해 공기 중 오일입자가 기준치이하인지 여부를 판단할 수 있다.</td>\n",
       "      <td>It is possible to determine whether or not the...</td>\n",
       "      <td>124</td>\n",
       "    </tr>\n",
       "  </tbody>\n",
       "</table>\n",
       "</div>"
      ],
      "text/plain": [
       "                                                  ko  \\\n",
       "0  오븐 세척제에 포함된 피부 부식성/자극성 물질은 모두 심한 눈손상성/눈 자극성에도 ...   \n",
       "1  국내에서는 2030년 BAU 대비 37%의 온실가스 감축을 의무화함으로써 이에 따른...   \n",
       "2  수술 전 정맥혈을 채취하고 월경주기의 난포기 동안 8시간 이상 금식한 후 정맥혈액을...   \n",
       "3             3등급 이하 인정자는 8.2%만이 재가급여에서 시설급여로 변경하였다.   \n",
       "4            센싱에 의해 공기 중 오일입자가 기준치이하인지 여부를 판단할 수 있다.   \n",
       "\n",
       "                                                  en  source  \n",
       "0  All skin corrosion/irritation substances conta...     124  \n",
       "1  In Korea, it really is urgent to produce an an...     124  \n",
       "2  Before the operation, blood samples were obtai...     124  \n",
       "3  Only 8.2% of third graders or lower changed fr...     124  \n",
       "4  It is possible to determine whether or not the...     124  "
      ]
     },
     "execution_count": 15,
     "metadata": {},
     "output_type": "execute_result"
    }
   ],
   "source": [
    "total_124_df.head()"
   ]
  },
  {
   "cell_type": "code",
   "execution_count": 16,
   "metadata": {},
   "outputs": [
    {
     "name": "stdout",
     "output_type": "stream",
     "text": [
      "Train length: 1195228\n",
      "Validation length: 149403\n",
      "Total length: 1344631\n"
     ]
    }
   ],
   "source": [
    "print(\"Train length:\", len(train_124_df))\n",
    "print(\"Validation length:\", len(eval_124_df))\n",
    "print(\"Total length:\", len(total_124_df))"
   ]
  },
  {
   "cell_type": "markdown",
   "metadata": {},
   "source": [
    "### 125. 사회과학"
   ]
  },
  {
   "cell_type": "code",
   "execution_count": 17,
   "metadata": {},
   "outputs": [],
   "source": [
    "file_path_125_train = '../125_social_science/01.데이터/1.Training_1113_add/1113_social_train_set_1210529.csv'\n",
    "file_path_125_eval = '../125_social_science/01.데이터/2.Validation_1113_add/1113_social_valid_set_151316.csv'\n",
    "\n",
    "train_125_df_raw = pd.read_csv(file_path_125_train)\n",
    "train_125_df = train_125_df_raw[['ko', 'en']]\n",
    "\n",
    "eval_125_df_raw = pd.read_csv(file_path_125_eval)\n",
    "eval_125_df = eval_125_df_raw[['ko', 'en']]\n",
    "\n",
    "total_125_df = pd.concat([train_125_df, eval_125_df], ignore_index=True)\n",
    "total_125_df['source'] = 125"
   ]
  },
  {
   "cell_type": "code",
   "execution_count": 18,
   "metadata": {},
   "outputs": [
    {
     "data": {
      "text/html": [
       "<div>\n",
       "<style scoped>\n",
       "    .dataframe tbody tr th:only-of-type {\n",
       "        vertical-align: middle;\n",
       "    }\n",
       "\n",
       "    .dataframe tbody tr th {\n",
       "        vertical-align: top;\n",
       "    }\n",
       "\n",
       "    .dataframe thead th {\n",
       "        text-align: right;\n",
       "    }\n",
       "</style>\n",
       "<table border=\"1\" class=\"dataframe\">\n",
       "  <thead>\n",
       "    <tr style=\"text-align: right;\">\n",
       "      <th></th>\n",
       "      <th>ko</th>\n",
       "      <th>en</th>\n",
       "      <th>source</th>\n",
       "    </tr>\n",
       "  </thead>\n",
       "  <tbody>\n",
       "    <tr>\n",
       "      <th>0</th>\n",
       "      <td>제2항을 함께 두는 것이 적절한지에 대하여 논의 과정에서 의문이 제기되기도 하였다.</td>\n",
       "      <td>In the course of the discussion, questions wer...</td>\n",
       "      <td>125</td>\n",
       "    </tr>\n",
       "    <tr>\n",
       "      <th>1</th>\n",
       "      <td>문제는 거래가 끊어진 경우에는 실제 거래가 이뤄지지 않기 때문에 이러한 실거래가 자...</td>\n",
       "      <td>If the transaction is cut off, the actual tran...</td>\n",
       "      <td>125</td>\n",
       "    </tr>\n",
       "    <tr>\n",
       "      <th>2</th>\n",
       "      <td>이러한 공공 부문 이동기기 개인 영상정보 규율의 문제점을 개선하기 위해 보호 체계 ...</td>\n",
       "      <td>This discussed ways to improve the protection ...</td>\n",
       "      <td>125</td>\n",
       "    </tr>\n",
       "    <tr>\n",
       "      <th>3</th>\n",
       "      <td>그 내용은 부품 사업자가 쉽게 알 수 없고 관여할 수 없기 때문에 중간 부품 생산자...</td>\n",
       "      <td>Since the contents are not easily known and in...</td>\n",
       "      <td>125</td>\n",
       "    </tr>\n",
       "    <tr>\n",
       "      <th>4</th>\n",
       "      <td>매칭정보를 획득하게 되면 통상 ‘ARP spoofing’이라는 해킹기법을 사용한다.</td>\n",
       "      <td>When matching information is obtained, a hacki...</td>\n",
       "      <td>125</td>\n",
       "    </tr>\n",
       "  </tbody>\n",
       "</table>\n",
       "</div>"
      ],
      "text/plain": [
       "                                                  ko  \\\n",
       "0     제2항을 함께 두는 것이 적절한지에 대하여 논의 과정에서 의문이 제기되기도 하였다.   \n",
       "1  문제는 거래가 끊어진 경우에는 실제 거래가 이뤄지지 않기 때문에 이러한 실거래가 자...   \n",
       "2  이러한 공공 부문 이동기기 개인 영상정보 규율의 문제점을 개선하기 위해 보호 체계 ...   \n",
       "3  그 내용은 부품 사업자가 쉽게 알 수 없고 관여할 수 없기 때문에 중간 부품 생산자...   \n",
       "4     매칭정보를 획득하게 되면 통상 ‘ARP spoofing’이라는 해킹기법을 사용한다.   \n",
       "\n",
       "                                                  en  source  \n",
       "0  In the course of the discussion, questions wer...     125  \n",
       "1  If the transaction is cut off, the actual tran...     125  \n",
       "2  This discussed ways to improve the protection ...     125  \n",
       "3  Since the contents are not easily known and in...     125  \n",
       "4  When matching information is obtained, a hacki...     125  "
      ]
     },
     "execution_count": 18,
     "metadata": {},
     "output_type": "execute_result"
    }
   ],
   "source": [
    "total_125_df.head()"
   ]
  },
  {
   "cell_type": "code",
   "execution_count": 19,
   "metadata": {},
   "outputs": [
    {
     "name": "stdout",
     "output_type": "stream",
     "text": [
      "Train length: 1210529\n",
      "Validation length: 151316\n",
      "Total length: 1361845\n"
     ]
    }
   ],
   "source": [
    "print(\"Train length:\", len(train_125_df))\n",
    "print(\"Validation length:\", len(eval_125_df))\n",
    "print(\"Total length:\", len(total_125_df))"
   ]
  },
  {
   "cell_type": "markdown",
   "metadata": {},
   "source": [
    "### 126. 일반"
   ]
  },
  {
   "cell_type": "code",
   "execution_count": 20,
   "metadata": {},
   "outputs": [
    {
     "name": "stderr",
     "output_type": "stream",
     "text": [
      "/home/tmax/anaconda3/envs/qlora/lib/python3.11/site-packages/openpyxl/styles/stylesheet.py:226: UserWarning: Workbook contains no default style, apply openpyxl's default\n",
      "  warn(\"Workbook contains no default style, apply openpyxl's default\")\n",
      "/home/tmax/anaconda3/envs/qlora/lib/python3.11/site-packages/openpyxl/styles/stylesheet.py:226: UserWarning: Workbook contains no default style, apply openpyxl's default\n",
      "  warn(\"Workbook contains no default style, apply openpyxl's default\")\n",
      "/home/tmax/anaconda3/envs/qlora/lib/python3.11/site-packages/openpyxl/styles/stylesheet.py:226: UserWarning: Workbook contains no default style, apply openpyxl's default\n",
      "  warn(\"Workbook contains no default style, apply openpyxl's default\")\n",
      "/home/tmax/anaconda3/envs/qlora/lib/python3.11/site-packages/openpyxl/styles/stylesheet.py:226: UserWarning: Workbook contains no default style, apply openpyxl's default\n",
      "  warn(\"Workbook contains no default style, apply openpyxl's default\")\n"
     ]
    }
   ],
   "source": [
    "folder_path_126 = '../126_general'\n",
    "\n",
    "total_126_df_raw = merge_excel_datasets(folder_path_126)\n",
    "total_126_df = total_126_df_raw[['원문', '번역문']]\n",
    "total_126_df = total_126_df.rename(columns={'원문': 'ko', '번역문': 'en'})\n",
    "total_126_df['source'] = 126"
   ]
  },
  {
   "cell_type": "code",
   "execution_count": 21,
   "metadata": {},
   "outputs": [
    {
     "data": {
      "text/html": [
       "<div>\n",
       "<style scoped>\n",
       "    .dataframe tbody tr th:only-of-type {\n",
       "        vertical-align: middle;\n",
       "    }\n",
       "\n",
       "    .dataframe tbody tr th {\n",
       "        vertical-align: top;\n",
       "    }\n",
       "\n",
       "    .dataframe thead th {\n",
       "        text-align: right;\n",
       "    }\n",
       "</style>\n",
       "<table border=\"1\" class=\"dataframe\">\n",
       "  <thead>\n",
       "    <tr style=\"text-align: right;\">\n",
       "      <th></th>\n",
       "      <th>ko</th>\n",
       "      <th>en</th>\n",
       "      <th>source</th>\n",
       "    </tr>\n",
       "  </thead>\n",
       "  <tbody>\n",
       "    <tr>\n",
       "      <th>0</th>\n",
       "      <td>그 이후 그의 행방이 알려지지 않은 상황이다.</td>\n",
       "      <td>Since then, his whereabouts are unknown.</td>\n",
       "      <td>126</td>\n",
       "    </tr>\n",
       "    <tr>\n",
       "      <th>1</th>\n",
       "      <td>그녀가 사라진 후 각종 의혹은 꼬리를 물었다.</td>\n",
       "      <td>Various doubts arose after she disappeared.</td>\n",
       "      <td>126</td>\n",
       "    </tr>\n",
       "    <tr>\n",
       "      <th>2</th>\n",
       "      <td>당연히 러시아인 승객이 제일 먼저 부름을 받았다.</td>\n",
       "      <td>Naturally, Russian passengers were called first.</td>\n",
       "      <td>126</td>\n",
       "    </tr>\n",
       "    <tr>\n",
       "      <th>3</th>\n",
       "      <td>더 중요한 것은 고용이 대체적으로 안정됐다는 점이다.</td>\n",
       "      <td>More importantly, employment is generally stable.</td>\n",
       "      <td>126</td>\n",
       "    </tr>\n",
       "    <tr>\n",
       "      <th>4</th>\n",
       "      <td>모세가 죽고 나서 이제 여호수아가 이스라엘을 이끌었습니다.</td>\n",
       "      <td>Joshua led Israel after Moses died.</td>\n",
       "      <td>126</td>\n",
       "    </tr>\n",
       "  </tbody>\n",
       "</table>\n",
       "</div>"
      ],
      "text/plain": [
       "                                 ko  \\\n",
       "0         그 이후 그의 행방이 알려지지 않은 상황이다.   \n",
       "1         그녀가 사라진 후 각종 의혹은 꼬리를 물었다.   \n",
       "2       당연히 러시아인 승객이 제일 먼저 부름을 받았다.   \n",
       "3     더 중요한 것은 고용이 대체적으로 안정됐다는 점이다.   \n",
       "4  모세가 죽고 나서 이제 여호수아가 이스라엘을 이끌었습니다.   \n",
       "\n",
       "                                                  en  source  \n",
       "0           Since then, his whereabouts are unknown.     126  \n",
       "1        Various doubts arose after she disappeared.     126  \n",
       "2   Naturally, Russian passengers were called first.     126  \n",
       "3  More importantly, employment is generally stable.     126  \n",
       "4                Joshua led Israel after Moses died.     126  "
      ]
     },
     "execution_count": 21,
     "metadata": {},
     "output_type": "execute_result"
    }
   ],
   "source": [
    "total_126_df.head()"
   ]
  },
  {
   "cell_type": "code",
   "execution_count": 22,
   "metadata": {},
   "outputs": [
    {
     "name": "stdout",
     "output_type": "stream",
     "text": [
      "Total length: 1602418\n"
     ]
    }
   ],
   "source": [
    "print(\"Total length:\", len(total_126_df))"
   ]
  },
  {
   "cell_type": "markdown",
   "metadata": {},
   "source": [
    "### 563. 산업특허"
   ]
  },
  {
   "cell_type": "code",
   "execution_count": 23,
   "metadata": {},
   "outputs": [
    {
     "name": "stderr",
     "output_type": "stream",
     "text": [
      "100%|██████████| 500/500 [00:36<00:00, 13.74it/s]\n",
      "100%|██████████| 500/500 [00:04<00:00, 118.03it/s]\n"
     ]
    }
   ],
   "source": [
    "folder_path_563_train = '../563_industrial_patent/01.데이터/1.Training/라벨링데이터_0831_add'\n",
    "folder_path_563_eval = '../563_industrial_patent/01.데이터/2.Validation/라벨링데이터_0831_add'\n",
    "\n",
    "train_563_df_raw = merge_json_datasets(folder_path_563_train, top_category='labeled_data')\n",
    "train_563_df = train_563_df_raw[['astrt_cont_kor', 'astrt_cont_eng']]\n",
    "train_563_df = train_563_df.rename(columns={'astrt_cont_kor': 'ko', 'astrt_cont_eng': 'en'})\n",
    "\n",
    "eval_563_df_raw = merge_json_datasets(folder_path_563_eval, top_category='labeled_data')\n",
    "eval_563_df = eval_563_df_raw[['astrt_cont_kor', 'astrt_cont_eng']]\n",
    "eval_563_df = eval_563_df.rename(columns={'astrt_cont_kor': 'ko', 'astrt_cont_eng': 'en'})\n",
    "\n",
    "total_563_df = pd.concat([train_563_df, eval_563_df], ignore_index=True)\n",
    "total_563_df['source'] = 563"
   ]
  },
  {
   "cell_type": "code",
   "execution_count": 24,
   "metadata": {},
   "outputs": [
    {
     "data": {
      "text/html": [
       "<div>\n",
       "<style scoped>\n",
       "    .dataframe tbody tr th:only-of-type {\n",
       "        vertical-align: middle;\n",
       "    }\n",
       "\n",
       "    .dataframe tbody tr th {\n",
       "        vertical-align: top;\n",
       "    }\n",
       "\n",
       "    .dataframe thead th {\n",
       "        text-align: right;\n",
       "    }\n",
       "</style>\n",
       "<table border=\"1\" class=\"dataframe\">\n",
       "  <thead>\n",
       "    <tr style=\"text-align: right;\">\n",
       "      <th></th>\n",
       "      <th>ko</th>\n",
       "      <th>en</th>\n",
       "      <th>source</th>\n",
       "    </tr>\n",
       "  </thead>\n",
       "  <tbody>\n",
       "    <tr>\n",
       "      <th>0</th>\n",
       "      <td>생체임피던스 분광학을 사용하여 피부 나트륨 함량을 결정하기 위한 기술은 사전결정된 ...</td>\n",
       "      <td>A technique for determining skin sodium conten...</td>\n",
       "      <td>563</td>\n",
       "    </tr>\n",
       "    <tr>\n",
       "      <th>1</th>\n",
       "      <td>본 발명은 에탄 또는 이산화탄소(이들은 액체 매질에 실질적으로 용해됨) 및 단량체(...</td>\n",
       "      <td>The invention relates to an efficient process ...</td>\n",
       "      <td>563</td>\n",
       "    </tr>\n",
       "    <tr>\n",
       "      <th>2</th>\n",
       "      <td>본원에 개시된 방법 및 시스템은 앵커 배치를 위한 시스템 및 방법을 제공한다.</td>\n",
       "      <td>Methods and systems disclosed herein provide s...</td>\n",
       "      <td>563</td>\n",
       "    </tr>\n",
       "    <tr>\n",
       "      <th>3</th>\n",
       "      <td>pINF-α에서의 선택 위치에 합성 아미노산, 및 신호 펩티드의 제거 후 N-말단에...</td>\n",
       "      <td>Disclosed herein are porcine interferon alpha ...</td>\n",
       "      <td>563</td>\n",
       "    </tr>\n",
       "    <tr>\n",
       "      <th>4</th>\n",
       "      <td>근단(proximal end)(23)과 원단(distal end)(20)과, 종 방...</td>\n",
       "      <td>A vitreous cutter for use in removing vitreous...</td>\n",
       "      <td>563</td>\n",
       "    </tr>\n",
       "  </tbody>\n",
       "</table>\n",
       "</div>"
      ],
      "text/plain": [
       "                                                  ko  \\\n",
       "0  생체임피던스 분광학을 사용하여 피부 나트륨 함량을 결정하기 위한 기술은 사전결정된 ...   \n",
       "1  본 발명은 에탄 또는 이산화탄소(이들은 액체 매질에 실질적으로 용해됨) 및 단량체(...   \n",
       "2        본원에 개시된 방법 및 시스템은 앵커 배치를 위한 시스템 및 방법을 제공한다.   \n",
       "3  pINF-α에서의 선택 위치에 합성 아미노산, 및 신호 펩티드의 제거 후 N-말단에...   \n",
       "4  근단(proximal end)(23)과 원단(distal end)(20)과, 종 방...   \n",
       "\n",
       "                                                  en  source  \n",
       "0  A technique for determining skin sodium conten...     563  \n",
       "1  The invention relates to an efficient process ...     563  \n",
       "2  Methods and systems disclosed herein provide s...     563  \n",
       "3  Disclosed herein are porcine interferon alpha ...     563  \n",
       "4  A vitreous cutter for use in removing vitreous...     563  "
      ]
     },
     "execution_count": 24,
     "metadata": {},
     "output_type": "execute_result"
    }
   ],
   "source": [
    "total_563_df.head()"
   ]
  },
  {
   "cell_type": "code",
   "execution_count": 25,
   "metadata": {},
   "outputs": [
    {
     "name": "stdout",
     "output_type": "stream",
     "text": [
      "Train length: 319997\n",
      "Validation length: 40002\n",
      "Total length: 359999\n"
     ]
    }
   ],
   "source": [
    "print(\"Train length:\", len(train_563_df))\n",
    "print(\"Validation length:\", len(eval_563_df))\n",
    "print(\"Total length:\", len(total_563_df))"
   ]
  },
  {
   "cell_type": "markdown",
   "metadata": {},
   "source": [
    "### 71265. 구어체"
   ]
  },
  {
   "cell_type": "code",
   "execution_count": 26,
   "metadata": {},
   "outputs": [
    {
     "name": "stderr",
     "output_type": "stream",
     "text": [
      "100%|██████████| 2/2 [00:29<00:00, 14.57s/it]\n",
      "100%|██████████| 2/2 [00:03<00:00,  1.92s/it]\n"
     ]
    }
   ],
   "source": [
    "folder_path_71265_train = '../71265_colloquial/01.데이터/1.Training/라벨링데이터'\n",
    "folder_path_71265_eval = '../71265_colloquial/01.데이터/2.Validation/라벨링데이터'\n",
    "\n",
    "train_71265_df_raw = merge_json_datasets(folder_path_71265_train, top_category='data')\n",
    "train_71265_df = train_71265_df_raw[['ko', 'en']]\n",
    "eval_71265_df_raw = merge_json_datasets(folder_path_71265_eval, top_category='data')\n",
    "eval_71265_df = eval_71265_df_raw[['ko', 'en']]\n",
    "\n",
    "total_71265_df = pd.concat([train_71265_df, eval_71265_df], ignore_index=True)\n",
    "total_71265_df['source'] = 71265"
   ]
  },
  {
   "cell_type": "code",
   "execution_count": 27,
   "metadata": {},
   "outputs": [
    {
     "data": {
      "text/html": [
       "<div>\n",
       "<style scoped>\n",
       "    .dataframe tbody tr th:only-of-type {\n",
       "        vertical-align: middle;\n",
       "    }\n",
       "\n",
       "    .dataframe tbody tr th {\n",
       "        vertical-align: top;\n",
       "    }\n",
       "\n",
       "    .dataframe thead th {\n",
       "        text-align: right;\n",
       "    }\n",
       "</style>\n",
       "<table border=\"1\" class=\"dataframe\">\n",
       "  <thead>\n",
       "    <tr style=\"text-align: right;\">\n",
       "      <th></th>\n",
       "      <th>ko</th>\n",
       "      <th>en</th>\n",
       "      <th>source</th>\n",
       "    </tr>\n",
       "  </thead>\n",
       "  <tbody>\n",
       "    <tr>\n",
       "      <th>0</th>\n",
       "      <td>그 말을 들으니 기쁘고, 저희와 거래하는 것을 고려해 주셨으면 합니다.</td>\n",
       "      <td>I'm glad to hear that, and I hope you do consi...</td>\n",
       "      <td>71265</td>\n",
       "    </tr>\n",
       "    <tr>\n",
       "      <th>1</th>\n",
       "      <td>확실히 생각하고 있습니다만, 몇 가지 여쭤보고 싶은 게 있어요.</td>\n",
       "      <td>I'm definitely thinking about it, but I have s...</td>\n",
       "      <td>71265</td>\n",
       "    </tr>\n",
       "    <tr>\n",
       "      <th>2</th>\n",
       "      <td>오늘날 세계 5가구 중 1가구는 고양이나 개 또는 둘 다를 키우고 있습니다.</td>\n",
       "      <td>In today's world, one in every five families h...</td>\n",
       "      <td>71265</td>\n",
       "    </tr>\n",
       "    <tr>\n",
       "      <th>3</th>\n",
       "      <td>그들에게 말하면, 저희가 그 아이들을 돌볼 것입니다.</td>\n",
       "      <td>When you tell them, we'll take care of their c...</td>\n",
       "      <td>71265</td>\n",
       "    </tr>\n",
       "    <tr>\n",
       "      <th>4</th>\n",
       "      <td>좋아요, 수영은 어떤가요?</td>\n",
       "      <td>OK, how about for swimming?</td>\n",
       "      <td>71265</td>\n",
       "    </tr>\n",
       "  </tbody>\n",
       "</table>\n",
       "</div>"
      ],
      "text/plain": [
       "                                           ko  \\\n",
       "0     그 말을 들으니 기쁘고, 저희와 거래하는 것을 고려해 주셨으면 합니다.   \n",
       "1         확실히 생각하고 있습니다만, 몇 가지 여쭤보고 싶은 게 있어요.   \n",
       "2  오늘날 세계 5가구 중 1가구는 고양이나 개 또는 둘 다를 키우고 있습니다.   \n",
       "3               그들에게 말하면, 저희가 그 아이들을 돌볼 것입니다.   \n",
       "4                              좋아요, 수영은 어떤가요?   \n",
       "\n",
       "                                                  en  source  \n",
       "0  I'm glad to hear that, and I hope you do consi...   71265  \n",
       "1  I'm definitely thinking about it, but I have s...   71265  \n",
       "2  In today's world, one in every five families h...   71265  \n",
       "3  When you tell them, we'll take care of their c...   71265  \n",
       "4                        OK, how about for swimming?   71265  "
      ]
     },
     "execution_count": 27,
     "metadata": {},
     "output_type": "execute_result"
    }
   ],
   "source": [
    "total_71265_df.head()"
   ]
  },
  {
   "cell_type": "code",
   "execution_count": 28,
   "metadata": {},
   "outputs": [
    {
     "name": "stdout",
     "output_type": "stream",
     "text": [
      "Train length: 2400307\n",
      "Validation length: 300038\n",
      "Total length: 2700345\n"
     ]
    }
   ],
   "source": [
    "print(\"Train length:\", len(train_71265_df))\n",
    "print(\"Validation length:\", len(eval_71265_df))\n",
    "print(\"Total length:\", len(total_71265_df))"
   ]
  },
  {
   "cell_type": "markdown",
   "metadata": {},
   "source": [
    "### 71266. 기술과학 2"
   ]
  },
  {
   "cell_type": "code",
   "execution_count": 29,
   "metadata": {},
   "outputs": [
    {
     "name": "stderr",
     "output_type": "stream",
     "text": [
      "100%|██████████| 1/1 [00:22<00:00, 22.63s/it]\n",
      "100%|██████████| 1/1 [00:02<00:00,  2.78s/it]\n"
     ]
    }
   ],
   "source": [
    "folder_path_71266_train = '../71266_tech_and_science_1/01.데이터/1.Training/라벨링데이터'\n",
    "folder_path_71266_eval = '../71266_tech_and_science_1/01.데이터/2.Validation/라벨링데이터'\n",
    "\n",
    "train_71266_df_raw = merge_json_datasets(folder_path_71266_train, top_category='data')\n",
    "train_71266_df = train_71266_df_raw[['ko', 'en']]\n",
    "eval_71266_df_raw = merge_json_datasets(folder_path_71266_eval, top_category='data')\n",
    "eval_71266_df = eval_71266_df_raw[['ko', 'en']]\n",
    "\n",
    "total_71266_df = pd.concat([train_71266_df, eval_71266_df], ignore_index=True)\n",
    "total_71266_df['source'] = 71266"
   ]
  },
  {
   "cell_type": "code",
   "execution_count": 30,
   "metadata": {},
   "outputs": [
    {
     "data": {
      "text/html": [
       "<div>\n",
       "<style scoped>\n",
       "    .dataframe tbody tr th:only-of-type {\n",
       "        vertical-align: middle;\n",
       "    }\n",
       "\n",
       "    .dataframe tbody tr th {\n",
       "        vertical-align: top;\n",
       "    }\n",
       "\n",
       "    .dataframe thead th {\n",
       "        text-align: right;\n",
       "    }\n",
       "</style>\n",
       "<table border=\"1\" class=\"dataframe\">\n",
       "  <thead>\n",
       "    <tr style=\"text-align: right;\">\n",
       "      <th></th>\n",
       "      <th>ko</th>\n",
       "      <th>en</th>\n",
       "      <th>source</th>\n",
       "    </tr>\n",
       "  </thead>\n",
       "  <tbody>\n",
       "    <tr>\n",
       "      <th>0</th>\n",
       "      <td>한 의료단체는 연방법원에 보건부 지침 취소를 요구하는 소송을 제기하기도 했다.</td>\n",
       "      <td>A medical group has even filed a federal court...</td>\n",
       "      <td>71266</td>\n",
       "    </tr>\n",
       "    <tr>\n",
       "      <th>1</th>\n",
       "      <td>특정 지역에서는 순위 변동이 크게 나타나고 있는 점에 주목해야 한다.</td>\n",
       "      <td>It should be noted that there are significant ...</td>\n",
       "      <td>71266</td>\n",
       "    </tr>\n",
       "    <tr>\n",
       "      <th>2</th>\n",
       "      <td>일본·중국·한국의 학자들이 참석해 개발학의 현황부터 유엔의 '2030 지속가능 개발...</td>\n",
       "      <td>Scholars from Japan, China, and Korea will loo...</td>\n",
       "      <td>71266</td>\n",
       "    </tr>\n",
       "    <tr>\n",
       "      <th>3</th>\n",
       "      <td>비교기(1235 및 1237)는 설정에 따라 Relu 활성함수로 나타낼 수 있으며,...</td>\n",
       "      <td>The comparators 1235 and 1237 may be expressed...</td>\n",
       "      <td>71266</td>\n",
       "    </tr>\n",
       "    <tr>\n",
       "      <th>4</th>\n",
       "      <td>이 프로그램은 도시 재생의 초점을 낙후 지역이나 불량 주택을 철거하기보다는 근린 지...</td>\n",
       "      <td>The program is credited with focusing urban re...</td>\n",
       "      <td>71266</td>\n",
       "    </tr>\n",
       "  </tbody>\n",
       "</table>\n",
       "</div>"
      ],
      "text/plain": [
       "                                                  ko  \\\n",
       "0        한 의료단체는 연방법원에 보건부 지침 취소를 요구하는 소송을 제기하기도 했다.   \n",
       "1             특정 지역에서는 순위 변동이 크게 나타나고 있는 점에 주목해야 한다.   \n",
       "2  일본·중국·한국의 학자들이 참석해 개발학의 현황부터 유엔의 '2030 지속가능 개발...   \n",
       "3  비교기(1235 및 1237)는 설정에 따라 Relu 활성함수로 나타낼 수 있으며,...   \n",
       "4  이 프로그램은 도시 재생의 초점을 낙후 지역이나 불량 주택을 철거하기보다는 근린 지...   \n",
       "\n",
       "                                                  en  source  \n",
       "0  A medical group has even filed a federal court...   71266  \n",
       "1  It should be noted that there are significant ...   71266  \n",
       "2  Scholars from Japan, China, and Korea will loo...   71266  \n",
       "3  The comparators 1235 and 1237 may be expressed...   71266  \n",
       "4  The program is credited with focusing urban re...   71266  "
      ]
     },
     "execution_count": 30,
     "metadata": {},
     "output_type": "execute_result"
    }
   ],
   "source": [
    "total_71266_df.head()"
   ]
  },
  {
   "cell_type": "code",
   "execution_count": 31,
   "metadata": {},
   "outputs": [
    {
     "name": "stdout",
     "output_type": "stream",
     "text": [
      "Train length: 1200144\n",
      "Validation length: 150018\n",
      "Total length: 1350162\n"
     ]
    }
   ],
   "source": [
    "print(\"Train length:\", len(train_71266_df))\n",
    "print(\"Validation length:\", len(eval_71266_df))\n",
    "print(\"Total length:\", len(total_71266_df))"
   ]
  },
  {
   "cell_type": "markdown",
   "metadata": {},
   "source": [
    "### 71382. 방송콘텐츠"
   ]
  },
  {
   "cell_type": "code",
   "execution_count": 32,
   "metadata": {},
   "outputs": [],
   "source": [
    "def is_korean(text):\n",
    "    korean_pattern = re.compile('[ㄱ-ㅎㅏ-ㅣ가-힣]+')\n",
    "    return bool(korean_pattern.search(text))"
   ]
  },
  {
   "cell_type": "code",
   "execution_count": 3,
   "metadata": {},
   "outputs": [
    {
     "name": "stderr",
     "output_type": "stream",
     "text": [
      "100%|██████████| 521653/521653 [01:18<00:00, 6651.52it/s]\n",
      "100%|██████████| 65431/65431 [00:10<00:00, 6036.47it/s]\n"
     ]
    }
   ],
   "source": [
    "folder_path_71382_train = '../71382_broadcast_contents/01-1.정식개방데이터/Training/02.라벨링데이터'\n",
    "folder_path_71382_eval = '../71382_broadcast_contents/01-1.정식개방데이터/Validation/02.라벨링데이터'\n",
    "\n",
    "train_71382_df_raw = merge_json_datasets_parallel(folder_path_71382_train, num_processes=4)\n",
    "train_71382_df = train_71382_df_raw[['원문', '최종번역문']]\n",
    "train_71382_df = train_71382_df.rename(columns={'원문': 'ko', '최종번역문': 'en'})\n",
    "for idx, row in train_71382_df.iterrows():\n",
    "    if is_korean(row['en']):\n",
    "        train_71382_df.at[idx, 'ko'], train_71382_df.at[idx, 'en'] = train_71382_df.at[idx, 'en'], train_71382_df.at[idx, 'ko']\n",
    "\n",
    "eval_71382_df_raw = merge_json_datasets_parallel(folder_path_71382_eval, num_processes=4)\n",
    "eval_71382_df = eval_71382_df_raw[['원문', '최종번역문']]\n",
    "eval_71382_df = eval_71382_df.rename(columns={'원문': 'ko', '최종번역문': 'en'})\n",
    "for idx, row in eval_71382_df.iterrows():\n",
    "    if is_korean(row['en']):\n",
    "        eval_71382_df.at[idx, 'ko'], eval_71382_df.at[idx, 'en'] = eval_71382_df.at[idx, 'en'], eval_71382_df.at[idx, 'ko']\n",
    "\n",
    "total_71382_df = pd.concat([train_71382_df, eval_71382_df], ignore_index=True)\n",
    "total_71382_df['source'] = 71382"
   ]
  },
  {
   "cell_type": "code",
   "execution_count": 8,
   "metadata": {},
   "outputs": [
    {
     "data": {
      "text/html": [
       "<div>\n",
       "<style scoped>\n",
       "    .dataframe tbody tr th:only-of-type {\n",
       "        vertical-align: middle;\n",
       "    }\n",
       "\n",
       "    .dataframe tbody tr th {\n",
       "        vertical-align: top;\n",
       "    }\n",
       "\n",
       "    .dataframe thead th {\n",
       "        text-align: right;\n",
       "    }\n",
       "</style>\n",
       "<table border=\"1\" class=\"dataframe\">\n",
       "  <thead>\n",
       "    <tr style=\"text-align: right;\">\n",
       "      <th></th>\n",
       "      <th>ko</th>\n",
       "      <th>en</th>\n",
       "      <th>source</th>\n",
       "    </tr>\n",
       "  </thead>\n",
       "  <tbody>\n",
       "    <tr>\n",
       "      <th>0</th>\n",
       "      <td>이 작물은 잎과 뿌리를 모두 먹을 수 있는 채소인데요.</td>\n",
       "      <td>This crop is a vegetable in which both leaves ...</td>\n",
       "      <td>71382</td>\n",
       "    </tr>\n",
       "    <tr>\n",
       "      <th>1</th>\n",
       "      <td>우리가 끝낼 수 있을까요?</td>\n",
       "      <td>Are we gonna finish it?</td>\n",
       "      <td>71382</td>\n",
       "    </tr>\n",
       "    <tr>\n",
       "      <th>2</th>\n",
       "      <td>네, 시청자 여러분에게 마지막 인사 부탁드려요.</td>\n",
       "      <td>Yes, please say one last goodbye for the viewers.</td>\n",
       "      <td>71382</td>\n",
       "    </tr>\n",
       "    <tr>\n",
       "      <th>3</th>\n",
       "      <td>엄마의 사랑이 만드는 옷이네요.</td>\n",
       "      <td>These are clothes made by mom's love.</td>\n",
       "      <td>71382</td>\n",
       "    </tr>\n",
       "    <tr>\n",
       "      <th>4</th>\n",
       "      <td>인도네시아는 오늘날 진정한 민주주의 국가이지만 이슬람 정당은 2004년 약 38%에...</td>\n",
       "      <td>Indonesia is a true democracy today, but Islam...</td>\n",
       "      <td>71382</td>\n",
       "    </tr>\n",
       "  </tbody>\n",
       "</table>\n",
       "</div>"
      ],
      "text/plain": [
       "                                                  ko  \\\n",
       "0                     이 작물은 잎과 뿌리를 모두 먹을 수 있는 채소인데요.   \n",
       "1                                     우리가 끝낼 수 있을까요?   \n",
       "2                         네, 시청자 여러분에게 마지막 인사 부탁드려요.   \n",
       "3                                  엄마의 사랑이 만드는 옷이네요.   \n",
       "4  인도네시아는 오늘날 진정한 민주주의 국가이지만 이슬람 정당은 2004년 약 38%에...   \n",
       "\n",
       "                                                  en  source  \n",
       "0  This crop is a vegetable in which both leaves ...   71382  \n",
       "1                            Are we gonna finish it?   71382  \n",
       "2  Yes, please say one last goodbye for the viewers.   71382  \n",
       "3              These are clothes made by mom's love.   71382  \n",
       "4  Indonesia is a true democracy today, but Islam...   71382  "
      ]
     },
     "execution_count": 8,
     "metadata": {},
     "output_type": "execute_result"
    }
   ],
   "source": [
    "total_71382_df.head()"
   ]
  },
  {
   "cell_type": "code",
   "execution_count": 9,
   "metadata": {},
   "outputs": [
    {
     "name": "stdout",
     "output_type": "stream",
     "text": [
      "Train length: 521653\n",
      "Validation length: 65431\n",
      "Total length: 587084\n"
     ]
    }
   ],
   "source": [
    "print(\"Train length:\", len(train_71382_df))\n",
    "print(\"Validation length:\", len(eval_71382_df))\n",
    "print(\"Total length:\", len(total_71382_df))"
   ]
  },
  {
   "cell_type": "markdown",
   "metadata": {},
   "source": [
    "### 개별 저장 및 통합"
   ]
  },
  {
   "cell_type": "code",
   "execution_count": 33,
   "metadata": {},
   "outputs": [],
   "source": [
    "total_111_df.to_csv('./integrated_subsets/111_expertized_fields_raw.csv', index=False)\n",
    "total_124_df.to_csv('./integrated_subsets/124_tech_and_science_2_raw.csv', index=False)\n",
    "total_125_df.to_csv('./integrated_subsets/125_social_science_raw.csv', index=False)\n",
    "total_126_df.to_csv('./integrated_subsets/126_general_raw.csv', index=False)\n",
    "total_563_df.to_csv('./integrated_subsets/563_industrial_patent_raw.csv', index=False)\n",
    "total_71265_df.to_csv('./integrated_subsets/71265_colloquial_raw.csv', index=False)\n",
    "total_71266_df.to_csv('./integrated_subsets/71266_tech_and_science_1_raw.csv', index=False)\n",
    "total_71382_df.to_csv('./integrated_subsets/71382_broadcast_contents_raw.csv', index=False)"
   ]
  },
  {
   "cell_type": "code",
   "execution_count": 43,
   "metadata": {},
   "outputs": [
    {
     "data": {
      "text/html": [
       "<div>\n",
       "<style scoped>\n",
       "    .dataframe tbody tr th:only-of-type {\n",
       "        vertical-align: middle;\n",
       "    }\n",
       "\n",
       "    .dataframe tbody tr th {\n",
       "        vertical-align: top;\n",
       "    }\n",
       "\n",
       "    .dataframe thead th {\n",
       "        text-align: right;\n",
       "    }\n",
       "</style>\n",
       "<table border=\"1\" class=\"dataframe\">\n",
       "  <thead>\n",
       "    <tr style=\"text-align: right;\">\n",
       "      <th></th>\n",
       "      <th>ko</th>\n",
       "      <th>en</th>\n",
       "      <th>source</th>\n",
       "    </tr>\n",
       "  </thead>\n",
       "  <tbody>\n",
       "    <tr>\n",
       "      <th>0</th>\n",
       "      <td>통영 용남면 장평리 바닷가 해안도로 앞에 위치한 통영 늘푸른 펜션에 오신 것을 환영...</td>\n",
       "      <td>Welcome to Tongyeong's Evergreen Pension locat...</td>\n",
       "      <td>111</td>\n",
       "    </tr>\n",
       "    <tr>\n",
       "      <th>1</th>\n",
       "      <td>허브아일랜드의 불빛동화 축제는 국내 최고 겨울축제 중 하나로 꼽힌다.</td>\n",
       "      <td>Herb Island's Light Fairy Tale Festival is con...</td>\n",
       "      <td>111</td>\n",
       "    </tr>\n",
       "    <tr>\n",
       "      <th>2</th>\n",
       "      <td>봉비산 자락에 위치하고 있는 도심 속의 전통 사찰이다.</td>\n",
       "      <td>It is a traditional temple in the city center ...</td>\n",
       "      <td>111</td>\n",
       "    </tr>\n",
       "    <tr>\n",
       "      <th>3</th>\n",
       "      <td>수룡동 마을안길로 들어가면 쉽게 오를 수 있다.</td>\n",
       "      <td>It can be easily climbed by entering the insid...</td>\n",
       "      <td>111</td>\n",
       "    </tr>\n",
       "    <tr>\n",
       "      <th>4</th>\n",
       "      <td>토스 측은 \"가족과 함께 송편을 나눠먹듯, 송편지원금 또한 가족, 친척, 친구, 오...</td>\n",
       "      <td>Toss explained the meaning of the event, sayin...</td>\n",
       "      <td>111</td>\n",
       "    </tr>\n",
       "  </tbody>\n",
       "</table>\n",
       "</div>"
      ],
      "text/plain": [
       "                                                  ko  \\\n",
       "0  통영 용남면 장평리 바닷가 해안도로 앞에 위치한 통영 늘푸른 펜션에 오신 것을 환영...   \n",
       "1             허브아일랜드의 불빛동화 축제는 국내 최고 겨울축제 중 하나로 꼽힌다.   \n",
       "2                     봉비산 자락에 위치하고 있는 도심 속의 전통 사찰이다.   \n",
       "3                         수룡동 마을안길로 들어가면 쉽게 오를 수 있다.   \n",
       "4  토스 측은 \"가족과 함께 송편을 나눠먹듯, 송편지원금 또한 가족, 친척, 친구, 오...   \n",
       "\n",
       "                                                  en  source  \n",
       "0  Welcome to Tongyeong's Evergreen Pension locat...     111  \n",
       "1  Herb Island's Light Fairy Tale Festival is con...     111  \n",
       "2  It is a traditional temple in the city center ...     111  \n",
       "3  It can be easily climbed by entering the insid...     111  \n",
       "4  Toss explained the meaning of the event, sayin...     111  "
      ]
     },
     "execution_count": 43,
     "metadata": {},
     "output_type": "execute_result"
    }
   ],
   "source": [
    "subset_df_list = [\n",
    "    total_111_df, \n",
    "    total_124_df, \n",
    "    total_125_df, \n",
    "    total_126_df, \n",
    "    total_563_df, \n",
    "    total_71265_df, \n",
    "    total_71266_df, \n",
    "    total_71382_df\n",
    "]\n",
    "\n",
    "total_df = pd.concat(subset_df_list, ignore_index=True)\n",
    "total_df.head()"
   ]
  },
  {
   "cell_type": "code",
   "execution_count": 36,
   "metadata": {},
   "outputs": [
    {
     "name": "stdout",
     "output_type": "stream",
     "text": [
      "Total length: 10656484\n"
     ]
    }
   ],
   "source": [
    "print(\"Total length:\", len(total_df))"
   ]
  },
  {
   "cell_type": "code",
   "execution_count": 46,
   "metadata": {},
   "outputs": [
    {
     "name": "stdout",
     "output_type": "stream",
     "text": [
      "Dataset #111(expertized_fields)'s proportion: 12.67%\n",
      "Dataset #124(tech_and_science_2)'s proportion: 12.62%\n",
      "Dataset #125(social_science)'s proportion: 12.78%\n",
      "Dataset #126(general)'s proportion: 15.04%\n",
      "Dataset #563(industrial_patent)'s proportion: 3.38%\n",
      "Dataset #71265(colloquial)'s proportion: 25.34%\n",
      "Dataset #71266(tech_and_science_1)'s proportion: 12.67%\n",
      "Dataset #71382(broadcast_contents)'s proportion: 5.51%\n"
     ]
    }
   ],
   "source": [
    "subset_df_name_dict = {\n",
    "    111: 'expertized_fields', \n",
    "    124: 'tech_and_science_2', \n",
    "    125: 'social_science', \n",
    "    126: 'general', \n",
    "    563: 'industrial_patent', \n",
    "    71265: 'colloquial', \n",
    "    71266: 'tech_and_science_1', \n",
    "    71382: 'broadcast_contents'\n",
    "}\n",
    "for num, name, df in zip(subset_df_name_dict.keys(), subset_df_name_dict.values(), subset_df_list):\n",
    "    print(f\"Dataset #{num}({name})'s proportion: {len(df)/len(total_df) * 100:.2f}%\")"
   ]
  },
  {
   "cell_type": "code",
   "execution_count": 37,
   "metadata": {},
   "outputs": [],
   "source": [
    "total_df.to_csv('./integrated_subsets/total_raw.csv', index=False)"
   ]
  },
  {
   "cell_type": "code",
   "execution_count": 40,
   "metadata": {},
   "outputs": [
    {
     "data": {
      "text/html": [
       "<div>\n",
       "<style scoped>\n",
       "    .dataframe tbody tr th:only-of-type {\n",
       "        vertical-align: middle;\n",
       "    }\n",
       "\n",
       "    .dataframe tbody tr th {\n",
       "        vertical-align: top;\n",
       "    }\n",
       "\n",
       "    .dataframe thead th {\n",
       "        text-align: right;\n",
       "    }\n",
       "</style>\n",
       "<table border=\"1\" class=\"dataframe\">\n",
       "  <thead>\n",
       "    <tr style=\"text-align: right;\">\n",
       "      <th></th>\n",
       "      <th>ko</th>\n",
       "      <th>en</th>\n",
       "      <th>source</th>\n",
       "    </tr>\n",
       "  </thead>\n",
       "  <tbody>\n",
       "    <tr>\n",
       "      <th>8551364</th>\n",
       "      <td>그 결과 오염이 최소화되었습니다.</td>\n",
       "      <td>As a result, pollution has been minimized.</td>\n",
       "      <td>71265</td>\n",
       "    </tr>\n",
       "    <tr>\n",
       "      <th>9923056</th>\n",
       "      <td>AAA의 정의 2원칙 중에서 제1원칙은 \"자유 우선 원칙\"이며, 제2원칙은 \"차등의...</td>\n",
       "      <td>Among the two definitions of the AAA, the firs...</td>\n",
       "      <td>71266</td>\n",
       "    </tr>\n",
       "    <tr>\n",
       "      <th>9819744</th>\n",
       "      <td>이 연구는 미국 J. 크레이그 벤터 연구소의 유인 커크니스와 일리노이주립대 어바나 ...</td>\n",
       "      <td>The study was led by Mann Kirkness of the J. C...</td>\n",
       "      <td>71266</td>\n",
       "    </tr>\n",
       "    <tr>\n",
       "      <th>2781159</th>\n",
       "      <td>교사는 자신에 대하여 긍정적인 정서를 갖지 않은 학생들에게도 잠재적 차원에서 그들의...</td>\n",
       "      <td>Teachers need to pay attention to maintaining ...</td>\n",
       "      <td>125</td>\n",
       "    </tr>\n",
       "    <tr>\n",
       "      <th>2450356</th>\n",
       "      <td>따라서, 사용자는 수신자의 상태를 알 수 없으므로 여러 번 연결 시도를 해야하는 불...</td>\n",
       "      <td>Accordingly, since the user cannot know the st...</td>\n",
       "      <td>124</td>\n",
       "    </tr>\n",
       "  </tbody>\n",
       "</table>\n",
       "</div>"
      ],
      "text/plain": [
       "                                                        ko  \\\n",
       "8551364                                 그 결과 오염이 최소화되었습니다.   \n",
       "9923056  AAA의 정의 2원칙 중에서 제1원칙은 \"자유 우선 원칙\"이며, 제2원칙은 \"차등의...   \n",
       "9819744  이 연구는 미국 J. 크레이그 벤터 연구소의 유인 커크니스와 일리노이주립대 어바나 ...   \n",
       "2781159  교사는 자신에 대하여 긍정적인 정서를 갖지 않은 학생들에게도 잠재적 차원에서 그들의...   \n",
       "2450356  따라서, 사용자는 수신자의 상태를 알 수 없으므로 여러 번 연결 시도를 해야하는 불...   \n",
       "\n",
       "                                                        en  source  \n",
       "8551364         As a result, pollution has been minimized.   71265  \n",
       "9923056  Among the two definitions of the AAA, the firs...   71266  \n",
       "9819744  The study was led by Mann Kirkness of the J. C...   71266  \n",
       "2781159  Teachers need to pay attention to maintaining ...     125  \n",
       "2450356  Accordingly, since the user cannot know the st...     124  "
      ]
     },
     "execution_count": 40,
     "metadata": {},
     "output_type": "execute_result"
    }
   ],
   "source": [
    "sample_df = total_df.sample(n=10000, random_state=42)\n",
    "sample_df.head()"
   ]
  },
  {
   "cell_type": "code",
   "execution_count": 41,
   "metadata": {},
   "outputs": [],
   "source": [
    "sample_df.to_csv('./integrated_subsets/sample_raw_10000.csv', index=False)"
   ]
  },
  {
   "cell_type": "code",
   "execution_count": null,
   "metadata": {},
   "outputs": [],
   "source": []
  }
 ],
 "metadata": {
  "kernelspec": {
   "display_name": "qlora",
   "language": "python",
   "name": "python3"
  },
  "language_info": {
   "codemirror_mode": {
    "name": "ipython",
    "version": 3
   },
   "file_extension": ".py",
   "mimetype": "text/x-python",
   "name": "python",
   "nbconvert_exporter": "python",
   "pygments_lexer": "ipython3",
   "version": "3.11.5"
  }
 },
 "nbformat": 4,
 "nbformat_minor": 2
}
