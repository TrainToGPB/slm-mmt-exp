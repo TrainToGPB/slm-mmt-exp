{
 "cells": [
  {
   "cell_type": "code",
   "execution_count": 5,
   "metadata": {},
   "outputs": [],
   "source": [
    "import pandas as pd\n",
    "from sklearn.model_selection import train_test_split"
   ]
  },
  {
   "cell_type": "markdown",
   "metadata": {},
   "source": [
    "### 저 성능 데이터 추가"
   ]
  },
  {
   "cell_type": "code",
   "execution_count": 11,
   "metadata": {},
   "outputs": [
    {
     "data": {
      "text/html": [
       "<div>\n",
       "<style scoped>\n",
       "    .dataframe tbody tr th:only-of-type {\n",
       "        vertical-align: middle;\n",
       "    }\n",
       "\n",
       "    .dataframe tbody tr th {\n",
       "        vertical-align: top;\n",
       "    }\n",
       "\n",
       "    .dataframe thead th {\n",
       "        text-align: right;\n",
       "    }\n",
       "</style>\n",
       "<table border=\"1\" class=\"dataframe\">\n",
       "  <thead>\n",
       "    <tr style=\"text-align: right;\">\n",
       "      <th></th>\n",
       "      <th>ko</th>\n",
       "      <th>en</th>\n",
       "      <th>source</th>\n",
       "    </tr>\n",
       "  </thead>\n",
       "  <tbody>\n",
       "    <tr>\n",
       "      <th>0</th>\n",
       "      <td>통영 용남면 장평리 바닷가 해안도로 앞에 위치한 통영 늘푸른 펜션에 오신 것을 환영...</td>\n",
       "      <td>Welcome to Tongyeong's Evergreen Pension locat...</td>\n",
       "      <td>111</td>\n",
       "    </tr>\n",
       "    <tr>\n",
       "      <th>1</th>\n",
       "      <td>허브아일랜드의 불빛동화 축제는 국내 최고 겨울축제 중 하나로 꼽힌다.</td>\n",
       "      <td>Herb Island's Light Fairy Tale Festival is con...</td>\n",
       "      <td>111</td>\n",
       "    </tr>\n",
       "    <tr>\n",
       "      <th>2</th>\n",
       "      <td>봉비산 자락에 위치하고 있는 도심 속의 전통 사찰이다.</td>\n",
       "      <td>It is a traditional temple in the city center ...</td>\n",
       "      <td>111</td>\n",
       "    </tr>\n",
       "    <tr>\n",
       "      <th>3</th>\n",
       "      <td>수룡동 마을안길로 들어가면 쉽게 오를 수 있다.</td>\n",
       "      <td>It can be easily climbed by entering the insid...</td>\n",
       "      <td>111</td>\n",
       "    </tr>\n",
       "    <tr>\n",
       "      <th>4</th>\n",
       "      <td>토스 측은 \"가족과 함께 송편을 나눠먹듯, 송편지원금 또한 가족, 친척, 친구, 오...</td>\n",
       "      <td>Toss explained the meaning of the event, sayin...</td>\n",
       "      <td>111</td>\n",
       "    </tr>\n",
       "  </tbody>\n",
       "</table>\n",
       "</div>"
      ],
      "text/plain": [
       "                                                  ko  \\\n",
       "0  통영 용남면 장평리 바닷가 해안도로 앞에 위치한 통영 늘푸른 펜션에 오신 것을 환영...   \n",
       "1             허브아일랜드의 불빛동화 축제는 국내 최고 겨울축제 중 하나로 꼽힌다.   \n",
       "2                     봉비산 자락에 위치하고 있는 도심 속의 전통 사찰이다.   \n",
       "3                         수룡동 마을안길로 들어가면 쉽게 오를 수 있다.   \n",
       "4  토스 측은 \"가족과 함께 송편을 나눠먹듯, 송편지원금 또한 가족, 친척, 친구, 오...   \n",
       "\n",
       "                                                  en  source  \n",
       "0  Welcome to Tongyeong's Evergreen Pension locat...     111  \n",
       "1  Herb Island's Light Fairy Tale Festival is con...     111  \n",
       "2  It is a traditional temple in the city center ...     111  \n",
       "3  It can be easily climbed by entering the insid...     111  \n",
       "4  Toss explained the meaning of the event, sayin...     111  "
      ]
     },
     "execution_count": 11,
     "metadata": {},
     "output_type": "execute_result"
    }
   ],
   "source": [
    "total_drop_long = pd.read_csv('./integrated_total/total_drop_long.csv')\n",
    "total_drop_long.head()"
   ]
  },
  {
   "cell_type": "code",
   "execution_count": 7,
   "metadata": {},
   "outputs": [],
   "source": [
    "train = pd.read_csv('./aihub-koen-translation-integrated-tiny-100k/train.csv')\n",
    "eval = pd.read_csv('./aihub-koen-translation-integrated-tiny-100k/validation.csv')\n",
    "test = pd.read_csv('./aihub-koen-translation-integrated-tiny-100k/test.csv')"
   ]
  },
  {
   "cell_type": "code",
   "execution_count": 12,
   "metadata": {},
   "outputs": [
    {
     "data": {
      "text/html": [
       "<div>\n",
       "<style scoped>\n",
       "    .dataframe tbody tr th:only-of-type {\n",
       "        vertical-align: middle;\n",
       "    }\n",
       "\n",
       "    .dataframe tbody tr th {\n",
       "        vertical-align: top;\n",
       "    }\n",
       "\n",
       "    .dataframe thead th {\n",
       "        text-align: right;\n",
       "    }\n",
       "</style>\n",
       "<table border=\"1\" class=\"dataframe\">\n",
       "  <thead>\n",
       "    <tr style=\"text-align: right;\">\n",
       "      <th></th>\n",
       "      <th>ko</th>\n",
       "      <th>en</th>\n",
       "      <th>source</th>\n",
       "    </tr>\n",
       "  </thead>\n",
       "  <tbody>\n",
       "    <tr>\n",
       "      <th>1185099</th>\n",
       "      <td>대한축구협회가 한국형 디비전시스템 정착을 위해 FA컵부터 체제를 바꿨다.</td>\n",
       "      <td>The Korea Football Association has changed its...</td>\n",
       "      <td>111</td>\n",
       "    </tr>\n",
       "    <tr>\n",
       "      <th>1331233</th>\n",
       "      <td>질병관리본부 중앙방역대책본부는 이날 중국 국적의 30세 여성이 신종 코로나 확진 판...</td>\n",
       "      <td>The Central Disease Control Headquarters of th...</td>\n",
       "      <td>111</td>\n",
       "    </tr>\n",
       "    <tr>\n",
       "      <th>5629969</th>\n",
       "      <td>문 대통령이 연설에서 언급하지는 않았지만, 대북 제재에 막힌 남북 철도 협력사업에 ...</td>\n",
       "      <td>Although President Moon did not mention it in ...</td>\n",
       "      <td>126</td>\n",
       "    </tr>\n",
       "    <tr>\n",
       "      <th>4349041</th>\n",
       "      <td>경찰은 부부의 사인을 밝히기 위해 부검을 할 예정이며, 온수 매트로 인한 질식사 가...</td>\n",
       "      <td>Police will conduct an autopsy to determine th...</td>\n",
       "      <td>126</td>\n",
       "    </tr>\n",
       "    <tr>\n",
       "      <th>3845046</th>\n",
       "      <td>AAA의 자유주의적 다문화주의는 자유를 강조하는 자유주의 입장과 기본적으로 동일하지...</td>\n",
       "      <td>The liberal multiculturalism of AAA is basical...</td>\n",
       "      <td>125</td>\n",
       "    </tr>\n",
       "  </tbody>\n",
       "</table>\n",
       "</div>"
      ],
      "text/plain": [
       "                                                        ko  \\\n",
       "1185099           대한축구협회가 한국형 디비전시스템 정착을 위해 FA컵부터 체제를 바꿨다.   \n",
       "1331233  질병관리본부 중앙방역대책본부는 이날 중국 국적의 30세 여성이 신종 코로나 확진 판...   \n",
       "5629969  문 대통령이 연설에서 언급하지는 않았지만, 대북 제재에 막힌 남북 철도 협력사업에 ...   \n",
       "4349041  경찰은 부부의 사인을 밝히기 위해 부검을 할 예정이며, 온수 매트로 인한 질식사 가...   \n",
       "3845046  AAA의 자유주의적 다문화주의는 자유를 강조하는 자유주의 입장과 기본적으로 동일하지...   \n",
       "\n",
       "                                                        en  source  \n",
       "1185099  The Korea Football Association has changed its...     111  \n",
       "1331233  The Central Disease Control Headquarters of th...     111  \n",
       "5629969  Although President Moon did not mention it in ...     126  \n",
       "4349041  Police will conduct an autopsy to determine th...     126  \n",
       "3845046  The liberal multiculturalism of AAA is basical...     125  "
      ]
     },
     "execution_count": 12,
     "metadata": {},
     "output_type": "execute_result"
    }
   ],
   "source": [
    "total_drop_long_shuffle = total_drop_long.sample(frac=1.0, random_state=42)\n",
    "total_drop_long_shuffle.head()"
   ]
  },
  {
   "cell_type": "code",
   "execution_count": 13,
   "metadata": {},
   "outputs": [
    {
     "data": {
      "text/plain": [
       "source\n",
       "71265    19712\n",
       "126      12780\n",
       "111      10919\n",
       "124      10877\n",
       "125      10818\n",
       "71266    10733\n",
       "71382     4601\n",
       "563       2892\n",
       "Name: count, dtype: int64"
      ]
     },
     "execution_count": 13,
     "metadata": {},
     "output_type": "execute_result"
    }
   ],
   "source": [
    "train_value_counts = train['source'].value_counts()\n",
    "train_value_counts"
   ]
  },
  {
   "cell_type": "code",
   "execution_count": 10,
   "metadata": {},
   "outputs": [
    {
     "data": {
      "text/plain": [
       "source\n",
       "71265    2529\n",
       "126      1590\n",
       "124      1349\n",
       "71266    1342\n",
       "111      1332\n",
       "125      1328\n",
       "71382     585\n",
       "563       362\n",
       "Name: count, dtype: int64"
      ]
     },
     "execution_count": 10,
     "metadata": {},
     "output_type": "execute_result"
    }
   ],
   "source": [
    "eval_value_counts = eval['source'].value_counts()\n",
    "eval_value_counts"
   ]
  },
  {
   "cell_type": "code",
   "execution_count": 14,
   "metadata": {},
   "outputs": [
    {
     "data": {
      "text/plain": [
       "source\n",
       "71265    2538\n",
       "126      1614\n",
       "125      1371\n",
       "111      1362\n",
       "124      1321\n",
       "71266    1319\n",
       "71382     565\n",
       "563       327\n",
       "Name: count, dtype: int64"
      ]
     },
     "execution_count": 14,
     "metadata": {},
     "output_type": "execute_result"
    }
   ],
   "source": [
    "test_value_counts = test['source'].value_counts()\n",
    "test_value_counts"
   ]
  },
  {
   "cell_type": "code",
   "execution_count": 36,
   "metadata": {},
   "outputs": [
    {
     "name": "stderr",
     "output_type": "stream",
     "text": [
      "  3%|▎         | 39488/1350000 [03:46<2:05:15, 174.38it/s]\n"
     ]
    },
    {
     "name": "stdout",
     "output_type": "stream",
     "text": [
      "source\n",
      "71265    19712\n",
      "126      12780\n",
      "111      50000\n",
      "124      10877\n",
      "125      10818\n",
      "71266    10733\n",
      "71382     4601\n",
      "563       2892\n",
      "Name: count, dtype: int64\n"
     ]
    },
    {
     "name": "stderr",
     "output_type": "stream",
     "text": [
      "  3%|▎         | 39562/1361825 [05:43<3:11:34, 115.03it/s]\n"
     ]
    },
    {
     "name": "stdout",
     "output_type": "stream",
     "text": [
      "source\n",
      "71265    19712\n",
      "126      12780\n",
      "111      50000\n",
      "124      10877\n",
      "125      50000\n",
      "71266    10733\n",
      "71382     4601\n",
      "563       2892\n",
      "Name: count, dtype: int64\n"
     ]
    },
    {
     "name": "stderr",
     "output_type": "stream",
     "text": [
      "  2%|▏         | 37585/1599924 [07:20<5:05:16, 85.30it/s]\n"
     ]
    },
    {
     "name": "stdout",
     "output_type": "stream",
     "text": [
      "source\n",
      "71265    19712\n",
      "126      50000\n",
      "111      50000\n",
      "124      10877\n",
      "125      50000\n",
      "71266    10733\n",
      "71382     4601\n",
      "563       2892\n",
      "Name: count, dtype: int64\n"
     ]
    },
    {
     "name": "stderr",
     "output_type": "stream",
     "text": [
      "  8%|▊         | 45832/586660 [10:35<2:05:03, 72.07it/s]"
     ]
    },
    {
     "name": "stdout",
     "output_type": "stream",
     "text": [
      "source\n",
      "71265    19712\n",
      "126      50000\n",
      "111      50000\n",
      "124      10877\n",
      "125      50000\n",
      "71266    10733\n",
      "71382    50000\n",
      "563       2892\n",
      "Name: count, dtype: int64\n"
     ]
    },
    {
     "name": "stderr",
     "output_type": "stream",
     "text": [
      "\n"
     ]
    }
   ],
   "source": [
    "from tqdm import tqdm\n",
    "\n",
    "train = pd.read_csv('./aihub-koen-translation-integrated-tiny-100k/train.csv')\n",
    "eval = pd.read_csv('./aihub-koen-translation-integrated-tiny-100k/validation.csv')\n",
    "test = pd.read_csv('./aihub-koen-translation-integrated-tiny-100k/test.csv')\n",
    "train_value_counts = train['source'].value_counts()\n",
    "eval_value_counts = eval['source'].value_counts()\n",
    "test_value_counts = test['source'].value_counts()\n",
    "\n",
    "for src in [111, 125, 126, 71382]:\n",
    "    total_necessary = total_drop_long_shuffle[total_drop_long_shuffle['source'] == src]\n",
    "    train_ko_list = train[train['source'] == src]['ko'].tolist()\n",
    "    eval_ko_list = eval[eval['source'] == src]['ko'].tolist()\n",
    "    test_ko_list = test[test['source'] == src]['ko'].tolist()\n",
    "    for idx, row in tqdm(total_necessary.iterrows(), total=len(total_necessary)):\n",
    "        if train_value_counts[src] < 50000:\n",
    "            if row['ko'] in train_ko_list:\n",
    "                continue\n",
    "            if row['ko'] in eval_ko_list:\n",
    "                continue\n",
    "            if row['ko'] in test_ko_list:\n",
    "                continue\n",
    "            train=pd.concat([train, pd.DataFrame(row).T], ignore_index=True)\n",
    "            train_value_counts[src] += 1\n",
    "        if train_value_counts[src] == 50000:\n",
    "            print(train_value_counts)\n",
    "            break"
   ]
  },
  {
   "cell_type": "code",
   "execution_count": 37,
   "metadata": {},
   "outputs": [
    {
     "data": {
      "text/html": [
       "<div>\n",
       "<style scoped>\n",
       "    .dataframe tbody tr th:only-of-type {\n",
       "        vertical-align: middle;\n",
       "    }\n",
       "\n",
       "    .dataframe tbody tr th {\n",
       "        vertical-align: top;\n",
       "    }\n",
       "\n",
       "    .dataframe thead th {\n",
       "        text-align: right;\n",
       "    }\n",
       "</style>\n",
       "<table border=\"1\" class=\"dataframe\">\n",
       "  <thead>\n",
       "    <tr style=\"text-align: right;\">\n",
       "      <th></th>\n",
       "      <th>ko</th>\n",
       "      <th>en</th>\n",
       "      <th>source</th>\n",
       "    </tr>\n",
       "  </thead>\n",
       "  <tbody>\n",
       "    <tr>\n",
       "      <th>0</th>\n",
       "      <td>지방세법 개정안에 따른 종합부동산세는 부과징수권자의 경우를 제외하고는 대부분 종전 ...</td>\n",
       "      <td>Comprehensive real estate tax according to the...</td>\n",
       "      <td>125</td>\n",
       "    </tr>\n",
       "    <tr>\n",
       "      <th>1</th>\n",
       "      <td>실신 당시 5초 정도 의식소실이 있었고 바로 의식은 회복되으며 신경학적 이상증상은 ...</td>\n",
       "      <td>At the time of fainting, there was a loss of c...</td>\n",
       "      <td>124</td>\n",
       "    </tr>\n",
       "    <tr>\n",
       "      <th>2</th>\n",
       "      <td>문 대통령의 10월 방일이 성사될 경우 한·일 양국은 일본군 위안부 합의 이행 문제...</td>\n",
       "      <td>If President Moon visits Japan in October, the...</td>\n",
       "      <td>126</td>\n",
       "    </tr>\n",
       "    <tr>\n",
       "      <th>3</th>\n",
       "      <td>인덱스 펀드에 대한 투자에서는 장기적인 관점에서 수익을 얻을 수 있습니다.</td>\n",
       "      <td>Investment in index funds provides profitabili...</td>\n",
       "      <td>71265</td>\n",
       "    </tr>\n",
       "    <tr>\n",
       "      <th>4</th>\n",
       "      <td>돌봐야 하는 비용도 있지.</td>\n",
       "      <td>I also have expenses to take care of.</td>\n",
       "      <td>71265</td>\n",
       "    </tr>\n",
       "  </tbody>\n",
       "</table>\n",
       "</div>"
      ],
      "text/plain": [
       "                                                  ko  \\\n",
       "0  지방세법 개정안에 따른 종합부동산세는 부과징수권자의 경우를 제외하고는 대부분 종전 ...   \n",
       "1  실신 당시 5초 정도 의식소실이 있었고 바로 의식은 회복되으며 신경학적 이상증상은 ...   \n",
       "2  문 대통령의 10월 방일이 성사될 경우 한·일 양국은 일본군 위안부 합의 이행 문제...   \n",
       "3          인덱스 펀드에 대한 투자에서는 장기적인 관점에서 수익을 얻을 수 있습니다.   \n",
       "4                                     돌봐야 하는 비용도 있지.   \n",
       "\n",
       "                                                  en source  \n",
       "0  Comprehensive real estate tax according to the...    125  \n",
       "1  At the time of fainting, there was a loss of c...    124  \n",
       "2  If President Moon visits Japan in October, the...    126  \n",
       "3  Investment in index funds provides profitabili...  71265  \n",
       "4              I also have expenses to take care of.  71265  "
      ]
     },
     "metadata": {},
     "output_type": "display_data"
    },
    {
     "data": {
      "text/plain": [
       "244214"
      ]
     },
     "metadata": {},
     "output_type": "display_data"
    }
   ],
   "source": [
    "display(train.head())\n",
    "display(len(train))"
   ]
  },
  {
   "cell_type": "code",
   "execution_count": 38,
   "metadata": {},
   "outputs": [],
   "source": [
    "train.to_csv('./train.csv', index=False)"
   ]
  },
  {
   "cell_type": "code",
   "execution_count": 73,
   "metadata": {},
   "outputs": [
    {
     "data": {
      "text/html": [
       "<div>\n",
       "<style scoped>\n",
       "    .dataframe tbody tr th:only-of-type {\n",
       "        vertical-align: middle;\n",
       "    }\n",
       "\n",
       "    .dataframe tbody tr th {\n",
       "        vertical-align: top;\n",
       "    }\n",
       "\n",
       "    .dataframe thead th {\n",
       "        text-align: right;\n",
       "    }\n",
       "</style>\n",
       "<table border=\"1\" class=\"dataframe\">\n",
       "  <thead>\n",
       "    <tr style=\"text-align: right;\">\n",
       "      <th></th>\n",
       "      <th>ko</th>\n",
       "      <th>en</th>\n",
       "      <th>source</th>\n",
       "    </tr>\n",
       "  </thead>\n",
       "  <tbody>\n",
       "    <tr>\n",
       "      <th>0</th>\n",
       "      <td>한일 관계 악화가 양국의 경제, 사회, 문화 등 다른 분야에 미치는 악영향을 최소화...</td>\n",
       "      <td>It is crucial to attenuate the adverse effects...</td>\n",
       "      <td>71266</td>\n",
       "    </tr>\n",
       "    <tr>\n",
       "      <th>1</th>\n",
       "      <td>직접 설계할 수 있습니다. 네, 기존 시스템에 추가 시스템을 개발했습니다.</td>\n",
       "      <td>You can design your own, yes, we have develope...</td>\n",
       "      <td>71265</td>\n",
       "    </tr>\n",
       "    <tr>\n",
       "      <th>2</th>\n",
       "      <td>정말 중요한 얘기는 그 다음에 이어지는데, AAA는 우리는 이것들을 거부하거나 경멸...</td>\n",
       "      <td>The really important story follows what the AA...</td>\n",
       "      <td>71266</td>\n",
       "    </tr>\n",
       "    <tr>\n",
       "      <th>3</th>\n",
       "      <td>추운 겨울이 지나버렸고 그리고 새로운 그 계절이 왔어.</td>\n",
       "      <td>Cold winter has passed and the new season came.</td>\n",
       "      <td>126</td>\n",
       "    </tr>\n",
       "    <tr>\n",
       "      <th>4</th>\n",
       "      <td>러시아가 금메달 17개로 종합순위 1위를 차지했고 개최국 이탈리아가 금메달 5개로 ...</td>\n",
       "      <td>Russia topped the overall list with 17 gold me...</td>\n",
       "      <td>111</td>\n",
       "    </tr>\n",
       "  </tbody>\n",
       "</table>\n",
       "</div>"
      ],
      "text/plain": [
       "                                                  ko  \\\n",
       "0  한일 관계 악화가 양국의 경제, 사회, 문화 등 다른 분야에 미치는 악영향을 최소화...   \n",
       "1          직접 설계할 수 있습니다. 네, 기존 시스템에 추가 시스템을 개발했습니다.   \n",
       "2  정말 중요한 얘기는 그 다음에 이어지는데, AAA는 우리는 이것들을 거부하거나 경멸...   \n",
       "3                     추운 겨울이 지나버렸고 그리고 새로운 그 계절이 왔어.   \n",
       "4  러시아가 금메달 17개로 종합순위 1위를 차지했고 개최국 이탈리아가 금메달 5개로 ...   \n",
       "\n",
       "                                                  en  source  \n",
       "0  It is crucial to attenuate the adverse effects...   71266  \n",
       "1  You can design your own, yes, we have develope...   71265  \n",
       "2  The really important story follows what the AA...   71266  \n",
       "3    Cold winter has passed and the new season came.     126  \n",
       "4  Russia topped the overall list with 17 gold me...     111  "
      ]
     },
     "execution_count": 73,
     "metadata": {},
     "output_type": "execute_result"
    }
   ],
   "source": [
    "eval.head()"
   ]
  },
  {
   "cell_type": "code",
   "execution_count": 76,
   "metadata": {},
   "outputs": [
    {
     "data": {
      "text/plain": [
       "source\n",
       "71265    2529\n",
       "126      1590\n",
       "124      1349\n",
       "71266    1342\n",
       "111      1332\n",
       "125      1328\n",
       "71382     585\n",
       "563       362\n",
       "Name: count, dtype: int64"
      ]
     },
     "execution_count": 76,
     "metadata": {},
     "output_type": "execute_result"
    }
   ],
   "source": [
    "eval_value_counts = eval['source'].value_counts()\n",
    "eval_value_counts"
   ]
  },
  {
   "cell_type": "code",
   "execution_count": 79,
   "metadata": {},
   "outputs": [
    {
     "data": {
      "text/plain": [
       "source\n",
       "71265    300\n",
       "126      300\n",
       "124      300\n",
       "71266    300\n",
       "111      300\n",
       "125      300\n",
       "71382    300\n",
       "563      300\n",
       "Name: count, dtype: int64"
      ]
     },
     "execution_count": 79,
     "metadata": {},
     "output_type": "execute_result"
    }
   ],
   "source": [
    "sample_size = 300\n",
    "eval_uniform = pd.DataFrame()\n",
    "\n",
    "for source, count in eval_value_counts.items():\n",
    "    if count <= sample_size:\n",
    "        sampled_rows = eval[eval['source'] == source]\n",
    "    else:\n",
    "        sampled_rows = eval[eval['source'] == source].sample(n=sample_size, random_state=42)\n",
    "    eval_uniform = pd.concat([eval_uniform, sampled_rows])\n",
    "\n",
    "eval_uniform.reset_index(drop=True, inplace=True)\n",
    "eval_uniform['source'].value_counts()"
   ]
  },
  {
   "cell_type": "code",
   "execution_count": 81,
   "metadata": {},
   "outputs": [
    {
     "data": {
      "text/html": [
       "<div>\n",
       "<style scoped>\n",
       "    .dataframe tbody tr th:only-of-type {\n",
       "        vertical-align: middle;\n",
       "    }\n",
       "\n",
       "    .dataframe tbody tr th {\n",
       "        vertical-align: top;\n",
       "    }\n",
       "\n",
       "    .dataframe thead th {\n",
       "        text-align: right;\n",
       "    }\n",
       "</style>\n",
       "<table border=\"1\" class=\"dataframe\">\n",
       "  <thead>\n",
       "    <tr style=\"text-align: right;\">\n",
       "      <th></th>\n",
       "      <th>ko</th>\n",
       "      <th>en</th>\n",
       "      <th>source</th>\n",
       "    </tr>\n",
       "  </thead>\n",
       "  <tbody>\n",
       "    <tr>\n",
       "      <th>2037</th>\n",
       "      <td>요즘 안 그래도 일이 없어졌는데 슬퍼지네요.</td>\n",
       "      <td>I'm getting sad even though I've been out of w...</td>\n",
       "      <td>71382</td>\n",
       "    </tr>\n",
       "    <tr>\n",
       "      <th>1978</th>\n",
       "      <td>벌써 56년 이니까 오래됐죠.</td>\n",
       "      <td>It's already been 56 years, so it's been a lon...</td>\n",
       "      <td>71382</td>\n",
       "    </tr>\n",
       "    <tr>\n",
       "      <th>855</th>\n",
       "      <td>통풍이 있으면 요산 배설을 막고 요산 합성을 촉진시킬 수 있기 때문에 통풍이 있는 ...</td>\n",
       "      <td>People with gout should abstain from drinking ...</td>\n",
       "      <td>124</td>\n",
       "    </tr>\n",
       "    <tr>\n",
       "      <th>1719</th>\n",
       "      <td>따라서 본 연구는 비주거용 부동산 가격공시제도 도입에 대비한 부동산 관련 지방세 과...</td>\n",
       "      <td>The purpose of this study is to present a plan...</td>\n",
       "      <td>125</td>\n",
       "    </tr>\n",
       "    <tr>\n",
       "      <th>2019</th>\n",
       "      <td>결혼을 일찍 했네요.</td>\n",
       "      <td>You got married early.</td>\n",
       "      <td>71382</td>\n",
       "    </tr>\n",
       "  </tbody>\n",
       "</table>\n",
       "</div>"
      ],
      "text/plain": [
       "                                                     ko  \\\n",
       "2037                           요즘 안 그래도 일이 없어졌는데 슬퍼지네요.   \n",
       "1978                                   벌써 56년 이니까 오래됐죠.   \n",
       "855   통풍이 있으면 요산 배설을 막고 요산 합성을 촉진시킬 수 있기 때문에 통풍이 있는 ...   \n",
       "1719  따라서 본 연구는 비주거용 부동산 가격공시제도 도입에 대비한 부동산 관련 지방세 과...   \n",
       "2019                                        결혼을 일찍 했네요.   \n",
       "\n",
       "                                                     en  source  \n",
       "2037  I'm getting sad even though I've been out of w...   71382  \n",
       "1978  It's already been 56 years, so it's been a lon...   71382  \n",
       "855   People with gout should abstain from drinking ...     124  \n",
       "1719  The purpose of this study is to present a plan...     125  \n",
       "2019                             You got married early.   71382  "
      ]
     },
     "execution_count": 81,
     "metadata": {},
     "output_type": "execute_result"
    }
   ],
   "source": [
    "eval_uniform_shuffle = eval_uniform.sample(frac=1.0, random_state=42)\n",
    "eval_uniform_shuffle.head()"
   ]
  },
  {
   "cell_type": "code",
   "execution_count": 82,
   "metadata": {},
   "outputs": [],
   "source": [
    "eval_uniform_shuffle.to_csv('./validation.csv', index=False)"
   ]
  },
  {
   "cell_type": "markdown",
   "metadata": {},
   "source": [
    "### 겹치지 않는 다른 tiny 세트"
   ]
  },
  {
   "cell_type": "code",
   "execution_count": 19,
   "metadata": {},
   "outputs": [
    {
     "data": {
      "text/html": [
       "<div>\n",
       "<style scoped>\n",
       "    .dataframe tbody tr th:only-of-type {\n",
       "        vertical-align: middle;\n",
       "    }\n",
       "\n",
       "    .dataframe tbody tr th {\n",
       "        vertical-align: top;\n",
       "    }\n",
       "\n",
       "    .dataframe thead th {\n",
       "        text-align: right;\n",
       "    }\n",
       "</style>\n",
       "<table border=\"1\" class=\"dataframe\">\n",
       "  <thead>\n",
       "    <tr style=\"text-align: right;\">\n",
       "      <th></th>\n",
       "      <th>ko</th>\n",
       "      <th>en</th>\n",
       "      <th>source</th>\n",
       "    </tr>\n",
       "  </thead>\n",
       "  <tbody>\n",
       "    <tr>\n",
       "      <th>0</th>\n",
       "      <td>통영 용남면 장평리 바닷가 해안도로 앞에 위치한 통영 늘푸른 펜션에 오신 것을 환영...</td>\n",
       "      <td>Welcome to Tongyeong's Evergreen Pension locat...</td>\n",
       "      <td>111</td>\n",
       "    </tr>\n",
       "    <tr>\n",
       "      <th>1</th>\n",
       "      <td>허브아일랜드의 불빛동화 축제는 국내 최고 겨울축제 중 하나로 꼽힌다.</td>\n",
       "      <td>Herb Island's Light Fairy Tale Festival is con...</td>\n",
       "      <td>111</td>\n",
       "    </tr>\n",
       "    <tr>\n",
       "      <th>2</th>\n",
       "      <td>봉비산 자락에 위치하고 있는 도심 속의 전통 사찰이다.</td>\n",
       "      <td>It is a traditional temple in the city center ...</td>\n",
       "      <td>111</td>\n",
       "    </tr>\n",
       "    <tr>\n",
       "      <th>3</th>\n",
       "      <td>수룡동 마을안길로 들어가면 쉽게 오를 수 있다.</td>\n",
       "      <td>It can be easily climbed by entering the insid...</td>\n",
       "      <td>111</td>\n",
       "    </tr>\n",
       "    <tr>\n",
       "      <th>4</th>\n",
       "      <td>토스 측은 \"가족과 함께 송편을 나눠먹듯, 송편지원금 또한 가족, 친척, 친구, 오...</td>\n",
       "      <td>Toss explained the meaning of the event, sayin...</td>\n",
       "      <td>111</td>\n",
       "    </tr>\n",
       "  </tbody>\n",
       "</table>\n",
       "</div>"
      ],
      "text/plain": [
       "                                                  ko  \\\n",
       "0  통영 용남면 장평리 바닷가 해안도로 앞에 위치한 통영 늘푸른 펜션에 오신 것을 환영...   \n",
       "1             허브아일랜드의 불빛동화 축제는 국내 최고 겨울축제 중 하나로 꼽힌다.   \n",
       "2                     봉비산 자락에 위치하고 있는 도심 속의 전통 사찰이다.   \n",
       "3                         수룡동 마을안길로 들어가면 쉽게 오를 수 있다.   \n",
       "4  토스 측은 \"가족과 함께 송편을 나눠먹듯, 송편지원금 또한 가족, 친척, 친구, 오...   \n",
       "\n",
       "                                                  en  source  \n",
       "0  Welcome to Tongyeong's Evergreen Pension locat...     111  \n",
       "1  Herb Island's Light Fairy Tale Festival is con...     111  \n",
       "2  It is a traditional temple in the city center ...     111  \n",
       "3  It can be easily climbed by entering the insid...     111  \n",
       "4  Toss explained the meaning of the event, sayin...     111  "
      ]
     },
     "execution_count": 19,
     "metadata": {},
     "output_type": "execute_result"
    }
   ],
   "source": [
    "total = pd.read_csv('./integrated_total/total.csv')\n",
    "total.head()"
   ]
  },
  {
   "cell_type": "code",
   "execution_count": 20,
   "metadata": {},
   "outputs": [
    {
     "data": {
      "text/html": [
       "<div>\n",
       "<style scoped>\n",
       "    .dataframe tbody tr th:only-of-type {\n",
       "        vertical-align: middle;\n",
       "    }\n",
       "\n",
       "    .dataframe tbody tr th {\n",
       "        vertical-align: top;\n",
       "    }\n",
       "\n",
       "    .dataframe thead th {\n",
       "        text-align: right;\n",
       "    }\n",
       "</style>\n",
       "<table border=\"1\" class=\"dataframe\">\n",
       "  <thead>\n",
       "    <tr style=\"text-align: right;\">\n",
       "      <th></th>\n",
       "      <th>ko</th>\n",
       "      <th>en</th>\n",
       "      <th>source</th>\n",
       "    </tr>\n",
       "  </thead>\n",
       "  <tbody>\n",
       "    <tr>\n",
       "      <th>1656390</th>\n",
       "      <td>이러한 역변태 오스테나이트의 존재는 기계적 성질에 큰 영향을 미칠 것으로 예상된다.</td>\n",
       "      <td>The presence of this reverse transformation au...</td>\n",
       "      <td>124</td>\n",
       "    </tr>\n",
       "    <tr>\n",
       "      <th>9242028</th>\n",
       "      <td>현금 급여 사업의 경우 중앙의 지원이 예측 가능하여야 하며, 안정적으로 지원되지 못...</td>\n",
       "      <td>In the event of the cash advantage project, ce...</td>\n",
       "      <td>71266</td>\n",
       "    </tr>\n",
       "    <tr>\n",
       "      <th>3037161</th>\n",
       "      <td>마찬가지로 최근 애완동물 및 관련 산업이 성장함에 따라 애완동물 보험도 새롭게 조명...</td>\n",
       "      <td>Likewise, with the recent growth of pets and r...</td>\n",
       "      <td>125</td>\n",
       "    </tr>\n",
       "    <tr>\n",
       "      <th>589364</th>\n",
       "      <td>서로 다른 전공의 학생들이 한 강의실에서 배우면서 파편화된 교육에서 벗어나 데이터사...</td>\n",
       "      <td>As students from different majors learn in one...</td>\n",
       "      <td>111</td>\n",
       "    </tr>\n",
       "    <tr>\n",
       "      <th>8078784</th>\n",
       "      <td>20개 이상의 문구를 말합니다.</td>\n",
       "      <td>Say more than 20 phrases.</td>\n",
       "      <td>71265</td>\n",
       "    </tr>\n",
       "  </tbody>\n",
       "</table>\n",
       "</div>"
      ],
      "text/plain": [
       "                                                        ko  \\\n",
       "1656390     이러한 역변태 오스테나이트의 존재는 기계적 성질에 큰 영향을 미칠 것으로 예상된다.   \n",
       "9242028  현금 급여 사업의 경우 중앙의 지원이 예측 가능하여야 하며, 안정적으로 지원되지 못...   \n",
       "3037161  마찬가지로 최근 애완동물 및 관련 산업이 성장함에 따라 애완동물 보험도 새롭게 조명...   \n",
       "589364   서로 다른 전공의 학생들이 한 강의실에서 배우면서 파편화된 교육에서 벗어나 데이터사...   \n",
       "8078784                                  20개 이상의 문구를 말합니다.   \n",
       "\n",
       "                                                        en  source  \n",
       "1656390  The presence of this reverse transformation au...     124  \n",
       "9242028  In the event of the cash advantage project, ce...   71266  \n",
       "3037161  Likewise, with the recent growth of pets and r...     125  \n",
       "589364   As students from different majors learn in one...     111  \n",
       "8078784                          Say more than 20 phrases.   71265  "
      ]
     },
     "execution_count": 20,
     "metadata": {},
     "output_type": "execute_result"
    }
   ],
   "source": [
    "total_shuffle = total.sample(frac=1.0, random_state=42)\n",
    "total_shuffle.head()"
   ]
  },
  {
   "cell_type": "code",
   "execution_count": 18,
   "metadata": {},
   "outputs": [
    {
     "data": {
      "text/html": [
       "<div>\n",
       "<style scoped>\n",
       "    .dataframe tbody tr th:only-of-type {\n",
       "        vertical-align: middle;\n",
       "    }\n",
       "\n",
       "    .dataframe tbody tr th {\n",
       "        vertical-align: top;\n",
       "    }\n",
       "\n",
       "    .dataframe thead th {\n",
       "        text-align: right;\n",
       "    }\n",
       "</style>\n",
       "<table border=\"1\" class=\"dataframe\">\n",
       "  <thead>\n",
       "    <tr style=\"text-align: right;\">\n",
       "      <th></th>\n",
       "      <th>ko</th>\n",
       "      <th>en</th>\n",
       "      <th>source</th>\n",
       "    </tr>\n",
       "  </thead>\n",
       "  <tbody>\n",
       "    <tr>\n",
       "      <th>0</th>\n",
       "      <td>지방세법 개정안에 따른 종합부동산세는 부과징수권자의 경우를 제외하고는 대부분 종전 ...</td>\n",
       "      <td>Comprehensive real estate tax according to the...</td>\n",
       "      <td>125</td>\n",
       "    </tr>\n",
       "    <tr>\n",
       "      <th>1</th>\n",
       "      <td>실신 당시 5초 정도 의식소실이 있었고 바로 의식은 회복되으며 신경학적 이상증상은 ...</td>\n",
       "      <td>At the time of fainting, there was a loss of c...</td>\n",
       "      <td>124</td>\n",
       "    </tr>\n",
       "    <tr>\n",
       "      <th>2</th>\n",
       "      <td>문 대통령의 10월 방일이 성사될 경우 한·일 양국은 일본군 위안부 합의 이행 문제...</td>\n",
       "      <td>If President Moon visits Japan in October, the...</td>\n",
       "      <td>126</td>\n",
       "    </tr>\n",
       "    <tr>\n",
       "      <th>3</th>\n",
       "      <td>인덱스 펀드에 대한 투자에서는 장기적인 관점에서 수익을 얻을 수 있습니다.</td>\n",
       "      <td>Investment in index funds provides profitabili...</td>\n",
       "      <td>71265</td>\n",
       "    </tr>\n",
       "    <tr>\n",
       "      <th>4</th>\n",
       "      <td>돌봐야 하는 비용도 있지.</td>\n",
       "      <td>I also have expenses to take care of.</td>\n",
       "      <td>71265</td>\n",
       "    </tr>\n",
       "  </tbody>\n",
       "</table>\n",
       "</div>"
      ],
      "text/plain": [
       "                                                  ko  \\\n",
       "0  지방세법 개정안에 따른 종합부동산세는 부과징수권자의 경우를 제외하고는 대부분 종전 ...   \n",
       "1  실신 당시 5초 정도 의식소실이 있었고 바로 의식은 회복되으며 신경학적 이상증상은 ...   \n",
       "2  문 대통령의 10월 방일이 성사될 경우 한·일 양국은 일본군 위안부 합의 이행 문제...   \n",
       "3          인덱스 펀드에 대한 투자에서는 장기적인 관점에서 수익을 얻을 수 있습니다.   \n",
       "4                                     돌봐야 하는 비용도 있지.   \n",
       "\n",
       "                                                  en  source  \n",
       "0  Comprehensive real estate tax according to the...     125  \n",
       "1  At the time of fainting, there was a loss of c...     124  \n",
       "2  If President Moon visits Japan in October, the...     126  \n",
       "3  Investment in index funds provides profitabili...   71265  \n",
       "4              I also have expenses to take care of.   71265  "
      ]
     },
     "metadata": {},
     "output_type": "display_data"
    },
    {
     "data": {
      "text/html": [
       "<div>\n",
       "<style scoped>\n",
       "    .dataframe tbody tr th:only-of-type {\n",
       "        vertical-align: middle;\n",
       "    }\n",
       "\n",
       "    .dataframe tbody tr th {\n",
       "        vertical-align: top;\n",
       "    }\n",
       "\n",
       "    .dataframe thead th {\n",
       "        text-align: right;\n",
       "    }\n",
       "</style>\n",
       "<table border=\"1\" class=\"dataframe\">\n",
       "  <thead>\n",
       "    <tr style=\"text-align: right;\">\n",
       "      <th></th>\n",
       "      <th>ko</th>\n",
       "      <th>en</th>\n",
       "      <th>source</th>\n",
       "    </tr>\n",
       "  </thead>\n",
       "  <tbody>\n",
       "    <tr>\n",
       "      <th>0</th>\n",
       "      <td>한일 관계 악화가 양국의 경제, 사회, 문화 등 다른 분야에 미치는 악영향을 최소화...</td>\n",
       "      <td>It is crucial to attenuate the adverse effects...</td>\n",
       "      <td>71266</td>\n",
       "    </tr>\n",
       "    <tr>\n",
       "      <th>1</th>\n",
       "      <td>직접 설계할 수 있습니다. 네, 기존 시스템에 추가 시스템을 개발했습니다.</td>\n",
       "      <td>You can design your own, yes, we have develope...</td>\n",
       "      <td>71265</td>\n",
       "    </tr>\n",
       "    <tr>\n",
       "      <th>2</th>\n",
       "      <td>정말 중요한 얘기는 그 다음에 이어지는데, AAA는 우리는 이것들을 거부하거나 경멸...</td>\n",
       "      <td>The really important story follows what the AA...</td>\n",
       "      <td>71266</td>\n",
       "    </tr>\n",
       "    <tr>\n",
       "      <th>3</th>\n",
       "      <td>추운 겨울이 지나버렸고 그리고 새로운 그 계절이 왔어.</td>\n",
       "      <td>Cold winter has passed and the new season came.</td>\n",
       "      <td>126</td>\n",
       "    </tr>\n",
       "    <tr>\n",
       "      <th>4</th>\n",
       "      <td>러시아가 금메달 17개로 종합순위 1위를 차지했고 개최국 이탈리아가 금메달 5개로 ...</td>\n",
       "      <td>Russia topped the overall list with 17 gold me...</td>\n",
       "      <td>111</td>\n",
       "    </tr>\n",
       "  </tbody>\n",
       "</table>\n",
       "</div>"
      ],
      "text/plain": [
       "                                                  ko  \\\n",
       "0  한일 관계 악화가 양국의 경제, 사회, 문화 등 다른 분야에 미치는 악영향을 최소화...   \n",
       "1          직접 설계할 수 있습니다. 네, 기존 시스템에 추가 시스템을 개발했습니다.   \n",
       "2  정말 중요한 얘기는 그 다음에 이어지는데, AAA는 우리는 이것들을 거부하거나 경멸...   \n",
       "3                     추운 겨울이 지나버렸고 그리고 새로운 그 계절이 왔어.   \n",
       "4  러시아가 금메달 17개로 종합순위 1위를 차지했고 개최국 이탈리아가 금메달 5개로 ...   \n",
       "\n",
       "                                                  en  source  \n",
       "0  It is crucial to attenuate the adverse effects...   71266  \n",
       "1  You can design your own, yes, we have develope...   71265  \n",
       "2  The really important story follows what the AA...   71266  \n",
       "3    Cold winter has passed and the new season came.     126  \n",
       "4  Russia topped the overall list with 17 gold me...     111  "
      ]
     },
     "metadata": {},
     "output_type": "display_data"
    },
    {
     "data": {
      "text/html": [
       "<div>\n",
       "<style scoped>\n",
       "    .dataframe tbody tr th:only-of-type {\n",
       "        vertical-align: middle;\n",
       "    }\n",
       "\n",
       "    .dataframe tbody tr th {\n",
       "        vertical-align: top;\n",
       "    }\n",
       "\n",
       "    .dataframe thead th {\n",
       "        text-align: right;\n",
       "    }\n",
       "</style>\n",
       "<table border=\"1\" class=\"dataframe\">\n",
       "  <thead>\n",
       "    <tr style=\"text-align: right;\">\n",
       "      <th></th>\n",
       "      <th>ko</th>\n",
       "      <th>en</th>\n",
       "      <th>source</th>\n",
       "    </tr>\n",
       "  </thead>\n",
       "  <tbody>\n",
       "    <tr>\n",
       "      <th>0</th>\n",
       "      <td>「견우직녀」 그림책은 가장 흔하면서도 뿌리 깊은 우리의 정서와 관련된 별에 얽힌 이...</td>\n",
       "      <td>The picture book \"Gyeonwoo and Jiknyeo\" depict...</td>\n",
       "      <td>125</td>\n",
       "    </tr>\n",
       "    <tr>\n",
       "      <th>1</th>\n",
       "      <td>여러 호텔 객실 가격을 찾아봤는데요.</td>\n",
       "      <td>I looked over the price of various hotel rooms.</td>\n",
       "      <td>71265</td>\n",
       "    </tr>\n",
       "    <tr>\n",
       "      <th>2</th>\n",
       "      <td>모바일 관광 애플리케이션에서 서비스 요구 사항의 분류 및 평가는 매우 중요하다.</td>\n",
       "      <td>Classification and evaluation of service requi...</td>\n",
       "      <td>124</td>\n",
       "    </tr>\n",
       "    <tr>\n",
       "      <th>3</th>\n",
       "      <td>Congressional Avenue에서 내려주실 수 있나요?</td>\n",
       "      <td>Can you drop us off at Congressional Avenue?</td>\n",
       "      <td>71265</td>\n",
       "    </tr>\n",
       "    <tr>\n",
       "      <th>4</th>\n",
       "      <td>&gt;80 뽑았어?</td>\n",
       "      <td>&gt;Did you pick 800,000?</td>\n",
       "      <td>71265</td>\n",
       "    </tr>\n",
       "  </tbody>\n",
       "</table>\n",
       "</div>"
      ],
      "text/plain": [
       "                                                  ko  \\\n",
       "0  「견우직녀」 그림책은 가장 흔하면서도 뿌리 깊은 우리의 정서와 관련된 별에 얽힌 이...   \n",
       "1                               여러 호텔 객실 가격을 찾아봤는데요.   \n",
       "2       모바일 관광 애플리케이션에서 서비스 요구 사항의 분류 및 평가는 매우 중요하다.   \n",
       "3                 Congressional Avenue에서 내려주실 수 있나요?   \n",
       "4                                           >80 뽑았어?   \n",
       "\n",
       "                                                  en  source  \n",
       "0  The picture book \"Gyeonwoo and Jiknyeo\" depict...     125  \n",
       "1    I looked over the price of various hotel rooms.   71265  \n",
       "2  Classification and evaluation of service requi...     124  \n",
       "3       Can you drop us off at Congressional Avenue?   71265  \n",
       "4                             >Did you pick 800,000?   71265  "
      ]
     },
     "metadata": {},
     "output_type": "display_data"
    }
   ],
   "source": [
    "tiny_train = pd.read_csv('./aihub-koen-translation-integrated-tiny-100k/train.csv')\n",
    "tiny_eval = pd.read_csv('./aihub-koen-translation-integrated-tiny-100k/validation.csv')\n",
    "tiny_test = pd.read_csv('./aihub-koen-translation-integrated-tiny-100k/test.csv')\n",
    "display(tiny_train.head())\n",
    "display(tiny_eval.head())\n",
    "display(tiny_test.head())"
   ]
  },
  {
   "cell_type": "code",
   "execution_count": 26,
   "metadata": {},
   "outputs": [],
   "source": [
    "total_minus_train = total_shuffle.merge(tiny_train, indicator=True, how='outer').query('_merge==\"left_only\"').drop('_merge', axis=1)\n",
    "total_minus_train_eval = total_minus_train.merge(tiny_eval, indicator=True, how='outer').query('_merge==\"left_only\"').drop('_merge', axis=1)\n",
    "total_minus_train_eval_test = total_minus_train_eval.merge(tiny_test, indicator=True, how='outer').query('_merge==\"left_only\"').drop('_merge', axis=1)"
   ]
  },
  {
   "cell_type": "code",
   "execution_count": 27,
   "metadata": {},
   "outputs": [
    {
     "name": "stdout",
     "output_type": "stream",
     "text": [
      "10416509\n",
      "10312343\n",
      "104166\n",
      "104166\n"
     ]
    }
   ],
   "source": [
    "print(len(total))\n",
    "print(len(total_minus_train_eval_test))\n",
    "print(len(tiny_train) + len(tiny_eval) + len(tiny_test))\n",
    "print(len(total) - len(total_minus_train_eval_test))"
   ]
  },
  {
   "cell_type": "code",
   "execution_count": 28,
   "metadata": {},
   "outputs": [
    {
     "name": "stdout",
     "output_type": "stream",
     "text": [
      "83332\n",
      "10417\n"
     ]
    }
   ],
   "source": [
    "print(len(tiny_train))\n",
    "print(len(tiny_eval))"
   ]
  },
  {
   "cell_type": "code",
   "execution_count": 30,
   "metadata": {},
   "outputs": [
    {
     "data": {
      "text/plain": [
       "source\n",
       "71265    19712\n",
       "126      12780\n",
       "111      10919\n",
       "124      10877\n",
       "125      10818\n",
       "71266    10733\n",
       "71382     4601\n",
       "563       2892\n",
       "Name: count, dtype: int64"
      ]
     },
     "metadata": {},
     "output_type": "display_data"
    },
    {
     "data": {
      "text/plain": [
       "source\n",
       "71265    2529\n",
       "126      1590\n",
       "124      1349\n",
       "71266    1342\n",
       "111      1332\n",
       "125      1328\n",
       "71382     585\n",
       "563       362\n",
       "Name: count, dtype: int64"
      ]
     },
     "metadata": {},
     "output_type": "display_data"
    }
   ],
   "source": [
    "display(tiny_train['source'].value_counts())\n",
    "display(tiny_eval['source'].value_counts())"
   ]
  },
  {
   "cell_type": "code",
   "execution_count": 31,
   "metadata": {},
   "outputs": [
    {
     "name": "stdout",
     "output_type": "stream",
     "text": [
      "5156171\n",
      "5156172\n"
     ]
    }
   ],
   "source": [
    "half_1, half_2 = train_test_split(total_minus_train_eval_test, test_size=0.5, random_state=42)\n",
    "print(len(half_1))\n",
    "print(len(half_2))"
   ]
  },
  {
   "cell_type": "code",
   "execution_count": 32,
   "metadata": {},
   "outputs": [],
   "source": [
    "tiny_train_2 = half_1.sample(n=83332)\n",
    "tiny_eval_2 = half_2.sample(n=10417)"
   ]
  },
  {
   "cell_type": "code",
   "execution_count": 34,
   "metadata": {},
   "outputs": [
    {
     "data": {
      "text/plain": [
       "source\n",
       "71265    19860\n",
       "126      12920\n",
       "125      10833\n",
       "111      10753\n",
       "124      10696\n",
       "71266    10632\n",
       "71382     4744\n",
       "563       2894\n",
       "Name: count, dtype: int64"
      ]
     },
     "metadata": {},
     "output_type": "display_data"
    },
    {
     "data": {
      "text/plain": [
       "source\n",
       "71265    2535\n",
       "126      1536\n",
       "125      1366\n",
       "71266    1362\n",
       "124      1340\n",
       "111      1308\n",
       "71382     603\n",
       "563       367\n",
       "Name: count, dtype: int64"
      ]
     },
     "metadata": {},
     "output_type": "display_data"
    }
   ],
   "source": [
    "display(tiny_train_2['source'].value_counts())\n",
    "display(tiny_eval_2['source'].value_counts())"
   ]
  },
  {
   "cell_type": "code",
   "execution_count": 39,
   "metadata": {},
   "outputs": [],
   "source": [
    "tiny_train_2.to_csv('./train.csv', index=False)\n",
    "tiny_eval_2.to_csv('./validation.csv', index=False)"
   ]
  },
  {
   "cell_type": "code",
   "execution_count": null,
   "metadata": {},
   "outputs": [],
   "source": []
  }
 ],
 "metadata": {
  "kernelspec": {
   "display_name": "qlora",
   "language": "python",
   "name": "python3"
  },
  "language_info": {
   "codemirror_mode": {
    "name": "ipython",
    "version": 3
   },
   "file_extension": ".py",
   "mimetype": "text/x-python",
   "name": "python",
   "nbconvert_exporter": "python",
   "pygments_lexer": "ipython3",
   "version": "3.11.5"
  }
 },
 "nbformat": 4,
 "nbformat_minor": 2
}
