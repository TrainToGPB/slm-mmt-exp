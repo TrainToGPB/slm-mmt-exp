{
 "cells": [
  {
   "cell_type": "code",
   "execution_count": 1,
   "metadata": {},
   "outputs": [],
   "source": [
    "import pandas as pd\n",
    "from sklearn.model_selection import train_test_split"
   ]
  },
  {
   "cell_type": "code",
   "execution_count": 65,
   "metadata": {},
   "outputs": [
    {
     "data": {
      "text/html": [
       "<div>\n",
       "<style scoped>\n",
       "    .dataframe tbody tr th:only-of-type {\n",
       "        vertical-align: middle;\n",
       "    }\n",
       "\n",
       "    .dataframe tbody tr th {\n",
       "        vertical-align: top;\n",
       "    }\n",
       "\n",
       "    .dataframe thead th {\n",
       "        text-align: right;\n",
       "    }\n",
       "</style>\n",
       "<table border=\"1\" class=\"dataframe\">\n",
       "  <thead>\n",
       "    <tr style=\"text-align: right;\">\n",
       "      <th></th>\n",
       "      <th>ko</th>\n",
       "      <th>en</th>\n",
       "      <th>source</th>\n",
       "    </tr>\n",
       "  </thead>\n",
       "  <tbody>\n",
       "    <tr>\n",
       "      <th>0</th>\n",
       "      <td>통영 용남면 장평리 바닷가 해안도로 앞에 위치한 통영 늘푸른 펜션에 오신 것을 환영...</td>\n",
       "      <td>Welcome to Tongyeong's Evergreen Pension locat...</td>\n",
       "      <td>111</td>\n",
       "    </tr>\n",
       "    <tr>\n",
       "      <th>1</th>\n",
       "      <td>허브아일랜드의 불빛동화 축제는 국내 최고 겨울축제 중 하나로 꼽힌다.</td>\n",
       "      <td>Herb Island's Light Fairy Tale Festival is con...</td>\n",
       "      <td>111</td>\n",
       "    </tr>\n",
       "    <tr>\n",
       "      <th>2</th>\n",
       "      <td>봉비산 자락에 위치하고 있는 도심 속의 전통 사찰이다.</td>\n",
       "      <td>It is a traditional temple in the city center ...</td>\n",
       "      <td>111</td>\n",
       "    </tr>\n",
       "    <tr>\n",
       "      <th>3</th>\n",
       "      <td>수룡동 마을안길로 들어가면 쉽게 오를 수 있다.</td>\n",
       "      <td>It can be easily climbed by entering the insid...</td>\n",
       "      <td>111</td>\n",
       "    </tr>\n",
       "    <tr>\n",
       "      <th>4</th>\n",
       "      <td>토스 측은 \"가족과 함께 송편을 나눠먹듯, 송편지원금 또한 가족, 친척, 친구, 오...</td>\n",
       "      <td>Toss explained the meaning of the event, sayin...</td>\n",
       "      <td>111</td>\n",
       "    </tr>\n",
       "  </tbody>\n",
       "</table>\n",
       "</div>"
      ],
      "text/plain": [
       "                                                  ko  \\\n",
       "0  통영 용남면 장평리 바닷가 해안도로 앞에 위치한 통영 늘푸른 펜션에 오신 것을 환영...   \n",
       "1             허브아일랜드의 불빛동화 축제는 국내 최고 겨울축제 중 하나로 꼽힌다.   \n",
       "2                     봉비산 자락에 위치하고 있는 도심 속의 전통 사찰이다.   \n",
       "3                         수룡동 마을안길로 들어가면 쉽게 오를 수 있다.   \n",
       "4  토스 측은 \"가족과 함께 송편을 나눠먹듯, 송편지원금 또한 가족, 친척, 친구, 오...   \n",
       "\n",
       "                                                  en  source  \n",
       "0  Welcome to Tongyeong's Evergreen Pension locat...     111  \n",
       "1  Herb Island's Light Fairy Tale Festival is con...     111  \n",
       "2  It is a traditional temple in the city center ...     111  \n",
       "3  It can be easily climbed by entering the insid...     111  \n",
       "4  Toss explained the meaning of the event, sayin...     111  "
      ]
     },
     "execution_count": 65,
     "metadata": {},
     "output_type": "execute_result"
    }
   ],
   "source": [
    "total_drop_long = pd.read_csv('./integrated_total/total_drop_long.csv')\n",
    "total_drop_long.head()"
   ]
  },
  {
   "cell_type": "code",
   "execution_count": 60,
   "metadata": {},
   "outputs": [],
   "source": [
    "train = pd.read_csv('./aihub-koen-translation-integrated-tiny-100k/train.csv')\n",
    "eval = pd.read_csv('./aihub-koen-translation-integrated-tiny-100k/validation.csv')\n",
    "test = pd.read_csv('./aihub-koen-translation-integrated-tiny-100k/test.csv')"
   ]
  },
  {
   "cell_type": "code",
   "execution_count": 8,
   "metadata": {},
   "outputs": [
    {
     "data": {
      "text/html": [
       "<div>\n",
       "<style scoped>\n",
       "    .dataframe tbody tr th:only-of-type {\n",
       "        vertical-align: middle;\n",
       "    }\n",
       "\n",
       "    .dataframe tbody tr th {\n",
       "        vertical-align: top;\n",
       "    }\n",
       "\n",
       "    .dataframe thead th {\n",
       "        text-align: right;\n",
       "    }\n",
       "</style>\n",
       "<table border=\"1\" class=\"dataframe\">\n",
       "  <thead>\n",
       "    <tr style=\"text-align: right;\">\n",
       "      <th></th>\n",
       "      <th>ko</th>\n",
       "      <th>en</th>\n",
       "      <th>source</th>\n",
       "    </tr>\n",
       "  </thead>\n",
       "  <tbody>\n",
       "    <tr>\n",
       "      <th>2616439</th>\n",
       "      <td>덧셈기(200)는 램프 신호(VRA)와 증폭 감지 전압(VS_M)을 더하여 합 신호...</td>\n",
       "      <td>The adder 200 generates the sum signal VSU by ...</td>\n",
       "      <td>124</td>\n",
       "    </tr>\n",
       "    <tr>\n",
       "      <th>2746109</th>\n",
       "      <td>본 연구는 가격 공정성, 매장 청결성, 접근성을 4가지 항목을 이용하여 측정하였으며...</td>\n",
       "      <td>In this study, price fairness, store cleanline...</td>\n",
       "      <td>125</td>\n",
       "    </tr>\n",
       "    <tr>\n",
       "      <th>72655</th>\n",
       "      <td>경품 1등에 당첨된 고객은 520만원 상당의 크루즈 여행 발코니 객실 2인 사용권을...</td>\n",
       "      <td>A customer who win the first prize will receiv...</td>\n",
       "      <td>111</td>\n",
       "    </tr>\n",
       "    <tr>\n",
       "      <th>3144481</th>\n",
       "      <td>이러한 현실하에서, 우리가 어떻게 행동해야 될지는 자명한 것이다.</td>\n",
       "      <td>It is clear how we should act in this reality.</td>\n",
       "      <td>125</td>\n",
       "    </tr>\n",
       "    <tr>\n",
       "      <th>7435225</th>\n",
       "      <td>다음 날 요청하신 대로 100만원의 보증금을 지불해 드렸습니다.</td>\n",
       "      <td>As you requested the next day, we paid a depos...</td>\n",
       "      <td>71265</td>\n",
       "    </tr>\n",
       "  </tbody>\n",
       "</table>\n",
       "</div>"
      ],
      "text/plain": [
       "                                                        ko  \\\n",
       "2616439  덧셈기(200)는 램프 신호(VRA)와 증폭 감지 전압(VS_M)을 더하여 합 신호...   \n",
       "2746109  본 연구는 가격 공정성, 매장 청결성, 접근성을 4가지 항목을 이용하여 측정하였으며...   \n",
       "72655    경품 1등에 당첨된 고객은 520만원 상당의 크루즈 여행 발코니 객실 2인 사용권을...   \n",
       "3144481               이러한 현실하에서, 우리가 어떻게 행동해야 될지는 자명한 것이다.   \n",
       "7435225                다음 날 요청하신 대로 100만원의 보증금을 지불해 드렸습니다.   \n",
       "\n",
       "                                                        en  source  \n",
       "2616439  The adder 200 generates the sum signal VSU by ...     124  \n",
       "2746109  In this study, price fairness, store cleanline...     125  \n",
       "72655    A customer who win the first prize will receiv...     111  \n",
       "3144481     It is clear how we should act in this reality.     125  \n",
       "7435225  As you requested the next day, we paid a depos...   71265  "
      ]
     },
     "execution_count": 8,
     "metadata": {},
     "output_type": "execute_result"
    }
   ],
   "source": [
    "total_drop_long = total_drop_long.sample(frac=1.0, random_state=42)\n",
    "total_drop_long.head()"
   ]
  },
  {
   "cell_type": "code",
   "execution_count": 61,
   "metadata": {},
   "outputs": [
    {
     "data": {
      "text/plain": [
       "source\n",
       "71265    19712\n",
       "126      12780\n",
       "111      10919\n",
       "124      10877\n",
       "125      10818\n",
       "71266    10733\n",
       "71382     4601\n",
       "563       2892\n",
       "Name: count, dtype: int64"
      ]
     },
     "execution_count": 61,
     "metadata": {},
     "output_type": "execute_result"
    }
   ],
   "source": [
    "train_value_counts = train['source'].value_counts()\n",
    "train_value_counts"
   ]
  },
  {
   "cell_type": "code",
   "execution_count": 38,
   "metadata": {},
   "outputs": [
    {
     "data": {
      "text/plain": [
       "ko                                                                                                                   en                                                                                                                                                                                                                                                                                                                                     source\n",
       " '괜찮아 좋은데 가셨을거야, 지금 너가 정신 차리고 있어야 돼 내가 빨리 갈게' 라고 얘기하는데 용만이 형이 벌써 울고 있는거야.                                            I was telling her 'It's okay, he must have gone to a good place. Hang in there, I'll get there quickly', but Yongman was already crying.                                                                                                                                                                                               71382     1\n",
       "이 논문이 흥미로운 점은 기존의 사회학, 경제학, 문화전파의 시각에서 이민호 팬을 연구한 것이 아니라, 심리학의 시각에서 분석을 시도했다는 점이다.                                   The interesting point of this paper is that it was not a study of Lee Minho's fan in traditional sociology, economics, and cultural propaganda, but rather that it attempted to analyze it from a psychological point of view.                                                                                                         126       1\n",
       "이 논문이 주목하고자 하는 것이 바로 이러한 감정적 반응의 사회적 구조 내지는 범주로서의 세련됨 이다.                                                            It is the social structure of this emotional response or refinement as a category.                                                                                                                                                                                                                                                     125       1\n",
       "이 논문이 제시한 부모 일방의 자녀 탈취로부터 다른 부모 일방의 양육권을 확보하고 자녀의 복리를 확보하기 위한 법적 과제는 다음과 같다.                                         The legal tasks to secure the custody regarding the other parent as well as the welfare of the kid from the kidnapping of the child by one moms and dad recommended in this paper are as follows.                                                                                                                                      125       1\n",
       "이 논문이 제시하는 음악통사론의 토대개념들인 재귀성과 대칭성은 지극히 일반적인 개념이며, 실제 통사적 관계의 해석에서는 음악적 지각의 유연성과 그러한 음악적 지각을 표현하는 방식의 다수성을 드러내고자 했다.  Recursion and symmetry, which are the fundamental concepts of musical syntax presented in this thesis, are very general concepts, and in the interpretation of the actual syntactic relationship, the flexibility of musical perception and the multiplicity of ways of expressing such musical perception were tried to be revealed.  125       1\n",
       "                                                                                                                                                                                                                                                                                                                                                                                                                                                                     ..\n",
       "동영상 학습 내용은 연구 대상자인 일반 대학생들이 인지 부하를 경험할 수 있도록 하는 도전적인 난이도를 갖추어야 한다.                                                   The contents of video learning should have a challenging degree of difficulty that allows ordinary college students, who are the subjects of the study, to experience cognitive load.                                                                                                                                                  125       1\n",
       "동영상 하나에 5천만 원 수익을 올린다는 도티에게 관심이 모아졌다.                                                                                Attention has been drawn to Dottie, who earns 50 million won per video.                                                                                                                                                                                                                                                                111       1\n",
       "동영상 플레이어 및 편집기 카테고리에서 한국 구글플레이 이용자의 지출이 2년 만에 3배 이상 급증한 것으로 나타났다.                                                    A report showed that expenses of Korean users of Google Play surged by more than 3 times in 2 years in the category of video players and editors.                                                                                                                                                                                      126       1\n",
       "동영상 플레이가 가능한 형식으로 제출하며, 절차는 다음과 같다.                                                                                  A format should submit it in a video-playable and the procedure is as follows.                                                                                                                                                                                                                                                         125       1\n",
       "󰊱과 같이 전용봉투에 담은 후 병원 이송 전까지 제공된 합성수지 전용용기에 투입하여 보관해주시기 바랍니다.                                                          Please put it in a dedicated bag as shown in it and put it in a plastic bag provided before transferring it to the hospital.                                                                                                                                                                                                           111       1\n",
       "Name: count, Length: 4898409, dtype: int64"
      ]
     },
     "execution_count": 38,
     "metadata": {},
     "output_type": "execute_result"
    }
   ],
   "source": [
    "total_necessary = total_drop_long[(total_drop_long['source']==111) |\\\n",
    "                                  (total_drop_long['source']==125) |\\\n",
    "                                  (total_drop_long['source']==126) |\\\n",
    "                                  (total_drop_long['source']==71382)]"
   ]
  },
  {
   "cell_type": "code",
   "execution_count": 54,
   "metadata": {},
   "outputs": [
    {
     "data": {
      "text/plain": [
       "source\n",
       "126      1599924\n",
       "125      1361825\n",
       "111      1350000\n",
       "71382     586660\n",
       "Name: count, dtype: int64"
      ]
     },
     "execution_count": 54,
     "metadata": {},
     "output_type": "execute_result"
    }
   ],
   "source": [
    "necessary_value_counts = total_necessary['source'].value_counts()\n",
    "necessary_value_counts"
   ]
  },
  {
   "cell_type": "code",
   "execution_count": 67,
   "metadata": {},
   "outputs": [],
   "source": [
    "total_drop_long_shuffle = total_drop_long.sample(frac=1.0, random_state=42)"
   ]
  },
  {
   "cell_type": "code",
   "execution_count": 69,
   "metadata": {},
   "outputs": [
    {
     "name": "stderr",
     "output_type": "stream",
     "text": [
      "  1%|          | 9103/1350000 [00:53<2:23:07, 156.14it/s]"
     ]
    },
    {
     "name": "stdout",
     "output_type": "stream",
     "text": [
      "source\n",
      "71265    19712\n",
      "126      12780\n",
      "111      20000\n",
      "124      10877\n",
      "125      10818\n",
      "71266    10733\n",
      "71382     4601\n",
      "563       2892\n",
      "Name: count, dtype: int64\n"
     ]
    },
    {
     "name": "stderr",
     "output_type": "stream",
     "text": [
      "  1%|▏         | 19108/1350000 [02:00<2:36:53, 141.38it/s]"
     ]
    },
    {
     "name": "stdout",
     "output_type": "stream",
     "text": [
      "source\n",
      "71265    19712\n",
      "126      12780\n",
      "111      30000\n",
      "124      10877\n",
      "125      10818\n",
      "71266    10733\n",
      "71382     4601\n",
      "563       2892\n",
      "Name: count, dtype: int64\n"
     ]
    },
    {
     "name": "stderr",
     "output_type": "stream",
     "text": [
      "  2%|▏         | 29104/1350000 [03:13<2:45:21, 133.14it/s]"
     ]
    },
    {
     "name": "stdout",
     "output_type": "stream",
     "text": [
      "source\n",
      "71265    19712\n",
      "126      12780\n",
      "111      40000\n",
      "124      10877\n",
      "125      10818\n",
      "71266    10733\n",
      "71382     4601\n",
      "563       2892\n",
      "Name: count, dtype: int64\n"
     ]
    },
    {
     "name": "stderr",
     "output_type": "stream",
     "text": [
      "  3%|▎         | 39080/1350000 [04:31<2:31:49, 143.90it/s]\n"
     ]
    },
    {
     "name": "stdout",
     "output_type": "stream",
     "text": [
      "source\n",
      "71265    19712\n",
      "126      12780\n",
      "111      50000\n",
      "124      10877\n",
      "125      10818\n",
      "71266    10733\n",
      "71382     4601\n",
      "563       2892\n",
      "Name: count, dtype: int64\n"
     ]
    },
    {
     "name": "stderr",
     "output_type": "stream",
     "text": [
      "  1%|          | 9231/1361825 [01:37<4:09:59, 90.18it/s] "
     ]
    },
    {
     "name": "stdout",
     "output_type": "stream",
     "text": [
      "source\n",
      "71265    19712\n",
      "126      12780\n",
      "111      50000\n",
      "124      10877\n",
      "125      20000\n",
      "71266    10733\n",
      "71382     4601\n",
      "563       2892\n",
      "Name: count, dtype: int64\n"
     ]
    },
    {
     "name": "stderr",
     "output_type": "stream",
     "text": [
      "  1%|▏         | 19281/1361825 [03:33<4:19:40, 86.17it/s]"
     ]
    },
    {
     "name": "stdout",
     "output_type": "stream",
     "text": [
      "source\n",
      "71265    19712\n",
      "126      12780\n",
      "111      50000\n",
      "124      10877\n",
      "125      30000\n",
      "71266    10733\n",
      "71382     4601\n",
      "563       2892\n",
      "Name: count, dtype: int64\n"
     ]
    },
    {
     "name": "stderr",
     "output_type": "stream",
     "text": [
      "  2%|▏         | 29320/1361825 [05:33<4:31:28, 81.81it/s]"
     ]
    },
    {
     "name": "stdout",
     "output_type": "stream",
     "text": [
      "source\n",
      "71265    19712\n",
      "126      12780\n",
      "111      50000\n",
      "124      10877\n",
      "125      40000\n",
      "71266    10733\n",
      "71382     4601\n",
      "563       2892\n",
      "Name: count, dtype: int64\n"
     ]
    },
    {
     "name": "stderr",
     "output_type": "stream",
     "text": [
      "  3%|▎         | 39337/1361825 [07:38<4:16:39, 85.88it/s]\n"
     ]
    },
    {
     "name": "stdout",
     "output_type": "stream",
     "text": [
      "source\n",
      "71265    19712\n",
      "126      12780\n",
      "111      50000\n",
      "124      10877\n",
      "125      50000\n",
      "71266    10733\n",
      "71382     4601\n",
      "563       2892\n",
      "Name: count, dtype: int64\n"
     ]
    },
    {
     "name": "stderr",
     "output_type": "stream",
     "text": [
      "  0%|          | 7265/1599924 [01:49<6:54:22, 64.06it/s]"
     ]
    },
    {
     "name": "stdout",
     "output_type": "stream",
     "text": [
      "source\n",
      "71265    19712\n",
      "126      20000\n",
      "111      50000\n",
      "124      10877\n",
      "125      50000\n",
      "71266    10733\n",
      "71382     4601\n",
      "563       2892\n",
      "Name: count, dtype: int64\n"
     ]
    },
    {
     "name": "stderr",
     "output_type": "stream",
     "text": [
      "  1%|          | 17311/1599924 [04:30<6:56:33, 63.32it/s]"
     ]
    },
    {
     "name": "stdout",
     "output_type": "stream",
     "text": [
      "source\n",
      "71265    19712\n",
      "126      30000\n",
      "111      50000\n",
      "124      10877\n",
      "125      50000\n",
      "71266    10733\n",
      "71382     4601\n",
      "563       2892\n",
      "Name: count, dtype: int64\n"
     ]
    },
    {
     "name": "stderr",
     "output_type": "stream",
     "text": [
      "  2%|▏         | 27375/1599924 [07:17<7:25:56, 58.77it/s]"
     ]
    },
    {
     "name": "stdout",
     "output_type": "stream",
     "text": [
      "source\n",
      "71265    19712\n",
      "126      40000\n",
      "111      50000\n",
      "124      10877\n",
      "125      50000\n",
      "71266    10733\n",
      "71382     4601\n",
      "563       2892\n",
      "Name: count, dtype: int64\n"
     ]
    },
    {
     "name": "stderr",
     "output_type": "stream",
     "text": [
      "  2%|▏         | 37415/1599924 [10:09<7:04:14, 61.38it/s]\n"
     ]
    },
    {
     "name": "stdout",
     "output_type": "stream",
     "text": [
      "source\n",
      "71265    19712\n",
      "126      50000\n",
      "111      50000\n",
      "124      10877\n",
      "125      50000\n",
      "71266    10733\n",
      "71382     4601\n",
      "563       2892\n",
      "Name: count, dtype: int64\n"
     ]
    },
    {
     "name": "stderr",
     "output_type": "stream",
     "text": [
      "  1%|          | 5454/586660 [01:46<3:03:39, 52.75it/s]"
     ]
    },
    {
     "name": "stdout",
     "output_type": "stream",
     "text": [
      "source\n",
      "71265    19712\n",
      "126      50000\n",
      "111      50000\n",
      "124      10877\n",
      "125      50000\n",
      "71266    10733\n",
      "71382    10000\n",
      "563       2892\n",
      "Name: count, dtype: int64\n"
     ]
    },
    {
     "name": "stderr",
     "output_type": "stream",
     "text": [
      "  3%|▎         | 15524/586660 [05:09<3:14:13, 49.01it/s]"
     ]
    },
    {
     "name": "stdout",
     "output_type": "stream",
     "text": [
      "source\n",
      "71265    19712\n",
      "126      50000\n",
      "111      50000\n",
      "124      10877\n",
      "125      50000\n",
      "71266    10733\n",
      "71382    20000\n",
      "563       2892\n",
      "Name: count, dtype: int64\n"
     ]
    },
    {
     "name": "stderr",
     "output_type": "stream",
     "text": [
      "  4%|▍         | 25604/586660 [08:36<3:14:29, 48.08it/s]"
     ]
    },
    {
     "name": "stdout",
     "output_type": "stream",
     "text": [
      "source\n",
      "71265    19712\n",
      "126      50000\n",
      "111      50000\n",
      "124      10877\n",
      "125      50000\n",
      "71266    10733\n",
      "71382    30000\n",
      "563       2892\n",
      "Name: count, dtype: int64\n"
     ]
    },
    {
     "name": "stderr",
     "output_type": "stream",
     "text": [
      "  6%|▌         | 35681/586660 [12:06<3:16:15, 46.79it/s]"
     ]
    },
    {
     "name": "stdout",
     "output_type": "stream",
     "text": [
      "source\n",
      "71265    19712\n",
      "126      50000\n",
      "111      50000\n",
      "124      10877\n",
      "125      50000\n",
      "71266    10733\n",
      "71382    40000\n",
      "563       2892\n",
      "Name: count, dtype: int64\n"
     ]
    },
    {
     "name": "stderr",
     "output_type": "stream",
     "text": [
      "  8%|▊         | 45743/586660 [15:41<3:05:30, 48.60it/s]"
     ]
    },
    {
     "name": "stdout",
     "output_type": "stream",
     "text": [
      "source\n",
      "71265    19712\n",
      "126      50000\n",
      "111      50000\n",
      "124      10877\n",
      "125      50000\n",
      "71266    10733\n",
      "71382    50000\n",
      "563       2892\n",
      "Name: count, dtype: int64\n"
     ]
    },
    {
     "name": "stderr",
     "output_type": "stream",
     "text": [
      "\n"
     ]
    }
   ],
   "source": [
    "from tqdm import tqdm\n",
    "\n",
    "train = pd.read_csv('./aihub-koen-translation-integrated-tiny-100k/train.csv')\n",
    "train_value_counts = train['source'].value_counts()\n",
    "\n",
    "for src in [111, 125, 126, 71382]:\n",
    "    total_necessary = total_drop_long_shuffle[total_drop_long_shuffle['source'] == src]\n",
    "    train_ko_list = train[train['source'] == src]['ko'].tolist()\n",
    "    for idx, row in tqdm(total_necessary.iterrows(), total=len(total_necessary)):\n",
    "        if train_value_counts[src] < 50000:\n",
    "            if row['ko'] in train_ko_list:\n",
    "                continue\n",
    "            train=pd.concat([train, pd.DataFrame(row).T], ignore_index=True)\n",
    "            train_value_counts[src] += 1\n",
    "            if train_value_counts[src] % 10000 == 0:\n",
    "                print(train_value_counts)\n",
    "        if train_value_counts[src] == 50000:\n",
    "            break"
   ]
  },
  {
   "cell_type": "code",
   "execution_count": 71,
   "metadata": {},
   "outputs": [
    {
     "data": {
      "text/html": [
       "<div>\n",
       "<style scoped>\n",
       "    .dataframe tbody tr th:only-of-type {\n",
       "        vertical-align: middle;\n",
       "    }\n",
       "\n",
       "    .dataframe tbody tr th {\n",
       "        vertical-align: top;\n",
       "    }\n",
       "\n",
       "    .dataframe thead th {\n",
       "        text-align: right;\n",
       "    }\n",
       "</style>\n",
       "<table border=\"1\" class=\"dataframe\">\n",
       "  <thead>\n",
       "    <tr style=\"text-align: right;\">\n",
       "      <th></th>\n",
       "      <th>ko</th>\n",
       "      <th>en</th>\n",
       "      <th>source</th>\n",
       "    </tr>\n",
       "  </thead>\n",
       "  <tbody>\n",
       "    <tr>\n",
       "      <th>0</th>\n",
       "      <td>지방세법 개정안에 따른 종합부동산세는 부과징수권자의 경우를 제외하고는 대부분 종전 ...</td>\n",
       "      <td>Comprehensive real estate tax according to the...</td>\n",
       "      <td>125</td>\n",
       "    </tr>\n",
       "    <tr>\n",
       "      <th>1</th>\n",
       "      <td>실신 당시 5초 정도 의식소실이 있었고 바로 의식은 회복되으며 신경학적 이상증상은 ...</td>\n",
       "      <td>At the time of fainting, there was a loss of c...</td>\n",
       "      <td>124</td>\n",
       "    </tr>\n",
       "    <tr>\n",
       "      <th>2</th>\n",
       "      <td>문 대통령의 10월 방일이 성사될 경우 한·일 양국은 일본군 위안부 합의 이행 문제...</td>\n",
       "      <td>If President Moon visits Japan in October, the...</td>\n",
       "      <td>126</td>\n",
       "    </tr>\n",
       "    <tr>\n",
       "      <th>3</th>\n",
       "      <td>인덱스 펀드에 대한 투자에서는 장기적인 관점에서 수익을 얻을 수 있습니다.</td>\n",
       "      <td>Investment in index funds provides profitabili...</td>\n",
       "      <td>71265</td>\n",
       "    </tr>\n",
       "    <tr>\n",
       "      <th>4</th>\n",
       "      <td>돌봐야 하는 비용도 있지.</td>\n",
       "      <td>I also have expenses to take care of.</td>\n",
       "      <td>71265</td>\n",
       "    </tr>\n",
       "  </tbody>\n",
       "</table>\n",
       "</div>"
      ],
      "text/plain": [
       "                                                  ko  \\\n",
       "0  지방세법 개정안에 따른 종합부동산세는 부과징수권자의 경우를 제외하고는 대부분 종전 ...   \n",
       "1  실신 당시 5초 정도 의식소실이 있었고 바로 의식은 회복되으며 신경학적 이상증상은 ...   \n",
       "2  문 대통령의 10월 방일이 성사될 경우 한·일 양국은 일본군 위안부 합의 이행 문제...   \n",
       "3          인덱스 펀드에 대한 투자에서는 장기적인 관점에서 수익을 얻을 수 있습니다.   \n",
       "4                                     돌봐야 하는 비용도 있지.   \n",
       "\n",
       "                                                  en source  \n",
       "0  Comprehensive real estate tax according to the...    125  \n",
       "1  At the time of fainting, there was a loss of c...    124  \n",
       "2  If President Moon visits Japan in October, the...    126  \n",
       "3  Investment in index funds provides profitabili...  71265  \n",
       "4              I also have expenses to take care of.  71265  "
      ]
     },
     "execution_count": 71,
     "metadata": {},
     "output_type": "execute_result"
    }
   ],
   "source": [
    "train.head()"
   ]
  },
  {
   "cell_type": "code",
   "execution_count": 72,
   "metadata": {},
   "outputs": [],
   "source": [
    "train.to_csv('./train.csv', index=False)"
   ]
  },
  {
   "cell_type": "code",
   "execution_count": 73,
   "metadata": {},
   "outputs": [
    {
     "data": {
      "text/html": [
       "<div>\n",
       "<style scoped>\n",
       "    .dataframe tbody tr th:only-of-type {\n",
       "        vertical-align: middle;\n",
       "    }\n",
       "\n",
       "    .dataframe tbody tr th {\n",
       "        vertical-align: top;\n",
       "    }\n",
       "\n",
       "    .dataframe thead th {\n",
       "        text-align: right;\n",
       "    }\n",
       "</style>\n",
       "<table border=\"1\" class=\"dataframe\">\n",
       "  <thead>\n",
       "    <tr style=\"text-align: right;\">\n",
       "      <th></th>\n",
       "      <th>ko</th>\n",
       "      <th>en</th>\n",
       "      <th>source</th>\n",
       "    </tr>\n",
       "  </thead>\n",
       "  <tbody>\n",
       "    <tr>\n",
       "      <th>0</th>\n",
       "      <td>한일 관계 악화가 양국의 경제, 사회, 문화 등 다른 분야에 미치는 악영향을 최소화...</td>\n",
       "      <td>It is crucial to attenuate the adverse effects...</td>\n",
       "      <td>71266</td>\n",
       "    </tr>\n",
       "    <tr>\n",
       "      <th>1</th>\n",
       "      <td>직접 설계할 수 있습니다. 네, 기존 시스템에 추가 시스템을 개발했습니다.</td>\n",
       "      <td>You can design your own, yes, we have develope...</td>\n",
       "      <td>71265</td>\n",
       "    </tr>\n",
       "    <tr>\n",
       "      <th>2</th>\n",
       "      <td>정말 중요한 얘기는 그 다음에 이어지는데, AAA는 우리는 이것들을 거부하거나 경멸...</td>\n",
       "      <td>The really important story follows what the AA...</td>\n",
       "      <td>71266</td>\n",
       "    </tr>\n",
       "    <tr>\n",
       "      <th>3</th>\n",
       "      <td>추운 겨울이 지나버렸고 그리고 새로운 그 계절이 왔어.</td>\n",
       "      <td>Cold winter has passed and the new season came.</td>\n",
       "      <td>126</td>\n",
       "    </tr>\n",
       "    <tr>\n",
       "      <th>4</th>\n",
       "      <td>러시아가 금메달 17개로 종합순위 1위를 차지했고 개최국 이탈리아가 금메달 5개로 ...</td>\n",
       "      <td>Russia topped the overall list with 17 gold me...</td>\n",
       "      <td>111</td>\n",
       "    </tr>\n",
       "  </tbody>\n",
       "</table>\n",
       "</div>"
      ],
      "text/plain": [
       "                                                  ko  \\\n",
       "0  한일 관계 악화가 양국의 경제, 사회, 문화 등 다른 분야에 미치는 악영향을 최소화...   \n",
       "1          직접 설계할 수 있습니다. 네, 기존 시스템에 추가 시스템을 개발했습니다.   \n",
       "2  정말 중요한 얘기는 그 다음에 이어지는데, AAA는 우리는 이것들을 거부하거나 경멸...   \n",
       "3                     추운 겨울이 지나버렸고 그리고 새로운 그 계절이 왔어.   \n",
       "4  러시아가 금메달 17개로 종합순위 1위를 차지했고 개최국 이탈리아가 금메달 5개로 ...   \n",
       "\n",
       "                                                  en  source  \n",
       "0  It is crucial to attenuate the adverse effects...   71266  \n",
       "1  You can design your own, yes, we have develope...   71265  \n",
       "2  The really important story follows what the AA...   71266  \n",
       "3    Cold winter has passed and the new season came.     126  \n",
       "4  Russia topped the overall list with 17 gold me...     111  "
      ]
     },
     "execution_count": 73,
     "metadata": {},
     "output_type": "execute_result"
    }
   ],
   "source": [
    "eval.head()"
   ]
  },
  {
   "cell_type": "code",
   "execution_count": 76,
   "metadata": {},
   "outputs": [
    {
     "data": {
      "text/plain": [
       "source\n",
       "71265    2529\n",
       "126      1590\n",
       "124      1349\n",
       "71266    1342\n",
       "111      1332\n",
       "125      1328\n",
       "71382     585\n",
       "563       362\n",
       "Name: count, dtype: int64"
      ]
     },
     "execution_count": 76,
     "metadata": {},
     "output_type": "execute_result"
    }
   ],
   "source": [
    "eval_value_counts = eval['source'].value_counts()\n",
    "eval_value_counts"
   ]
  },
  {
   "cell_type": "code",
   "execution_count": 79,
   "metadata": {},
   "outputs": [
    {
     "data": {
      "text/plain": [
       "source\n",
       "71265    300\n",
       "126      300\n",
       "124      300\n",
       "71266    300\n",
       "111      300\n",
       "125      300\n",
       "71382    300\n",
       "563      300\n",
       "Name: count, dtype: int64"
      ]
     },
     "execution_count": 79,
     "metadata": {},
     "output_type": "execute_result"
    }
   ],
   "source": [
    "sample_size = 300\n",
    "eval_uniform = pd.DataFrame()\n",
    "\n",
    "for source, count in eval_value_counts.items():\n",
    "    if count <= sample_size:\n",
    "        sampled_rows = eval[eval['source'] == source]\n",
    "    else:\n",
    "        sampled_rows = eval[eval['source'] == source].sample(n=sample_size, random_state=42)\n",
    "    eval_uniform = pd.concat([eval_uniform, sampled_rows])\n",
    "\n",
    "eval_uniform.reset_index(drop=True, inplace=True)\n",
    "eval_uniform['source'].value_counts()"
   ]
  },
  {
   "cell_type": "code",
   "execution_count": 81,
   "metadata": {},
   "outputs": [
    {
     "data": {
      "text/html": [
       "<div>\n",
       "<style scoped>\n",
       "    .dataframe tbody tr th:only-of-type {\n",
       "        vertical-align: middle;\n",
       "    }\n",
       "\n",
       "    .dataframe tbody tr th {\n",
       "        vertical-align: top;\n",
       "    }\n",
       "\n",
       "    .dataframe thead th {\n",
       "        text-align: right;\n",
       "    }\n",
       "</style>\n",
       "<table border=\"1\" class=\"dataframe\">\n",
       "  <thead>\n",
       "    <tr style=\"text-align: right;\">\n",
       "      <th></th>\n",
       "      <th>ko</th>\n",
       "      <th>en</th>\n",
       "      <th>source</th>\n",
       "    </tr>\n",
       "  </thead>\n",
       "  <tbody>\n",
       "    <tr>\n",
       "      <th>2037</th>\n",
       "      <td>요즘 안 그래도 일이 없어졌는데 슬퍼지네요.</td>\n",
       "      <td>I'm getting sad even though I've been out of w...</td>\n",
       "      <td>71382</td>\n",
       "    </tr>\n",
       "    <tr>\n",
       "      <th>1978</th>\n",
       "      <td>벌써 56년 이니까 오래됐죠.</td>\n",
       "      <td>It's already been 56 years, so it's been a lon...</td>\n",
       "      <td>71382</td>\n",
       "    </tr>\n",
       "    <tr>\n",
       "      <th>855</th>\n",
       "      <td>통풍이 있으면 요산 배설을 막고 요산 합성을 촉진시킬 수 있기 때문에 통풍이 있는 ...</td>\n",
       "      <td>People with gout should abstain from drinking ...</td>\n",
       "      <td>124</td>\n",
       "    </tr>\n",
       "    <tr>\n",
       "      <th>1719</th>\n",
       "      <td>따라서 본 연구는 비주거용 부동산 가격공시제도 도입에 대비한 부동산 관련 지방세 과...</td>\n",
       "      <td>The purpose of this study is to present a plan...</td>\n",
       "      <td>125</td>\n",
       "    </tr>\n",
       "    <tr>\n",
       "      <th>2019</th>\n",
       "      <td>결혼을 일찍 했네요.</td>\n",
       "      <td>You got married early.</td>\n",
       "      <td>71382</td>\n",
       "    </tr>\n",
       "  </tbody>\n",
       "</table>\n",
       "</div>"
      ],
      "text/plain": [
       "                                                     ko  \\\n",
       "2037                           요즘 안 그래도 일이 없어졌는데 슬퍼지네요.   \n",
       "1978                                   벌써 56년 이니까 오래됐죠.   \n",
       "855   통풍이 있으면 요산 배설을 막고 요산 합성을 촉진시킬 수 있기 때문에 통풍이 있는 ...   \n",
       "1719  따라서 본 연구는 비주거용 부동산 가격공시제도 도입에 대비한 부동산 관련 지방세 과...   \n",
       "2019                                        결혼을 일찍 했네요.   \n",
       "\n",
       "                                                     en  source  \n",
       "2037  I'm getting sad even though I've been out of w...   71382  \n",
       "1978  It's already been 56 years, so it's been a lon...   71382  \n",
       "855   People with gout should abstain from drinking ...     124  \n",
       "1719  The purpose of this study is to present a plan...     125  \n",
       "2019                             You got married early.   71382  "
      ]
     },
     "execution_count": 81,
     "metadata": {},
     "output_type": "execute_result"
    }
   ],
   "source": [
    "eval_uniform_shuffle = eval_uniform.sample(frac=1.0, random_state=42)\n",
    "eval_uniform_shuffle.head()"
   ]
  },
  {
   "cell_type": "code",
   "execution_count": 82,
   "metadata": {},
   "outputs": [],
   "source": [
    "eval_uniform_shuffle.to_csv('./validation.csv', index=False)"
   ]
  },
  {
   "cell_type": "code",
   "execution_count": null,
   "metadata": {},
   "outputs": [],
   "source": []
  }
 ],
 "metadata": {
  "kernelspec": {
   "display_name": "qlora",
   "language": "python",
   "name": "python3"
  },
  "language_info": {
   "codemirror_mode": {
    "name": "ipython",
    "version": 3
   },
   "file_extension": ".py",
   "mimetype": "text/x-python",
   "name": "python",
   "nbconvert_exporter": "python",
   "pygments_lexer": "ipython3",
   "version": "3.11.5"
  }
 },
 "nbformat": 4,
 "nbformat_minor": 2
}
