{
 "cells": [
  {
   "cell_type": "markdown",
   "metadata": {},
   "source": [
    "### 중복 확인 및 제거"
   ]
  },
  {
   "cell_type": "code",
   "execution_count": 2,
   "metadata": {},
   "outputs": [],
   "source": [
    "import pandas as pd"
   ]
  },
  {
   "cell_type": "code",
   "execution_count": 3,
   "metadata": {},
   "outputs": [
    {
     "data": {
      "text/html": [
       "<div>\n",
       "<style scoped>\n",
       "    .dataframe tbody tr th:only-of-type {\n",
       "        vertical-align: middle;\n",
       "    }\n",
       "\n",
       "    .dataframe tbody tr th {\n",
       "        vertical-align: top;\n",
       "    }\n",
       "\n",
       "    .dataframe thead th {\n",
       "        text-align: right;\n",
       "    }\n",
       "</style>\n",
       "<table border=\"1\" class=\"dataframe\">\n",
       "  <thead>\n",
       "    <tr style=\"text-align: right;\">\n",
       "      <th></th>\n",
       "      <th>ko</th>\n",
       "      <th>en</th>\n",
       "      <th>source</th>\n",
       "    </tr>\n",
       "  </thead>\n",
       "  <tbody>\n",
       "    <tr>\n",
       "      <th>0</th>\n",
       "      <td>통영 용남면 장평리 바닷가 해안도로 앞에 위치한 통영 늘푸른 펜션에 오신 것을 환영...</td>\n",
       "      <td>Welcome to Tongyeong's Evergreen Pension locat...</td>\n",
       "      <td>111</td>\n",
       "    </tr>\n",
       "    <tr>\n",
       "      <th>1</th>\n",
       "      <td>허브아일랜드의 불빛동화 축제는 국내 최고 겨울축제 중 하나로 꼽힌다.</td>\n",
       "      <td>Herb Island's Light Fairy Tale Festival is con...</td>\n",
       "      <td>111</td>\n",
       "    </tr>\n",
       "    <tr>\n",
       "      <th>2</th>\n",
       "      <td>봉비산 자락에 위치하고 있는 도심 속의 전통 사찰이다.</td>\n",
       "      <td>It is a traditional temple in the city center ...</td>\n",
       "      <td>111</td>\n",
       "    </tr>\n",
       "    <tr>\n",
       "      <th>3</th>\n",
       "      <td>수룡동 마을안길로 들어가면 쉽게 오를 수 있다.</td>\n",
       "      <td>It can be easily climbed by entering the insid...</td>\n",
       "      <td>111</td>\n",
       "    </tr>\n",
       "    <tr>\n",
       "      <th>4</th>\n",
       "      <td>토스 측은 \"가족과 함께 송편을 나눠먹듯, 송편지원금 또한 가족, 친척, 친구, 오...</td>\n",
       "      <td>Toss explained the meaning of the event, sayin...</td>\n",
       "      <td>111</td>\n",
       "    </tr>\n",
       "  </tbody>\n",
       "</table>\n",
       "</div>"
      ],
      "text/plain": [
       "                                                  ko  \\\n",
       "0  통영 용남면 장평리 바닷가 해안도로 앞에 위치한 통영 늘푸른 펜션에 오신 것을 환영...   \n",
       "1             허브아일랜드의 불빛동화 축제는 국내 최고 겨울축제 중 하나로 꼽힌다.   \n",
       "2                     봉비산 자락에 위치하고 있는 도심 속의 전통 사찰이다.   \n",
       "3                         수룡동 마을안길로 들어가면 쉽게 오를 수 있다.   \n",
       "4  토스 측은 \"가족과 함께 송편을 나눠먹듯, 송편지원금 또한 가족, 친척, 친구, 오...   \n",
       "\n",
       "                                                  en  source  \n",
       "0  Welcome to Tongyeong's Evergreen Pension locat...     111  \n",
       "1  Herb Island's Light Fairy Tale Festival is con...     111  \n",
       "2  It is a traditional temple in the city center ...     111  \n",
       "3  It can be easily climbed by entering the insid...     111  \n",
       "4  Toss explained the meaning of the event, sayin...     111  "
      ]
     },
     "execution_count": 3,
     "metadata": {},
     "output_type": "execute_result"
    }
   ],
   "source": [
    "total_raw = pd.read_csv('./total_raw.csv')\n",
    "total_raw.head()"
   ]
  },
  {
   "cell_type": "code",
   "execution_count": 29,
   "metadata": {},
   "outputs": [
    {
     "name": "stdout",
     "output_type": "stream",
     "text": [
      "source\n",
      "111      1350000\n",
      "124      1344631\n",
      "125      1361845\n",
      "126      1602418\n",
      "563       359999\n",
      "71265    2700345\n",
      "71266    1350162\n",
      "71382     587084\n",
      "Name: count, dtype: int64\n"
     ]
    }
   ],
   "source": [
    "value_counts_raw = total_raw['source'].value_counts()\n",
    "print(value_counts_raw.sort_index())"
   ]
  },
  {
   "cell_type": "code",
   "execution_count": 18,
   "metadata": {},
   "outputs": [
    {
     "name": "stdout",
     "output_type": "stream",
     "text": [
      "239975\n"
     ]
    }
   ],
   "source": [
    "total_koen = total_raw[['ko', 'en']]\n",
    "duplicated_indices = total_koen.duplicated()\n",
    "print(sum(duplicated_indices))"
   ]
  },
  {
   "cell_type": "code",
   "execution_count": 22,
   "metadata": {},
   "outputs": [],
   "source": [
    "unique_indices = total_koen[~duplicated_indices].index\n",
    "total_df = total_raw.loc[unique_indices]"
   ]
  },
  {
   "cell_type": "code",
   "execution_count": 31,
   "metadata": {},
   "outputs": [
    {
     "name": "stdout",
     "output_type": "stream",
     "text": [
      "source\n",
      "111      1350000\n",
      "124      1344631\n",
      "125      1361825\n",
      "126      1599924\n",
      "563       358424\n",
      "71265    2486058\n",
      "71266    1328987\n",
      "71382     586660\n",
      "Name: count, dtype: int64\n"
     ]
    }
   ],
   "source": [
    "value_counts_drop = total_df['source'].value_counts()\n",
    "print(value_counts_drop.sort_index())"
   ]
  },
  {
   "cell_type": "code",
   "execution_count": 24,
   "metadata": {},
   "outputs": [
    {
     "name": "stdout",
     "output_type": "stream",
     "text": [
      "10656484\n",
      "10416509\n",
      "239975\n"
     ]
    }
   ],
   "source": [
    "print(len(total_raw))\n",
    "print(len(total_df))\n",
    "print(len(total_raw) - len(total_df))"
   ]
  },
  {
   "cell_type": "code",
   "execution_count": 32,
   "metadata": {},
   "outputs": [
    {
     "name": "stdout",
     "output_type": "stream",
     "text": [
      "source\n",
      "111           0\n",
      "124           0\n",
      "125          20\n",
      "126        2494\n",
      "563        1575\n",
      "71265    214287\n",
      "71266     21175\n",
      "71382       424\n",
      "Name: count, dtype: int64\n"
     ]
    }
   ],
   "source": [
    "value_counts_diff = value_counts_raw - value_counts_drop\n",
    "print(value_counts_diff.sort_index())"
   ]
  },
  {
   "cell_type": "code",
   "execution_count": 33,
   "metadata": {},
   "outputs": [],
   "source": [
    "total_df.to_csv('./total.csv', index=False)"
   ]
  },
  {
   "cell_type": "code",
   "execution_count": 4,
   "metadata": {},
   "outputs": [],
   "source": [
    "total_df = pd.read_csv('./total.csv')"
   ]
  },
  {
   "cell_type": "code",
   "execution_count": 44,
   "metadata": {},
   "outputs": [
    {
     "name": "stdout",
     "output_type": "stream",
     "text": [
      "# of data: 10416509\n",
      "source\n",
      "71265    0.238665\n",
      "126      0.153595\n",
      "125      0.130737\n",
      "111      0.129602\n",
      "124      0.129087\n",
      "71266    0.127585\n",
      "71382    0.056320\n",
      "563      0.034409\n",
      "Name: proportion, dtype: float64\n"
     ]
    }
   ],
   "source": [
    "print(\"# of data:\", len(total_df))\n",
    "print(total_df['source'].value_counts(normalize=True))"
   ]
  },
  {
   "cell_type": "markdown",
   "metadata": {},
   "source": [
    "### Train/Eval/Test Split"
   ]
  },
  {
   "cell_type": "code",
   "execution_count": 6,
   "metadata": {},
   "outputs": [],
   "source": [
    "from sklearn.model_selection import train_test_split"
   ]
  },
  {
   "cell_type": "code",
   "execution_count": 7,
   "metadata": {},
   "outputs": [],
   "source": [
    "train_df, eval_test_df = train_test_split(total_df, train_size=0.8, random_state=42)\n",
    "eval_df, test_df = train_test_split(eval_test_df, train_size=0.5, random_state=42)"
   ]
  },
  {
   "cell_type": "code",
   "execution_count": 55,
   "metadata": {},
   "outputs": [],
   "source": [
    "train_df_mini = train_df.sample(frac=0.1, random_state=42)\n",
    "eval_df_mini = eval_df.sample(frac=0.1, random_state=42)\n",
    "test_df_mini = test_df.sample(frac=0.1, random_state=42)\n",
    "\n",
    "train_df_tiny = train_df.sample(frac=0.01, random_state=42)\n",
    "eval_df_tiny = eval_df.sample(frac=0.01, random_state=42)\n",
    "test_df_tiny = test_df.sample(frac=0.01, random_state=42)"
   ]
  },
  {
   "cell_type": "code",
   "execution_count": 8,
   "metadata": {},
   "outputs": [],
   "source": [
    "train_df.to_csv('./train.csv', index=False)\n",
    "train_df_mini.to_csv('./train_mini.csv', index=False)\n",
    "train_df_tiny.to_csv('./train_tiny.csv', index=False)\n",
    "eval_df.to_csv('./eval.csv', index=False)\n",
    "eval_df_mini.to_csv('./eval_mini.csv', index=False)\n",
    "eval_df_tiny.to_csv('./eval_tiny.csv', index=False)\n",
    "test_df.to_csv('./test.csv', index=False)\n",
    "test_df_mini.to_csv('./test_mini.csv', index=False)\n",
    "test_df_tiny.to_csv('./test_tiny.csv', index=False)"
   ]
  },
  {
   "cell_type": "code",
   "execution_count": null,
   "metadata": {},
   "outputs": [],
   "source": []
  }
 ],
 "metadata": {
  "kernelspec": {
   "display_name": "qlora",
   "language": "python",
   "name": "python3"
  },
  "language_info": {
   "codemirror_mode": {
    "name": "ipython",
    "version": 3
   },
   "file_extension": ".py",
   "mimetype": "text/x-python",
   "name": "python",
   "nbconvert_exporter": "python",
   "pygments_lexer": "ipython3",
   "version": "3.11.5"
  }
 },
 "nbformat": 4,
 "nbformat_minor": 2
}
