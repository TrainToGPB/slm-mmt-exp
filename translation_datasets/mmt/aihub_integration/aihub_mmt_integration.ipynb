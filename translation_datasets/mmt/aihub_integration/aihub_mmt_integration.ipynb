{
 "cells": [
  {
   "cell_type": "code",
   "execution_count": 143,
   "metadata": {},
   "outputs": [],
   "source": [
    "import pandas as pd"
   ]
  },
  {
   "cell_type": "markdown",
   "metadata": {},
   "source": [
    "### 546"
   ]
  },
  {
   "cell_type": "code",
   "execution_count": 150,
   "metadata": {},
   "outputs": [],
   "source": [
    "train_ko_jp = pd.read_csv('./integrated_subsets/546/train_ko_jp.csv')\n",
    "train_ko_cn = pd.read_csv('./integrated_subsets/546/train_ko_cn.csv')\n",
    "train_jp_ko = pd.read_csv('./integrated_subsets/546/train_jp_ko.csv')\n",
    "train_cn_ko = pd.read_csv('./integrated_subsets/546/train_cn_ko.csv')\n",
    "eval_ko_jp = pd.read_csv('./integrated_subsets/546/eval_ko_jp.csv')\n",
    "eval_ko_cn = pd.read_csv('./integrated_subsets/546/eval_ko_cn.csv')\n",
    "eval_jp_ko = pd.read_csv('./integrated_subsets/546/eval_jp_ko.csv')\n",
    "eval_cn_ko = pd.read_csv('./integrated_subsets/546/eval_cn_ko.csv')"
   ]
  },
  {
   "cell_type": "code",
   "execution_count": 149,
   "metadata": {},
   "outputs": [
    {
     "data": {
      "text/html": [
       "<div>\n",
       "<style scoped>\n",
       "    .dataframe tbody tr th:only-of-type {\n",
       "        vertical-align: middle;\n",
       "    }\n",
       "\n",
       "    .dataframe tbody tr th {\n",
       "        vertical-align: top;\n",
       "    }\n",
       "\n",
       "    .dataframe thead th {\n",
       "        text-align: right;\n",
       "    }\n",
       "</style>\n",
       "<table border=\"1\" class=\"dataframe\">\n",
       "  <thead>\n",
       "    <tr style=\"text-align: right;\">\n",
       "      <th></th>\n",
       "      <th>원문</th>\n",
       "      <th>최종번역문</th>\n",
       "    </tr>\n",
       "  </thead>\n",
       "  <tbody>\n",
       "    <tr>\n",
       "      <th>0</th>\n",
       "      <td>그는 생활에서 찾을 수 있는 일상적인 소재들을 이용하여 작품을 만든다.</td>\n",
       "      <td>彼は生活の中で簡単に手に入る日常的な素材を使って作品を作る。</td>\n",
       "    </tr>\n",
       "  </tbody>\n",
       "</table>\n",
       "</div>"
      ],
      "text/plain": [
       "                                        원문                           최종번역문\n",
       "0  그는 생활에서 찾을 수 있는 일상적인 소재들을 이용하여 작품을 만든다.  彼は生活の中で簡単に手に入る日常的な素材を使って作品を作る。"
      ]
     },
     "metadata": {},
     "output_type": "display_data"
    },
    {
     "data": {
      "text/html": [
       "<div>\n",
       "<style scoped>\n",
       "    .dataframe tbody tr th:only-of-type {\n",
       "        vertical-align: middle;\n",
       "    }\n",
       "\n",
       "    .dataframe tbody tr th {\n",
       "        vertical-align: top;\n",
       "    }\n",
       "\n",
       "    .dataframe thead th {\n",
       "        text-align: right;\n",
       "    }\n",
       "</style>\n",
       "<table border=\"1\" class=\"dataframe\">\n",
       "  <thead>\n",
       "    <tr style=\"text-align: right;\">\n",
       "      <th></th>\n",
       "      <th>원문</th>\n",
       "      <th>최종번역문</th>\n",
       "    </tr>\n",
       "  </thead>\n",
       "  <tbody>\n",
       "    <tr>\n",
       "      <th>0</th>\n",
       "      <td>クラスタ サービス アカウントのドメイン内のユーザー アカウントのログオン情報です。</td>\n",
       "      <td>클러스터 서비스 계정의 도메인 내 사용자 계정의 로그온 정보입니다.</td>\n",
       "    </tr>\n",
       "  </tbody>\n",
       "</table>\n",
       "</div>"
      ],
      "text/plain": [
       "                                           원문  \\\n",
       "0  クラスタ サービス アカウントのドメイン内のユーザー アカウントのログオン情報です。   \n",
       "\n",
       "                                   최종번역문  \n",
       "0  클러스터 서비스 계정의 도메인 내 사용자 계정의 로그온 정보입니다.  "
      ]
     },
     "metadata": {},
     "output_type": "display_data"
    },
    {
     "data": {
      "text/html": [
       "<div>\n",
       "<style scoped>\n",
       "    .dataframe tbody tr th:only-of-type {\n",
       "        vertical-align: middle;\n",
       "    }\n",
       "\n",
       "    .dataframe tbody tr th {\n",
       "        vertical-align: top;\n",
       "    }\n",
       "\n",
       "    .dataframe thead th {\n",
       "        text-align: right;\n",
       "    }\n",
       "</style>\n",
       "<table border=\"1\" class=\"dataframe\">\n",
       "  <thead>\n",
       "    <tr style=\"text-align: right;\">\n",
       "      <th></th>\n",
       "      <th>원문</th>\n",
       "      <th>최종번역문</th>\n",
       "    </tr>\n",
       "  </thead>\n",
       "  <tbody>\n",
       "    <tr>\n",
       "      <th>0</th>\n",
       "      <td>A만 읽는 게 아니라 모두가 편지를 본다는 걸 잊지 마세요.</td>\n",
       "      <td>不仅A在看，所有人都会看信，不要忘记。</td>\n",
       "    </tr>\n",
       "  </tbody>\n",
       "</table>\n",
       "</div>"
      ],
      "text/plain": [
       "                                  원문                최종번역문\n",
       "0  A만 읽는 게 아니라 모두가 편지를 본다는 걸 잊지 마세요.  不仅A在看，所有人都会看信，不要忘记。"
      ]
     },
     "metadata": {},
     "output_type": "display_data"
    },
    {
     "data": {
      "text/html": [
       "<div>\n",
       "<style scoped>\n",
       "    .dataframe tbody tr th:only-of-type {\n",
       "        vertical-align: middle;\n",
       "    }\n",
       "\n",
       "    .dataframe tbody tr th {\n",
       "        vertical-align: top;\n",
       "    }\n",
       "\n",
       "    .dataframe thead th {\n",
       "        text-align: right;\n",
       "    }\n",
       "</style>\n",
       "<table border=\"1\" class=\"dataframe\">\n",
       "  <thead>\n",
       "    <tr style=\"text-align: right;\">\n",
       "      <th></th>\n",
       "      <th>원문</th>\n",
       "      <th>최종번역문</th>\n",
       "    </tr>\n",
       "  </thead>\n",
       "  <tbody>\n",
       "    <tr>\n",
       "      <th>0</th>\n",
       "      <td>我已经准备好为编程课补考了。</td>\n",
       "      <td>나는 프로그래밍 수업의 추가 시험 준비를 완료했습니다.</td>\n",
       "    </tr>\n",
       "  </tbody>\n",
       "</table>\n",
       "</div>"
      ],
      "text/plain": [
       "               원문                           최종번역문\n",
       "0  我已经准备好为编程课补考了。  나는 프로그래밍 수업의 추가 시험 준비를 완료했습니다."
      ]
     },
     "metadata": {},
     "output_type": "display_data"
    }
   ],
   "source": [
    "display(train_ko_jp.head(1))\n",
    "display(train_jp_ko.head(1))\n",
    "display(train_ko_cn.head(1))\n",
    "display(train_cn_ko.head(1))"
   ]
  },
  {
   "cell_type": "code",
   "execution_count": 151,
   "metadata": {},
   "outputs": [],
   "source": [
    "train_ko_jp.columns = ['ko', 'jp']\n",
    "train_ko_cn.columns = ['ko', 'cn']\n",
    "train_jp_ko.columns = ['jp', 'ko']\n",
    "train_cn_ko.columns = ['cn', 'ko']\n",
    "eval_ko_jp.columns = ['ko', 'jp']\n",
    "eval_ko_cn.columns = ['ko', 'cn']\n",
    "eval_jp_ko.columns = ['jp', 'ko']\n",
    "eval_cn_ko.columns = ['cn', 'ko']"
   ]
  },
  {
   "cell_type": "code",
   "execution_count": 166,
   "metadata": {},
   "outputs": [
    {
     "data": {
      "text/html": [
       "<div>\n",
       "<style scoped>\n",
       "    .dataframe tbody tr th:only-of-type {\n",
       "        vertical-align: middle;\n",
       "    }\n",
       "\n",
       "    .dataframe tbody tr th {\n",
       "        vertical-align: top;\n",
       "    }\n",
       "\n",
       "    .dataframe thead th {\n",
       "        text-align: right;\n",
       "    }\n",
       "</style>\n",
       "<table border=\"1\" class=\"dataframe\">\n",
       "  <thead>\n",
       "    <tr style=\"text-align: right;\">\n",
       "      <th></th>\n",
       "      <th>id</th>\n",
       "      <th>ko</th>\n",
       "      <th>jp</th>\n",
       "    </tr>\n",
       "  </thead>\n",
       "  <tbody>\n",
       "    <tr>\n",
       "      <th>0</th>\n",
       "      <td>JP-00546-0000001</td>\n",
       "      <td>그는 생활에서 찾을 수 있는 일상적인 소재들을 이용하여 작품을 만든다.</td>\n",
       "      <td>彼は生活の中で簡単に手に入る日常的な素材を使って作品を作る。</td>\n",
       "    </tr>\n",
       "    <tr>\n",
       "      <th>1</th>\n",
       "      <td>JP-00546-0000002</td>\n",
       "      <td>그는 생후 12개월이 지나면 그것을 섭취할 수 있습니다.</td>\n",
       "      <td>彼は生後12ヶ月が経つと、それを摂取することができます。</td>\n",
       "    </tr>\n",
       "    <tr>\n",
       "      <th>2</th>\n",
       "      <td>JP-00546-0000003</td>\n",
       "      <td>그는 S작품에는 사색적인 힘이나 호기심에 대한 흔적이 전혀 없다고 비평했습니다.</td>\n",
       "      <td>彼はS作品には思索的な力や好奇心に対する跡がまったくないと批評しました。</td>\n",
       "    </tr>\n",
       "    <tr>\n",
       "      <th>3</th>\n",
       "      <td>JP-00546-0000004</td>\n",
       "      <td>그는 서로 힘을 합해 일을 처리하는 마음가짐이 있어.</td>\n",
       "      <td>彼はお互いに力を合わせて仕事を処理する心構えがある。</td>\n",
       "    </tr>\n",
       "    <tr>\n",
       "      <th>4</th>\n",
       "      <td>JP-00546-0000005</td>\n",
       "      <td>그는 서울 NBC 사의 김 씨라고 합니다.</td>\n",
       "      <td>彼はソウルNBC社のキム氏だそうです。</td>\n",
       "    </tr>\n",
       "  </tbody>\n",
       "</table>\n",
       "</div>"
      ],
      "text/plain": [
       "                 id                                            ko  \\\n",
       "0  JP-00546-0000001       그는 생활에서 찾을 수 있는 일상적인 소재들을 이용하여 작품을 만든다.   \n",
       "1  JP-00546-0000002               그는 생후 12개월이 지나면 그것을 섭취할 수 있습니다.   \n",
       "2  JP-00546-0000003  그는 S작품에는 사색적인 힘이나 호기심에 대한 흔적이 전혀 없다고 비평했습니다.   \n",
       "3  JP-00546-0000004                 그는 서로 힘을 합해 일을 처리하는 마음가짐이 있어.   \n",
       "4  JP-00546-0000005                       그는 서울 NBC 사의 김 씨라고 합니다.   \n",
       "\n",
       "                                     jp  \n",
       "0        彼は生活の中で簡単に手に入る日常的な素材を使って作品を作る。  \n",
       "1          彼は生後12ヶ月が経つと、それを摂取することができます。  \n",
       "2  彼はS作品には思索的な力や好奇心に対する跡がまったくないと批評しました。  \n",
       "3            彼はお互いに力を合わせて仕事を処理する心構えがある。  \n",
       "4                   彼はソウルNBC社のキム氏だそうです。  "
      ]
     },
     "metadata": {},
     "output_type": "display_data"
    },
    {
     "data": {
      "text/plain": [
       "(1350000, 3)"
      ]
     },
     "metadata": {},
     "output_type": "display_data"
    },
    {
     "data": {
      "text/html": [
       "<div>\n",
       "<style scoped>\n",
       "    .dataframe tbody tr th:only-of-type {\n",
       "        vertical-align: middle;\n",
       "    }\n",
       "\n",
       "    .dataframe tbody tr th {\n",
       "        vertical-align: top;\n",
       "    }\n",
       "\n",
       "    .dataframe thead th {\n",
       "        text-align: right;\n",
       "    }\n",
       "</style>\n",
       "<table border=\"1\" class=\"dataframe\">\n",
       "  <thead>\n",
       "    <tr style=\"text-align: right;\">\n",
       "      <th></th>\n",
       "      <th>id</th>\n",
       "      <th>ko</th>\n",
       "      <th>cn</th>\n",
       "    </tr>\n",
       "  </thead>\n",
       "  <tbody>\n",
       "    <tr>\n",
       "      <th>0</th>\n",
       "      <td>CN-00546-0000001</td>\n",
       "      <td>A만 읽는 게 아니라 모두가 편지를 본다는 걸 잊지 마세요.</td>\n",
       "      <td>不仅A在看，所有人都会看信，不要忘记。</td>\n",
       "    </tr>\n",
       "    <tr>\n",
       "      <th>1</th>\n",
       "      <td>CN-00546-0000002</td>\n",
       "      <td>A 패드 한 장이면 수정 화장 끝입니다.</td>\n",
       "      <td>仅用一个A气垫就可以补妆了。</td>\n",
       "    </tr>\n",
       "    <tr>\n",
       "      <th>2</th>\n",
       "      <td>CN-00546-0000003</td>\n",
       "      <td>수기 해수욕장의 화장실은 이동식 간이 화장실이 아닙니다.</td>\n",
       "      <td>水汽海水浴场的卫生间不是移动式简易卫生间。</td>\n",
       "    </tr>\n",
       "    <tr>\n",
       "      <th>3</th>\n",
       "      <td>CN-00546-0000004</td>\n",
       "      <td>순대는 떡볶이와 함께 한국 길거리 음식의 대표주자이며, 돼지의 창자로 만듭니다.</td>\n",
       "      <td>炒年糕一起，米肠也是韩国代表性街头食品，是用猪肠做的。</td>\n",
       "    </tr>\n",
       "    <tr>\n",
       "      <th>4</th>\n",
       "      <td>CN-00546-0000005</td>\n",
       "      <td>스몸비 는 스마트폰과 좀비의 합성어입니다.</td>\n",
       "      <td>Smomby是智能手机和僵尸的复合词。</td>\n",
       "    </tr>\n",
       "  </tbody>\n",
       "</table>\n",
       "</div>"
      ],
      "text/plain": [
       "                 id                                            ko  \\\n",
       "0  CN-00546-0000001             A만 읽는 게 아니라 모두가 편지를 본다는 걸 잊지 마세요.   \n",
       "1  CN-00546-0000002                        A 패드 한 장이면 수정 화장 끝입니다.   \n",
       "2  CN-00546-0000003               수기 해수욕장의 화장실은 이동식 간이 화장실이 아닙니다.   \n",
       "3  CN-00546-0000004  순대는 떡볶이와 함께 한국 길거리 음식의 대표주자이며, 돼지의 창자로 만듭니다.   \n",
       "4  CN-00546-0000005                       스몸비 는 스마트폰과 좀비의 합성어입니다.   \n",
       "\n",
       "                            cn  \n",
       "0          不仅A在看，所有人都会看信，不要忘记。  \n",
       "1               仅用一个A气垫就可以补妆了。  \n",
       "2        水汽海水浴场的卫生间不是移动式简易卫生间。  \n",
       "3  炒年糕一起，米肠也是韩国代表性街头食品，是用猪肠做的。  \n",
       "4          Smomby是智能手机和僵尸的复合词。  "
      ]
     },
     "metadata": {},
     "output_type": "display_data"
    },
    {
     "data": {
      "text/plain": [
       "(1350000, 3)"
      ]
     },
     "metadata": {},
     "output_type": "display_data"
    }
   ],
   "source": [
    "jp = pd.concat([train_ko_jp, eval_ko_jp, train_jp_ko, eval_jp_ko])\n",
    "jp['id'] = [f\"JP-00546-{i:07d}\" for i in range(1, len(jp)+1)]\n",
    "jp = jp[['id', 'ko', 'jp']]\n",
    "cn = pd.concat([train_ko_cn, eval_ko_cn, train_cn_ko, eval_cn_ko])\n",
    "cn['id'] = [f\"CN-00546-{i:07d}\" for i in range(1, len(cn)+1)]\n",
    "cn = cn[['id', 'ko', 'cn']]\n",
    "\n",
    "display(jp.head(5))\n",
    "display(jp.shape)\n",
    "display(cn.head(5))\n",
    "display(cn.shape)"
   ]
  },
  {
   "cell_type": "code",
   "execution_count": 167,
   "metadata": {},
   "outputs": [],
   "source": [
    "jp.to_csv('./integrated_subsets/546_jp.csv', index=False)\n",
    "cn.to_csv('./integrated_subsets/546_cn.csv', index=False)"
   ]
  },
  {
   "cell_type": "code",
   "execution_count": 168,
   "metadata": {},
   "outputs": [],
   "source": [
    "jp_sample = jp.sample(10, random_state=42)\n",
    "cn_sample = cn.sample(10, random_state=42)\n",
    "jp_sample.to_csv('./integrated_subsets/546_jp_sample.csv', index=False)\n",
    "cn_sample.to_csv('./integrated_subsets/546_cn_sample.csv', index=False)"
   ]
  },
  {
   "cell_type": "markdown",
   "metadata": {},
   "source": [
    "### 71493~71498"
   ]
  },
  {
   "cell_type": "code",
   "execution_count": 176,
   "metadata": {},
   "outputs": [],
   "source": [
    "datasetkey = 71496"
   ]
  },
  {
   "cell_type": "code",
   "execution_count": 177,
   "metadata": {},
   "outputs": [
    {
     "data": {
      "text/html": [
       "<div>\n",
       "<style scoped>\n",
       "    .dataframe tbody tr th:only-of-type {\n",
       "        vertical-align: middle;\n",
       "    }\n",
       "\n",
       "    .dataframe tbody tr th {\n",
       "        vertical-align: top;\n",
       "    }\n",
       "\n",
       "    .dataframe thead th {\n",
       "        text-align: right;\n",
       "    }\n",
       "</style>\n",
       "<table border=\"1\" class=\"dataframe\">\n",
       "  <thead>\n",
       "    <tr style=\"text-align: right;\">\n",
       "      <th></th>\n",
       "      <th>id</th>\n",
       "      <th>ko</th>\n",
       "      <th>cn</th>\n",
       "    </tr>\n",
       "  </thead>\n",
       "  <tbody>\n",
       "    <tr>\n",
       "      <th>0</th>\n",
       "      <td>CN-71498-0000001</td>\n",
       "      <td>더불어 이 역사적 사실의 중심 인물로서 모세의 실재성이 매우 높다고 한다.</td>\n",
       "      <td>据说在这个史实中，作为中心人物，摩西的真实性相当高。</td>\n",
       "    </tr>\n",
       "  </tbody>\n",
       "</table>\n",
       "</div>"
      ],
      "text/plain": [
       "                 id                                         ko  \\\n",
       "0  CN-71498-0000001  더불어 이 역사적 사실의 중심 인물로서 모세의 실재성이 매우 높다고 한다.   \n",
       "\n",
       "                           cn  \n",
       "0  据说在这个史实中，作为中心人物，摩西的真实性相当高。  "
      ]
     },
     "metadata": {},
     "output_type": "display_data"
    },
    {
     "data": {
      "text/plain": [
       "(80891, 3)"
      ]
     },
     "metadata": {},
     "output_type": "display_data"
    },
    {
     "data": {
      "text/html": [
       "<div>\n",
       "<style scoped>\n",
       "    .dataframe tbody tr th:only-of-type {\n",
       "        vertical-align: middle;\n",
       "    }\n",
       "\n",
       "    .dataframe tbody tr th {\n",
       "        vertical-align: top;\n",
       "    }\n",
       "\n",
       "    .dataframe thead th {\n",
       "        text-align: right;\n",
       "    }\n",
       "</style>\n",
       "<table border=\"1\" class=\"dataframe\">\n",
       "  <thead>\n",
       "    <tr style=\"text-align: right;\">\n",
       "      <th></th>\n",
       "      <th>id</th>\n",
       "      <th>ko</th>\n",
       "      <th>jp</th>\n",
       "    </tr>\n",
       "  </thead>\n",
       "  <tbody>\n",
       "    <tr>\n",
       "      <th>0</th>\n",
       "      <td>JP-71498-0000001</td>\n",
       "      <td>그러나 평생교육 프로그램을 진행하는 실천가의 입장에서 발달장애인의 평생교육의 방향을...</td>\n",
       "      <td>しかし、生涯教育プログラムを実施する実践家の立場として、発達障害者の生涯教育の方向性を探る研...</td>\n",
       "    </tr>\n",
       "  </tbody>\n",
       "</table>\n",
       "</div>"
      ],
      "text/plain": [
       "                 id                                                 ko  \\\n",
       "0  JP-71498-0000001  그러나 평생교육 프로그램을 진행하는 실천가의 입장에서 발달장애인의 평생교육의 방향을...   \n",
       "\n",
       "                                                  jp  \n",
       "0  しかし、生涯教育プログラムを実施する実践家の立場として、発達障害者の生涯教育の方向性を探る研...  "
      ]
     },
     "metadata": {},
     "output_type": "display_data"
    },
    {
     "data": {
      "text/plain": [
       "(81558, 3)"
      ]
     },
     "metadata": {},
     "output_type": "display_data"
    }
   ],
   "source": [
    "cn = pd.read_csv(f'./integrated_subsets/{datasetkey}/ch.csv')\n",
    "jp = pd.read_csv(f'./integrated_subsets/{datasetkey}/jp.csv')\n",
    "\n",
    "cn['id'] = [f\"CN-{datasetkey:05d}-{i:07d}\" for i in range(1, len(cn)+1)]\n",
    "jp['id'] = [f\"JP-{datasetkey:05d}-{i:07d}\" for i in range(1, len(jp)+1)]\n",
    "cn.columns = ['ko', 'cn', 'id']\n",
    "jp.columns = ['ko', 'jp', 'id']\n",
    "cn = cn[['id', 'ko', 'cn']]\n",
    "jp = jp[['id', 'ko', 'jp']]\n",
    "\n",
    "display(cn.head(1))\n",
    "display(cn.shape)\n",
    "display(jp.head(1))\n",
    "display(jp.shape)"
   ]
  },
  {
   "cell_type": "code",
   "execution_count": 178,
   "metadata": {},
   "outputs": [],
   "source": [
    "cn.to_csv(f'./integrated_subsets/{datasetkey}_cn.csv', index=False)\n",
    "jp.to_csv(f'./integrated_subsets/{datasetkey}_jp.csv', index=False)\n",
    "\n",
    "cn_sample = cn.sample(10, random_state=42)\n",
    "jp_sample = jp.sample(10, random_state=42)\n",
    "cn_sample.to_csv(f'./integrated_subsets/{datasetkey}_cn_sample.csv', index=False)\n",
    "jp_sample.to_csv(f'./integrated_subsets/{datasetkey}_jp_sample.csv', index=False)"
   ]
  },
  {
   "cell_type": "markdown",
   "metadata": {},
   "source": [
    "### 71524"
   ]
  },
  {
   "cell_type": "code",
   "execution_count": 179,
   "metadata": {},
   "outputs": [],
   "source": [
    "datasetkey = 71524"
   ]
  },
  {
   "cell_type": "code",
   "execution_count": 180,
   "metadata": {},
   "outputs": [
    {
     "data": {
      "text/html": [
       "<div>\n",
       "<style scoped>\n",
       "    .dataframe tbody tr th:only-of-type {\n",
       "        vertical-align: middle;\n",
       "    }\n",
       "\n",
       "    .dataframe tbody tr th {\n",
       "        vertical-align: top;\n",
       "    }\n",
       "\n",
       "    .dataframe thead th {\n",
       "        text-align: right;\n",
       "    }\n",
       "</style>\n",
       "<table border=\"1\" class=\"dataframe\">\n",
       "  <thead>\n",
       "    <tr style=\"text-align: right;\">\n",
       "      <th></th>\n",
       "      <th>ko</th>\n",
       "      <th>en</th>\n",
       "      <th>jp</th>\n",
       "    </tr>\n",
       "  </thead>\n",
       "  <tbody>\n",
       "    <tr>\n",
       "      <th>0</th>\n",
       "      <td>전문가와 1인 기업가.</td>\n",
       "      <td>Professionals and Solo Entrepreneurs.</td>\n",
       "      <td>専門家とひとり起業家。</td>\n",
       "    </tr>\n",
       "  </tbody>\n",
       "</table>\n",
       "</div>"
      ],
      "text/plain": [
       "             ko                                     en           jp\n",
       "0  전문가와 1인 기업가.  Professionals and Solo Entrepreneurs.  専門家とひとり起業家。"
      ]
     },
     "metadata": {},
     "output_type": "display_data"
    }
   ],
   "source": [
    "df = pd.read_csv(f'./integrated_subsets/{datasetkey}/ko_en_jp.csv')\n",
    "display(df.head(1))"
   ]
  },
  {
   "cell_type": "code",
   "execution_count": 184,
   "metadata": {},
   "outputs": [
    {
     "data": {
      "text/html": [
       "<div>\n",
       "<style scoped>\n",
       "    .dataframe tbody tr th:only-of-type {\n",
       "        vertical-align: middle;\n",
       "    }\n",
       "\n",
       "    .dataframe tbody tr th {\n",
       "        vertical-align: top;\n",
       "    }\n",
       "\n",
       "    .dataframe thead th {\n",
       "        text-align: right;\n",
       "    }\n",
       "</style>\n",
       "<table border=\"1\" class=\"dataframe\">\n",
       "  <thead>\n",
       "    <tr style=\"text-align: right;\">\n",
       "      <th></th>\n",
       "      <th>id</th>\n",
       "      <th>ko</th>\n",
       "      <th>jp</th>\n",
       "    </tr>\n",
       "  </thead>\n",
       "  <tbody>\n",
       "    <tr>\n",
       "      <th>0</th>\n",
       "      <td>JP-71524-0000001</td>\n",
       "      <td>전문가와 1인 기업가.</td>\n",
       "      <td>専門家とひとり起業家。</td>\n",
       "    </tr>\n",
       "  </tbody>\n",
       "</table>\n",
       "</div>"
      ],
      "text/plain": [
       "                 id            ko           jp\n",
       "0  JP-71524-0000001  전문가와 1인 기업가.  専門家とひとり起業家。"
      ]
     },
     "metadata": {},
     "output_type": "display_data"
    },
    {
     "data": {
      "text/plain": [
       "(229619, 3)"
      ]
     },
     "metadata": {},
     "output_type": "display_data"
    },
    {
     "data": {
      "text/html": [
       "<div>\n",
       "<style scoped>\n",
       "    .dataframe tbody tr th:only-of-type {\n",
       "        vertical-align: middle;\n",
       "    }\n",
       "\n",
       "    .dataframe tbody tr th {\n",
       "        vertical-align: top;\n",
       "    }\n",
       "\n",
       "    .dataframe thead th {\n",
       "        text-align: right;\n",
       "    }\n",
       "</style>\n",
       "<table border=\"1\" class=\"dataframe\">\n",
       "  <thead>\n",
       "    <tr style=\"text-align: right;\">\n",
       "      <th></th>\n",
       "      <th>id</th>\n",
       "      <th>ko</th>\n",
       "      <th>en</th>\n",
       "    </tr>\n",
       "  </thead>\n",
       "  <tbody>\n",
       "    <tr>\n",
       "      <th>0</th>\n",
       "      <td>EN-71524-0000001</td>\n",
       "      <td>전문가와 1인 기업가.</td>\n",
       "      <td>Professionals and Solo Entrepreneurs.</td>\n",
       "    </tr>\n",
       "  </tbody>\n",
       "</table>\n",
       "</div>"
      ],
      "text/plain": [
       "                 id            ko                                     en\n",
       "0  EN-71524-0000001  전문가와 1인 기업가.  Professionals and Solo Entrepreneurs."
      ]
     },
     "metadata": {},
     "output_type": "display_data"
    },
    {
     "data": {
      "text/plain": [
       "(229619, 3)"
      ]
     },
     "metadata": {},
     "output_type": "display_data"
    }
   ],
   "source": [
    "jp = df[['ko', 'jp']]\n",
    "en = df[['ko', 'en']]\n",
    "jp['id'] = [f\"JP-{datasetkey:05d}-{i:07d}\" for i in range(1, len(jp)+1)]\n",
    "en['id'] = [f\"EN-{datasetkey:05d}-{i:07d}\" for i in range(1, len(en)+1)]\n",
    "jp.columns = ['ko', 'jp', 'id']\n",
    "en.columns = ['ko', 'en', 'id']\n",
    "jp = jp[['id', 'ko', 'jp']]\n",
    "en = en[['id', 'ko', 'en']]\n",
    "\n",
    "display(jp.head(1))\n",
    "display(jp.shape)\n",
    "display(en.head(1))\n",
    "display(en.shape)"
   ]
  },
  {
   "cell_type": "code",
   "execution_count": 185,
   "metadata": {},
   "outputs": [],
   "source": [
    "jp.to_csv(f'./integrated_subsets/{datasetkey}_jp.csv', index=False)\n",
    "en.to_csv(f'./integrated_subsets/{datasetkey}_en.csv', index=False)"
   ]
  },
  {
   "cell_type": "code",
   "execution_count": 186,
   "metadata": {},
   "outputs": [],
   "source": [
    "jp_sample = jp.sample(10, random_state=42)\n",
    "en_sample = en.sample(10, random_state=42)\n",
    "jp_sample.to_csv(f'./integrated_subsets/{datasetkey}_jp_sample.csv', index=False)\n",
    "en_sample.to_csv(f'./integrated_subsets/{datasetkey}_en_sample.csv', index=False)"
   ]
  },
  {
   "cell_type": "code",
   "execution_count": null,
   "metadata": {},
   "outputs": [],
   "source": []
  }
 ],
 "metadata": {
  "language_info": {
   "name": "python"
  }
 },
 "nbformat": 4,
 "nbformat_minor": 2
}
