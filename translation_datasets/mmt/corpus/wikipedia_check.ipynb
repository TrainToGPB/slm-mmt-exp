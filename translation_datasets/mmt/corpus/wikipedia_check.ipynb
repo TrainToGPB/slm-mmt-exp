{
 "cells": [
  {
   "cell_type": "code",
   "execution_count": null,
   "metadata": {},
   "outputs": [],
   "source": [
    "from datasets import load_dataset\n",
    "import pandas as pd"
   ]
  },
  {
   "cell_type": "code",
   "execution_count": null,
   "metadata": {},
   "outputs": [],
   "source": [
    "# print('KO dataset')\n",
    "# ko_oscar = load_dataset('oscar-corpus/oscar', 'unshuffled_deduplicated_ko', split='train[:1%]')\n",
    "print('JA dataset')\n",
    "ja_oscar = load_dataset('oscar-corpus/oscar', 'unshuffled_deduplicated_ja', split='train[:1%]')\n",
    "# print('ZH dataset')\n",
    "# zh_oscar = load_dataset('oscar-corpus/oscar', 'unshuffled_deduplicated_zh', split='train[:1%]')\n",
    "# print('EN dataset')\n",
    "# en_oscar = load_dataset('oscar-corpus/oscar', 'unshuffled_deduplicated_en', split='train[:1%]')"
   ]
  },
  {
   "cell_type": "code",
   "execution_count": null,
   "metadata": {},
   "outputs": [],
   "source": []
  }
 ],
 "metadata": {
  "kernelspec": {
   "display_name": "nmt",
   "language": "python",
   "name": "python3"
  },
  "language_info": {
   "codemirror_mode": {
    "name": "ipython",
    "version": 3
   },
   "file_extension": ".py",
   "mimetype": "text/x-python",
   "name": "python",
   "nbconvert_exporter": "python",
   "pygments_lexer": "ipython3",
   "version": "3.11.9"
  }
 },
 "nbformat": 4,
 "nbformat_minor": 2
}
