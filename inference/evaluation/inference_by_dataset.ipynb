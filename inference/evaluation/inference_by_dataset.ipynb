{
 "cells": [
  {
   "cell_type": "code",
   "execution_count": 1,
   "metadata": {},
   "outputs": [
    {
     "name": "stderr",
     "output_type": "stream",
     "text": [
      "/home/tmax/anaconda3/envs/qlora/lib/python3.11/site-packages/tqdm/auto.py:21: TqdmWarning: IProgress not found. Please update jupyter and ipywidgets. See https://ipywidgets.readthedocs.io/en/stable/user_install.html\n",
      "  from .autonotebook import tqdm as notebook_tqdm\n",
      "2024-03-20 17:36:52.994329: E external/local_xla/xla/stream_executor/cuda/cuda_dnn.cc:9261] Unable to register cuDNN factory: Attempting to register factory for plugin cuDNN when one has already been registered\n",
      "2024-03-20 17:36:52.994376: E external/local_xla/xla/stream_executor/cuda/cuda_fft.cc:607] Unable to register cuFFT factory: Attempting to register factory for plugin cuFFT when one has already been registered\n",
      "2024-03-20 17:36:52.995212: E external/local_xla/xla/stream_executor/cuda/cuda_blas.cc:1515] Unable to register cuBLAS factory: Attempting to register factory for plugin cuBLAS when one has already been registered\n",
      "2024-03-20 17:36:53.000284: I tensorflow/core/platform/cpu_feature_guard.cc:182] This TensorFlow binary is optimized to use available CPU instructions in performance-critical operations.\n",
      "To enable the following instructions: AVX2 FMA, in other operations, rebuild TensorFlow with the appropriate compiler flags.\n",
      "2024-03-20 17:36:53.609662: W tensorflow/compiler/tf2tensorrt/utils/py_utils.cc:38] TF-TRT Warning: Could not find TensorRT\n"
     ]
    }
   ],
   "source": [
    "import pandas as pd\n",
    "from inference_evaluation import calculate_sacrebleu, calculate_xcomet"
   ]
  },
  {
   "cell_type": "code",
   "execution_count": 3,
   "metadata": {},
   "outputs": [
    {
     "data": {
      "text/html": [
       "<div>\n",
       "<style scoped>\n",
       "    .dataframe tbody tr th:only-of-type {\n",
       "        vertical-align: middle;\n",
       "    }\n",
       "\n",
       "    .dataframe tbody tr th {\n",
       "        vertical-align: top;\n",
       "    }\n",
       "\n",
       "    .dataframe thead th {\n",
       "        text-align: right;\n",
       "    }\n",
       "</style>\n",
       "<table border=\"1\" class=\"dataframe\">\n",
       "  <thead>\n",
       "    <tr style=\"text-align: right;\">\n",
       "      <th></th>\n",
       "      <th>tgt</th>\n",
       "      <th>google_trans</th>\n",
       "      <th>google_time</th>\n",
       "      <th>deepl_trans</th>\n",
       "      <th>deepl_time</th>\n",
       "      <th>llama-sparta-qlora_trans</th>\n",
       "      <th>llama-sparta-qlora_time</th>\n",
       "      <th>llama-sparta-qlora-bf16_trans</th>\n",
       "      <th>llama-sparta-qlora-bf16_time</th>\n",
       "      <th>llama-sparta-qlora-bf16-vllm_trans</th>\n",
       "      <th>llama-sparta-qlora-bf16-vllm_time</th>\n",
       "      <th>src</th>\n",
       "      <th>src_token_len</th>\n",
       "      <th>direction</th>\n",
       "      <th>data_source</th>\n",
       "    </tr>\n",
       "  </thead>\n",
       "  <tbody>\n",
       "    <tr>\n",
       "      <th>0</th>\n",
       "      <td>Transnational institutions act as intermediari...</td>\n",
       "      <td>The transnational organization acts as an inte...</td>\n",
       "      <td>1869.401</td>\n",
       "      <td>Supranational organizations act as intermediar...</td>\n",
       "      <td>1146.5</td>\n",
       "      <td>Transnational organizations act as intermediar...</td>\n",
       "      <td>3979.829</td>\n",
       "      <td>Transnational organizations act as intermediar...</td>\n",
       "      <td>1480.720</td>\n",
       "      <td>Transnational organizations act as intermediar...</td>\n",
       "      <td>613.220</td>\n",
       "      <td>초국가 기구는 협상 과정에서 협상 기회를 창출하거나 결정권자들의 갈등을 완화시키는 ...</td>\n",
       "      <td>30</td>\n",
       "      <td>ko-en</td>\n",
       "      <td>aihub-71266</td>\n",
       "    </tr>\n",
       "    <tr>\n",
       "      <th>1</th>\n",
       "      <td>초국가 기구는 협상 과정에서 협상 기회를 창출하거나 결정권자들의 갈등을 완화시키는 ...</td>\n",
       "      <td>초 국가 기관은 협상 기회를 창출하거나 의사 결정자들 사이의 갈등을 완화함으로써 협...</td>\n",
       "      <td>545.195</td>\n",
       "      <td>초국적 기관은 협상 기회를 창출하거나 의사 결정자 간의 갈등을 완화하여 협상 과정에...</td>\n",
       "      <td>664.3</td>\n",
       "      <td>초국적 기구는 협상기회를 창출하거나 결정자 간의 갈등을 완화함으로써 협상과정에서 공...</td>\n",
       "      <td>2225.354</td>\n",
       "      <td>초국적 기구는 협상기회를 창출하거나 결정자 간의 갈등을 완화함으로써 협상과정에서 공...</td>\n",
       "      <td>756.085</td>\n",
       "      <td>초국적 기관은 협상기회를 창출하거나 결정자 간의 갈등을 완화함으로써 협상과정에서 공...</td>\n",
       "      <td>515.830</td>\n",
       "      <td>Transnational institutions act as intermediari...</td>\n",
       "      <td>37</td>\n",
       "      <td>en-ko</td>\n",
       "      <td>aihub-71266</td>\n",
       "    </tr>\n",
       "    <tr>\n",
       "      <th>2</th>\n",
       "      <td>So what are you going to choose?</td>\n",
       "      <td>So what are you going to choose?</td>\n",
       "      <td>260.300</td>\n",
       "      <td>So what are you going to pick?</td>\n",
       "      <td>392.8</td>\n",
       "      <td>So what are you going to choose?</td>\n",
       "      <td>623.845</td>\n",
       "      <td>So what are you going to choose?</td>\n",
       "      <td>210.805</td>\n",
       "      <td>So what are you going to choose?</td>\n",
       "      <td>141.181</td>\n",
       "      <td>그래서 뭐 고를 건데?</td>\n",
       "      <td>6</td>\n",
       "      <td>ko-en</td>\n",
       "      <td>aihub-71265</td>\n",
       "    </tr>\n",
       "    <tr>\n",
       "      <th>3</th>\n",
       "      <td>그래서 뭐 고를 건데?</td>\n",
       "      <td>그래서 무엇을 선택 하시겠습니까?</td>\n",
       "      <td>225.300</td>\n",
       "      <td>그렇다면 무엇을 선택하시겠습니까?</td>\n",
       "      <td>375.2</td>\n",
       "      <td>그래서 당신은 무엇을 선택할 건가요?</td>\n",
       "      <td>622.931</td>\n",
       "      <td>그래서 당신은 무엇을 선택할 건가요?</td>\n",
       "      <td>208.226</td>\n",
       "      <td>그래서 당신은 무엇을 선택할 건가요?</td>\n",
       "      <td>141.312</td>\n",
       "      <td>So what are you going to choose?</td>\n",
       "      <td>8</td>\n",
       "      <td>en-ko</td>\n",
       "      <td>aihub-71265</td>\n",
       "    </tr>\n",
       "    <tr>\n",
       "      <th>4</th>\n",
       "      <td>This is because, at that time, a lawsuit about...</td>\n",
       "      <td>This is because a lawsuit related to the estab...</td>\n",
       "      <td>216.200</td>\n",
       "      <td>At the time, a lawsuit was filed between the p...</td>\n",
       "      <td>480.0</td>\n",
       "      <td>This is because a lawsuit related to the estab...</td>\n",
       "      <td>2761.580</td>\n",
       "      <td>This is because a lawsuit related to the estab...</td>\n",
       "      <td>938.748</td>\n",
       "      <td>This is because a lawsuit related to the estab...</td>\n",
       "      <td>639.354</td>\n",
       "      <td>당시 사업주체인 Y22프로젝트파이낸싱인베스트먼트와 토지 소유주인 통일교재단 사이에 ...</td>\n",
       "      <td>38</td>\n",
       "      <td>ko-en</td>\n",
       "      <td>aihub-111</td>\n",
       "    </tr>\n",
       "  </tbody>\n",
       "</table>\n",
       "</div>"
      ],
      "text/plain": [
       "                                                 tgt  \\\n",
       "0  Transnational institutions act as intermediari...   \n",
       "1  초국가 기구는 협상 과정에서 협상 기회를 창출하거나 결정권자들의 갈등을 완화시키는 ...   \n",
       "2                   So what are you going to choose?   \n",
       "3                                       그래서 뭐 고를 건데?   \n",
       "4  This is because, at that time, a lawsuit about...   \n",
       "\n",
       "                                        google_trans  google_time  \\\n",
       "0  The transnational organization acts as an inte...     1869.401   \n",
       "1  초 국가 기관은 협상 기회를 창출하거나 의사 결정자들 사이의 갈등을 완화함으로써 협...      545.195   \n",
       "2                   So what are you going to choose?      260.300   \n",
       "3                                 그래서 무엇을 선택 하시겠습니까?      225.300   \n",
       "4  This is because a lawsuit related to the estab...      216.200   \n",
       "\n",
       "                                         deepl_trans  deepl_time  \\\n",
       "0  Supranational organizations act as intermediar...      1146.5   \n",
       "1  초국적 기관은 협상 기회를 창출하거나 의사 결정자 간의 갈등을 완화하여 협상 과정에...       664.3   \n",
       "2                     So what are you going to pick?       392.8   \n",
       "3                                 그렇다면 무엇을 선택하시겠습니까?       375.2   \n",
       "4  At the time, a lawsuit was filed between the p...       480.0   \n",
       "\n",
       "                            llama-sparta-qlora_trans  llama-sparta-qlora_time  \\\n",
       "0  Transnational organizations act as intermediar...                 3979.829   \n",
       "1  초국적 기구는 협상기회를 창출하거나 결정자 간의 갈등을 완화함으로써 협상과정에서 공...                 2225.354   \n",
       "2                   So what are you going to choose?                  623.845   \n",
       "3                               그래서 당신은 무엇을 선택할 건가요?                  622.931   \n",
       "4  This is because a lawsuit related to the estab...                 2761.580   \n",
       "\n",
       "                       llama-sparta-qlora-bf16_trans  \\\n",
       "0  Transnational organizations act as intermediar...   \n",
       "1  초국적 기구는 협상기회를 창출하거나 결정자 간의 갈등을 완화함으로써 협상과정에서 공...   \n",
       "2                   So what are you going to choose?   \n",
       "3                               그래서 당신은 무엇을 선택할 건가요?   \n",
       "4  This is because a lawsuit related to the estab...   \n",
       "\n",
       "   llama-sparta-qlora-bf16_time  \\\n",
       "0                      1480.720   \n",
       "1                       756.085   \n",
       "2                       210.805   \n",
       "3                       208.226   \n",
       "4                       938.748   \n",
       "\n",
       "                  llama-sparta-qlora-bf16-vllm_trans  \\\n",
       "0  Transnational organizations act as intermediar...   \n",
       "1  초국적 기관은 협상기회를 창출하거나 결정자 간의 갈등을 완화함으로써 협상과정에서 공...   \n",
       "2                   So what are you going to choose?   \n",
       "3                               그래서 당신은 무엇을 선택할 건가요?   \n",
       "4  This is because a lawsuit related to the estab...   \n",
       "\n",
       "   llama-sparta-qlora-bf16-vllm_time  \\\n",
       "0                            613.220   \n",
       "1                            515.830   \n",
       "2                            141.181   \n",
       "3                            141.312   \n",
       "4                            639.354   \n",
       "\n",
       "                                                 src  src_token_len direction  \\\n",
       "0  초국가 기구는 협상 과정에서 협상 기회를 창출하거나 결정권자들의 갈등을 완화시키는 ...             30     ko-en   \n",
       "1  Transnational institutions act as intermediari...             37     en-ko   \n",
       "2                                       그래서 뭐 고를 건데?              6     ko-en   \n",
       "3                   So what are you going to choose?              8     en-ko   \n",
       "4  당시 사업주체인 Y22프로젝트파이낸싱인베스트먼트와 토지 소유주인 통일교재단 사이에 ...             38     ko-en   \n",
       "\n",
       "   data_source  \n",
       "0  aihub-71266  \n",
       "1  aihub-71266  \n",
       "2  aihub-71265  \n",
       "3  aihub-71265  \n",
       "4    aihub-111  "
      ]
     },
     "execution_count": 3,
     "metadata": {},
     "output_type": "execute_result"
    }
   ],
   "source": [
    "sparta = pd.read_csv('../results/test_sparta_bidir_inferenced.csv')\n",
    "sparta.head()"
   ]
  },
  {
   "cell_type": "code",
   "execution_count": 4,
   "metadata": {},
   "outputs": [],
   "source": [
    "aihub_ko2en = sparta[(sparta['direction'] == 'ko-en') & (sparta['data_source'].str.startswith('aihub'))]\n",
    "aihub_en2ko = sparta[(sparta['direction'] == 'en-ko') & (sparta['data_source'].str.startswith('aihub'))]\n",
    "flores_ko2en = sparta[(sparta['direction'] == 'ko-en') & (sparta['data_source'].str.startswith('flores'))]\n",
    "flores_en2ko = sparta[(sparta['direction'] == 'en-ko') & (sparta['data_source'].str.startswith('flores'))]"
   ]
  },
  {
   "cell_type": "code",
   "execution_count": 6,
   "metadata": {},
   "outputs": [],
   "source": [
    "translator_dict = {\n",
    "    'google': 'google',\n",
    "    'deepl': 'deepl',\n",
    "    'qlora': 'llama-sparta-qlora',\n",
    "    'bf16': 'llama-sparta-qlora-bf16',\n",
    "    'vllm': 'llama-sparta-qlora-bf16-vllm'\n",
    "}"
   ]
  },
  {
   "cell_type": "code",
   "execution_count": 9,
   "metadata": {},
   "outputs": [],
   "source": [
    "translator_order = [\n",
    "    'google',\n",
    "    'deepl',\n",
    "    'qlora',\n",
    "    'bf16',\n",
    "    'vllm',\n",
    "]"
   ]
  },
  {
   "cell_type": "code",
   "execution_count": 12,
   "metadata": {},
   "outputs": [],
   "source": [
    "aihub_ko2en_sacrebleu_dict = {\n",
    "    trans: calculate_sacrebleu(aihub_ko2en, column_name=f'{translator_dict[trans]}_trans', ref_col='tgt') for trans in translator_order\n",
    "}\n",
    "aihub_en2ko_sacrebleu_dict = {\n",
    "    trans: calculate_sacrebleu(aihub_en2ko, column_name=f'{translator_dict[trans]}_trans', ref_col='tgt') for trans in translator_order\n",
    "}\n",
    "flores_ko2en_sacrebleu_dict = {\n",
    "    trans: calculate_sacrebleu(flores_ko2en, column_name=f'{translator_dict[trans]}_trans', ref_col='tgt') for trans in translator_order\n",
    "}\n",
    "flores_en2ko_sacrebleu_dict = {\n",
    "    trans: calculate_sacrebleu(flores_en2ko, column_name=f'{translator_dict[trans]}_trans', ref_col='tgt') for trans in translator_order\n",
    "}"
   ]
  },
  {
   "cell_type": "code",
   "execution_count": 13,
   "metadata": {},
   "outputs": [
    {
     "name": "stderr",
     "output_type": "stream",
     "text": [
      "Fetching 5 files: 100%|██████████| 5/5 [00:00<00:00, 37315.87it/s]\n",
      "Encoder model frozen.\n",
      "/home/tmax/anaconda3/envs/qlora/lib/python3.11/site-packages/pytorch_lightning/core/saving.py:188: Found keys that are not in the model state dict but in the checkpoint: ['encoder.model.embeddings.position_ids']\n",
      "GPU available: True (cuda), used: True\n",
      "TPU available: False, using: 0 TPU cores\n",
      "IPU available: False, using: 0 IPUs\n",
      "HPU available: False, using: 0 HPUs\n",
      "You are using a CUDA device ('NVIDIA GeForce RTX 4090') that has Tensor Cores. To properly utilize them, you should set `torch.set_float32_matmul_precision('medium' | 'high')` which will trade-off precision for performance. For more details, read https://pytorch.org/docs/stable/generated/torch.set_float32_matmul_precision.html#torch.set_float32_matmul_precision\n",
      "LOCAL_RANK: 0 - CUDA_VISIBLE_DEVICES: [3]\n",
      "Predicting DataLoader 0: 100%|██████████| 50/50 [00:50<00:00,  1.00s/it]\n",
      "Fetching 5 files: 100%|██████████| 5/5 [00:00<00:00, 52428.80it/s]\n",
      "Encoder model frozen.\n",
      "/home/tmax/anaconda3/envs/qlora/lib/python3.11/site-packages/pytorch_lightning/core/saving.py:188: Found keys that are not in the model state dict but in the checkpoint: ['encoder.model.embeddings.position_ids']\n",
      "GPU available: True (cuda), used: True\n",
      "TPU available: False, using: 0 TPU cores\n",
      "IPU available: False, using: 0 IPUs\n",
      "HPU available: False, using: 0 HPUs\n",
      "LOCAL_RANK: 0 - CUDA_VISIBLE_DEVICES: [3]\n",
      "Predicting DataLoader 0: 100%|██████████| 50/50 [00:50<00:00,  1.02s/it]\n",
      "Fetching 5 files: 100%|██████████| 5/5 [00:00<00:00, 50778.50it/s]\n",
      "Encoder model frozen.\n",
      "/home/tmax/anaconda3/envs/qlora/lib/python3.11/site-packages/pytorch_lightning/core/saving.py:188: Found keys that are not in the model state dict but in the checkpoint: ['encoder.model.embeddings.position_ids']\n",
      "GPU available: True (cuda), used: True\n",
      "TPU available: False, using: 0 TPU cores\n",
      "IPU available: False, using: 0 IPUs\n",
      "HPU available: False, using: 0 HPUs\n",
      "LOCAL_RANK: 0 - CUDA_VISIBLE_DEVICES: [3]\n",
      "Predicting DataLoader 0: 100%|██████████| 50/50 [00:51<00:00,  1.03s/it]\n",
      "Fetching 5 files: 100%|██████████| 5/5 [00:00<00:00, 45590.26it/s]\n",
      "Encoder model frozen.\n",
      "/home/tmax/anaconda3/envs/qlora/lib/python3.11/site-packages/pytorch_lightning/core/saving.py:188: Found keys that are not in the model state dict but in the checkpoint: ['encoder.model.embeddings.position_ids']\n",
      "GPU available: True (cuda), used: True\n",
      "TPU available: False, using: 0 TPU cores\n",
      "IPU available: False, using: 0 IPUs\n",
      "HPU available: False, using: 0 HPUs\n",
      "LOCAL_RANK: 0 - CUDA_VISIBLE_DEVICES: [3]\n",
      "Predicting DataLoader 0: 100%|██████████| 50/50 [00:51<00:00,  1.03s/it]\n",
      "Fetching 5 files: 100%|██████████| 5/5 [00:00<00:00, 44337.25it/s]\n",
      "Encoder model frozen.\n",
      "/home/tmax/anaconda3/envs/qlora/lib/python3.11/site-packages/pytorch_lightning/core/saving.py:188: Found keys that are not in the model state dict but in the checkpoint: ['encoder.model.embeddings.position_ids']\n",
      "GPU available: True (cuda), used: True\n",
      "TPU available: False, using: 0 TPU cores\n",
      "IPU available: False, using: 0 IPUs\n",
      "HPU available: False, using: 0 HPUs\n",
      "LOCAL_RANK: 0 - CUDA_VISIBLE_DEVICES: [3]\n",
      "Predicting DataLoader 0: 100%|██████████| 50/50 [00:51<00:00,  1.03s/it]\n",
      "Fetching 5 files: 100%|██████████| 5/5 [00:00<00:00, 49461.13it/s]\n",
      "Encoder model frozen.\n",
      "/home/tmax/anaconda3/envs/qlora/lib/python3.11/site-packages/pytorch_lightning/core/saving.py:188: Found keys that are not in the model state dict but in the checkpoint: ['encoder.model.embeddings.position_ids']\n",
      "GPU available: True (cuda), used: True\n",
      "TPU available: False, using: 0 TPU cores\n",
      "IPU available: False, using: 0 IPUs\n",
      "HPU available: False, using: 0 HPUs\n",
      "LOCAL_RANK: 0 - CUDA_VISIBLE_DEVICES: [3]\n",
      "Predicting DataLoader 0: 100%|██████████| 50/50 [00:51<00:00,  1.03s/it]\n",
      "Fetching 5 files: 100%|██████████| 5/5 [00:00<00:00, 48998.88it/s]\n",
      "Encoder model frozen.\n",
      "/home/tmax/anaconda3/envs/qlora/lib/python3.11/site-packages/pytorch_lightning/core/saving.py:188: Found keys that are not in the model state dict but in the checkpoint: ['encoder.model.embeddings.position_ids']\n",
      "GPU available: True (cuda), used: True\n",
      "TPU available: False, using: 0 TPU cores\n",
      "IPU available: False, using: 0 IPUs\n",
      "HPU available: False, using: 0 HPUs\n",
      "LOCAL_RANK: 0 - CUDA_VISIBLE_DEVICES: [3]\n",
      "Predicting DataLoader 0: 100%|██████████| 50/50 [00:51<00:00,  1.03s/it]\n",
      "Fetching 5 files: 100%|██████████| 5/5 [00:00<00:00, 50412.31it/s]\n",
      "Encoder model frozen.\n",
      "/home/tmax/anaconda3/envs/qlora/lib/python3.11/site-packages/pytorch_lightning/core/saving.py:188: Found keys that are not in the model state dict but in the checkpoint: ['encoder.model.embeddings.position_ids']\n",
      "GPU available: True (cuda), used: True\n",
      "TPU available: False, using: 0 TPU cores\n",
      "IPU available: False, using: 0 IPUs\n",
      "HPU available: False, using: 0 HPUs\n",
      "LOCAL_RANK: 0 - CUDA_VISIBLE_DEVICES: [3]\n",
      "Predicting DataLoader 0: 100%|██████████| 50/50 [00:51<00:00,  1.03s/it]\n",
      "Fetching 5 files: 100%|██████████| 5/5 [00:00<00:00, 53227.21it/s]\n",
      "Encoder model frozen.\n",
      "/home/tmax/anaconda3/envs/qlora/lib/python3.11/site-packages/pytorch_lightning/core/saving.py:188: Found keys that are not in the model state dict but in the checkpoint: ['encoder.model.embeddings.position_ids']\n",
      "GPU available: True (cuda), used: True\n",
      "TPU available: False, using: 0 TPU cores\n",
      "IPU available: False, using: 0 IPUs\n",
      "HPU available: False, using: 0 HPUs\n",
      "LOCAL_RANK: 0 - CUDA_VISIBLE_DEVICES: [3]\n",
      "Predicting DataLoader 0: 100%|██████████| 50/50 [00:51<00:00,  1.03s/it]\n",
      "Fetching 5 files: 100%|██████████| 5/5 [00:00<00:00, 48998.88it/s]\n",
      "Encoder model frozen.\n",
      "/home/tmax/anaconda3/envs/qlora/lib/python3.11/site-packages/pytorch_lightning/core/saving.py:188: Found keys that are not in the model state dict but in the checkpoint: ['encoder.model.embeddings.position_ids']\n",
      "GPU available: True (cuda), used: True\n",
      "TPU available: False, using: 0 TPU cores\n",
      "IPU available: False, using: 0 IPUs\n",
      "HPU available: False, using: 0 HPUs\n",
      "LOCAL_RANK: 0 - CUDA_VISIBLE_DEVICES: [3]\n",
      "Predicting DataLoader 0: 100%|██████████| 50/50 [00:52<00:00,  1.04s/it]\n",
      "Fetching 5 files: 100%|██████████| 5/5 [00:00<00:00, 50655.85it/s]\n",
      "Encoder model frozen.\n",
      "/home/tmax/anaconda3/envs/qlora/lib/python3.11/site-packages/pytorch_lightning/core/saving.py:188: Found keys that are not in the model state dict but in the checkpoint: ['encoder.model.embeddings.position_ids']\n",
      "GPU available: True (cuda), used: True\n",
      "TPU available: False, using: 0 TPU cores\n",
      "IPU available: False, using: 0 IPUs\n",
      "HPU available: False, using: 0 HPUs\n",
      "LOCAL_RANK: 0 - CUDA_VISIBLE_DEVICES: [3]\n",
      "Predicting DataLoader 0: 100%|██████████| 13/13 [00:08<00:00,  1.48it/s]\n",
      "Fetching 5 files: 100%|██████████| 5/5 [00:00<00:00, 46294.75it/s]\n",
      "Encoder model frozen.\n",
      "/home/tmax/anaconda3/envs/qlora/lib/python3.11/site-packages/pytorch_lightning/core/saving.py:188: Found keys that are not in the model state dict but in the checkpoint: ['encoder.model.embeddings.position_ids']\n",
      "GPU available: True (cuda), used: True\n",
      "TPU available: False, using: 0 TPU cores\n",
      "IPU available: False, using: 0 IPUs\n",
      "HPU available: False, using: 0 HPUs\n",
      "LOCAL_RANK: 0 - CUDA_VISIBLE_DEVICES: [3]\n",
      "Predicting DataLoader 0: 100%|██████████| 13/13 [00:08<00:00,  1.46it/s]\n",
      "Fetching 5 files: 100%|██████████| 5/5 [00:00<00:00, 43062.67it/s]\n",
      "Encoder model frozen.\n",
      "/home/tmax/anaconda3/envs/qlora/lib/python3.11/site-packages/pytorch_lightning/core/saving.py:188: Found keys that are not in the model state dict but in the checkpoint: ['encoder.model.embeddings.position_ids']\n",
      "GPU available: True (cuda), used: True\n",
      "TPU available: False, using: 0 TPU cores\n",
      "IPU available: False, using: 0 IPUs\n",
      "HPU available: False, using: 0 HPUs\n",
      "LOCAL_RANK: 0 - CUDA_VISIBLE_DEVICES: [3]\n",
      "Predicting DataLoader 0: 100%|██████████| 13/13 [00:08<00:00,  1.45it/s]\n",
      "Fetching 5 files: 100%|██████████| 5/5 [00:00<00:00, 45197.24it/s]\n",
      "Encoder model frozen.\n",
      "/home/tmax/anaconda3/envs/qlora/lib/python3.11/site-packages/pytorch_lightning/core/saving.py:188: Found keys that are not in the model state dict but in the checkpoint: ['encoder.model.embeddings.position_ids']\n",
      "GPU available: True (cuda), used: True\n",
      "TPU available: False, using: 0 TPU cores\n",
      "IPU available: False, using: 0 IPUs\n",
      "HPU available: False, using: 0 HPUs\n",
      "LOCAL_RANK: 0 - CUDA_VISIBLE_DEVICES: [3]\n",
      "Predicting DataLoader 0: 100%|██████████| 13/13 [00:08<00:00,  1.47it/s]\n",
      "Fetching 5 files: 100%|██████████| 5/5 [00:00<00:00, 44525.52it/s]\n",
      "Encoder model frozen.\n",
      "/home/tmax/anaconda3/envs/qlora/lib/python3.11/site-packages/pytorch_lightning/core/saving.py:188: Found keys that are not in the model state dict but in the checkpoint: ['encoder.model.embeddings.position_ids']\n",
      "GPU available: True (cuda), used: True\n",
      "TPU available: False, using: 0 TPU cores\n",
      "IPU available: False, using: 0 IPUs\n",
      "HPU available: False, using: 0 HPUs\n",
      "LOCAL_RANK: 0 - CUDA_VISIBLE_DEVICES: [3]\n",
      "Predicting DataLoader 0: 100%|██████████| 13/13 [00:08<00:00,  1.44it/s]\n",
      "Fetching 5 files: 100%|██████████| 5/5 [00:00<00:00, 47446.88it/s]\n",
      "Encoder model frozen.\n",
      "/home/tmax/anaconda3/envs/qlora/lib/python3.11/site-packages/pytorch_lightning/core/saving.py:188: Found keys that are not in the model state dict but in the checkpoint: ['encoder.model.embeddings.position_ids']\n",
      "GPU available: True (cuda), used: True\n",
      "TPU available: False, using: 0 TPU cores\n",
      "IPU available: False, using: 0 IPUs\n",
      "HPU available: False, using: 0 HPUs\n",
      "LOCAL_RANK: 0 - CUDA_VISIBLE_DEVICES: [3]\n",
      "Predicting DataLoader 0: 100%|██████████| 13/13 [00:09<00:00,  1.34it/s]\n",
      "Fetching 5 files: 100%|██████████| 5/5 [00:00<00:00, 55333.83it/s]\n",
      "Encoder model frozen.\n",
      "/home/tmax/anaconda3/envs/qlora/lib/python3.11/site-packages/pytorch_lightning/core/saving.py:188: Found keys that are not in the model state dict but in the checkpoint: ['encoder.model.embeddings.position_ids']\n",
      "GPU available: True (cuda), used: True\n",
      "TPU available: False, using: 0 TPU cores\n",
      "IPU available: False, using: 0 IPUs\n",
      "HPU available: False, using: 0 HPUs\n",
      "LOCAL_RANK: 0 - CUDA_VISIBLE_DEVICES: [3]\n",
      "Predicting DataLoader 0: 100%|██████████| 13/13 [00:09<00:00,  1.34it/s]\n",
      "Fetching 5 files: 100%|██████████| 5/5 [00:00<00:00, 55627.37it/s]\n",
      "Encoder model frozen.\n",
      "/home/tmax/anaconda3/envs/qlora/lib/python3.11/site-packages/pytorch_lightning/core/saving.py:188: Found keys that are not in the model state dict but in the checkpoint: ['encoder.model.embeddings.position_ids']\n",
      "GPU available: True (cuda), used: True\n",
      "TPU available: False, using: 0 TPU cores\n",
      "IPU available: False, using: 0 IPUs\n",
      "HPU available: False, using: 0 HPUs\n",
      "LOCAL_RANK: 0 - CUDA_VISIBLE_DEVICES: [3]\n",
      "Predicting DataLoader 0: 100%|██████████| 13/13 [00:09<00:00,  1.34it/s]\n",
      "Fetching 5 files: 100%|██████████| 5/5 [00:00<00:00, 47233.15it/s]\n",
      "Encoder model frozen.\n",
      "/home/tmax/anaconda3/envs/qlora/lib/python3.11/site-packages/pytorch_lightning/core/saving.py:188: Found keys that are not in the model state dict but in the checkpoint: ['encoder.model.embeddings.position_ids']\n",
      "GPU available: True (cuda), used: True\n",
      "TPU available: False, using: 0 TPU cores\n",
      "IPU available: False, using: 0 IPUs\n",
      "HPU available: False, using: 0 HPUs\n",
      "LOCAL_RANK: 0 - CUDA_VISIBLE_DEVICES: [3]\n",
      "Predicting DataLoader 0: 100%|██████████| 13/13 [00:09<00:00,  1.34it/s]\n",
      "Fetching 5 files: 100%|██████████| 5/5 [00:00<00:00, 50778.50it/s]\n",
      "Encoder model frozen.\n",
      "/home/tmax/anaconda3/envs/qlora/lib/python3.11/site-packages/pytorch_lightning/core/saving.py:188: Found keys that are not in the model state dict but in the checkpoint: ['encoder.model.embeddings.position_ids']\n",
      "GPU available: True (cuda), used: True\n",
      "TPU available: False, using: 0 TPU cores\n",
      "IPU available: False, using: 0 IPUs\n",
      "HPU available: False, using: 0 HPUs\n",
      "LOCAL_RANK: 0 - CUDA_VISIBLE_DEVICES: [3]\n",
      "Predicting DataLoader 0: 100%|██████████| 13/13 [00:09<00:00,  1.33it/s]\n"
     ]
    }
   ],
   "source": [
    "aihub_ko2en_xcomet_dict = {\n",
    "    trans: calculate_xcomet(aihub_ko2en, column_name=f'{translator_dict[trans]}_trans', src_col='src', ref_col='tgt') for trans in translator_order\n",
    "}\n",
    "aihub_en2ko_xcomet_dict = {\n",
    "    trans: calculate_xcomet(aihub_en2ko, column_name=f'{translator_dict[trans]}_trans', src_col='src', ref_col='tgt') for trans in translator_order\n",
    "}\n",
    "flores_ko2en_xcomet_dict = {\n",
    "    trans: calculate_xcomet(flores_ko2en, column_name=f'{translator_dict[trans]}_trans', src_col='src', ref_col='tgt') for trans in translator_order\n",
    "}\n",
    "flores_en2ko_xcomet_dict = {\n",
    "    trans: calculate_xcomet(flores_en2ko, column_name=f'{translator_dict[trans]}_trans', src_col='src', ref_col='tgt') for trans in translator_order\n",
    "}"
   ]
  },
  {
   "cell_type": "code",
   "execution_count": 14,
   "metadata": {},
   "outputs": [],
   "source": [
    "ko2en_sacrebleu_dict = {\n",
    "    'aihub': aihub_ko2en_sacrebleu_dict,\n",
    "    'flores': flores_ko2en_sacrebleu_dict\n",
    "}\n",
    "en2ko_sacrebleu_dict = {\n",
    "    'aihub': aihub_en2ko_sacrebleu_dict,\n",
    "    'flores': flores_en2ko_sacrebleu_dict\n",
    "}\n",
    "ko2en_xcomet_dict = {\n",
    "    'aihub': aihub_ko2en_xcomet_dict,\n",
    "    'flores': flores_ko2en_xcomet_dict\n",
    "}\n",
    "en2ko_xcomet_dict = {\n",
    "    'aihub': aihub_en2ko_xcomet_dict,\n",
    "    'flores': flores_en2ko_xcomet_dict\n",
    "}"
   ]
  },
  {
   "cell_type": "code",
   "execution_count": 15,
   "metadata": {},
   "outputs": [],
   "source": [
    "ko2en_dict = {\n",
    "    'sacrebleu': ko2en_sacrebleu_dict,\n",
    "    'xcomet': ko2en_xcomet_dict\n",
    "}\n",
    "en2ko_dict = {\n",
    "    'sacrebleu': en2ko_sacrebleu_dict,\n",
    "    'xcomet': en2ko_xcomet_dict\n",
    "}"
   ]
  },
  {
   "cell_type": "code",
   "execution_count": 16,
   "metadata": {},
   "outputs": [],
   "source": [
    "sparta_dict = {\n",
    "    'ko2en': ko2en_dict,\n",
    "    'en2ko': en2ko_dict\n",
    "}"
   ]
  },
  {
   "cell_type": "code",
   "execution_count": 17,
   "metadata": {},
   "outputs": [
    {
     "data": {
      "text/plain": [
       "{'ko2en': {'sacrebleu': {'aihub': {'google': 29.958785725966973,\n",
       "    'deepl': 37.674554602961734,\n",
       "    'qlora': 46.34711032718279,\n",
       "    'bf16': 45.98828805006235,\n",
       "    'vllm': 45.181662593647694},\n",
       "   'flores': {'google': 22.062879951008398,\n",
       "    'deepl': 34.478829853950884,\n",
       "    'qlora': 28.802758121765923,\n",
       "    'bf16': 29.003011397501446,\n",
       "    'vllm': 29.339917716754517}},\n",
       "  'xcomet': {'aihub': {'google': 72.69311681669205,\n",
       "    'deepl': 86.27363581955433,\n",
       "    'qlora': 87.57523798476905,\n",
       "    'bf16': 87.5624388474971,\n",
       "    'vllm': 87.32337456801906},\n",
       "   'flores': {'google': 80.57166093587875,\n",
       "    'deepl': 95.57791349291801,\n",
       "    'qlora': 93.88737174868584,\n",
       "    'bf16': 93.97803145647049,\n",
       "    'vllm': 93.82300746440887}}},\n",
       " 'en2ko': {'sacrebleu': {'aihub': {'google': 11.274768944504158,\n",
       "    'deepl': 21.82190052828196,\n",
       "    'qlora': 27.97283775205161,\n",
       "    'bf16': 27.961557711747364,\n",
       "    'vllm': 27.43788622842319},\n",
       "   'flores': {'google': 10.762742239808397,\n",
       "    'deepl': 16.94057362378887,\n",
       "    'qlora': 13.880216478137461,\n",
       "    'bf16': 14.046383438446243,\n",
       "    'vllm': 14.257047516717373}},\n",
       "  'xcomet': {'aihub': {'google': 73.14943006867543,\n",
       "    'deepl': 89.70605094730854,\n",
       "    'qlora': 88.70021923072636,\n",
       "    'bf16': 88.65412587299943,\n",
       "    'vllm': 88.51669587288052},\n",
       "   'flores': {'google': 71.46990820020437,\n",
       "    'deepl': 91.87883412837982,\n",
       "    'qlora': 88.83850860595703,\n",
       "    'bf16': 88.6319063603878,\n",
       "    'vllm': 88.93421129882336}}}}"
      ]
     },
     "execution_count": 17,
     "metadata": {},
     "output_type": "execute_result"
    }
   ],
   "source": [
    "sparta_dict"
   ]
  },
  {
   "cell_type": "code",
   "execution_count": 18,
   "metadata": {},
   "outputs": [],
   "source": [
    "# sparta_dict를 yaml로 저장\n",
    "import yaml\n",
    "with open('../results/test_sparta_bidir_metrics.yaml', 'w') as f:\n",
    "    yaml.dump(sparta_dict, f, default_flow_style=False)"
   ]
  },
  {
   "cell_type": "code",
   "execution_count": 20,
   "metadata": {},
   "outputs": [],
   "source": [
    "# aihub_ko2en, aihub_en2ko, flores_ko2en, flores_en2ko\n",
    "aihub_ko2en_token_len = aihub_ko2en['src_token_len']\n",
    "aihub_en2ko_token_len = aihub_en2ko['src_token_len']\n",
    "flores_ko2en_token_len = flores_ko2en['src_token_len']\n",
    "flores_en2ko_token_len = flores_en2ko['src_token_len']"
   ]
  },
  {
   "cell_type": "code",
   "execution_count": 58,
   "metadata": {},
   "outputs": [
    {
     "data": {
      "image/png": "[encoded data removed]",
      "text/plain": [
       "<Figure size 1600x800 with 4 Axes>"
      ]
     },
     "metadata": {},
     "output_type": "display_data"
    },
    {
     "ename": "",
     "evalue": "",
     "output_type": "error",
     "traceback": [
      "\u001b[1;31m현재 셀 또는 이전 셀에서 코드를 실행하는 동안 Kernel이 충돌했습니다. \n",
      "\u001b[1;31m셀의 코드를 검토하여 가능한 오류 원인을 식별하세요. \n",
      "\u001b[1;31m자세한 내용을 보려면 <a href='https://aka.ms/vscodeJupyterKernelCrash'>여기</a>를 클릭하세요. \n",
      "\u001b[1;31m자세한 내용은 Jupyter <a href='command:jupyter.viewOutput'>로그</a>를 참조하세요."
     ]
    }
   ],
   "source": [
    "# token_len을 histogram으로 plot\n",
    "import matplotlib.pyplot as plt\n",
    "import seaborn as sns\n",
    "\n",
    "fig, axes = plt.subplots(2, 2, figsize=(16, 8))\n",
    "plt.rcParams.update({'font.size': 12})\n",
    "\n",
    "sns.histplot(aihub_en2ko_token_len, ax=axes[0, 0])\n",
    "axes[0, 0].set_title('AI Hub (En2Ko)')\n",
    "axes[0, 0].set_xlabel('English Source Token Length')\n",
    "axes[0, 0].set_ylabel('Frequency')\n",
    "axes[0, 0].set_xlim(0, 550)\n",
    "axes[0, 0].set_ylim(0, 125)\n",
    "axes[0, 0].axvline(aihub_en2ko_token_len.mean(), color='r', linestyle='--')\n",
    "axes[0, 0].text(aihub_en2ko_token_len.mean() + 10, 100, f'Mean: {aihub_en2ko_token_len.mean():.2f}')\n",
    "axes[0, 0].axvline(aihub_en2ko_token_len.max(), color='b', linestyle='--')\n",
    "axes[0, 0].text(aihub_en2ko_token_len.max() + 10, 100, f'Max: {aihub_en2ko_token_len.max()}')\n",
    "\n",
    "sns.histplot(aihub_ko2en_token_len, ax=axes[1, 0])\n",
    "axes[1, 0].set_title('AI Hub (Ko2En)')\n",
    "axes[1, 0].set_xlabel('Korean Source Token Length')\n",
    "axes[1, 0].set_ylabel('Frequency')\n",
    "axes[1, 0].set_xlim(0, 550)\n",
    "axes[1, 0].set_ylim(0, 125)\n",
    "axes[1, 0].axvline(aihub_ko2en_token_len.mean(), color='r', linestyle='--')\n",
    "axes[1, 0].text(aihub_ko2en_token_len.mean() + 10, 100, f'Mean: {aihub_ko2en_token_len.mean():.2f}')\n",
    "axes[1, 0].axvline(aihub_ko2en_token_len.max(), color='b', linestyle='--')\n",
    "axes[1, 0].text(aihub_ko2en_token_len.max() - 65, 100, f'Max: {aihub_ko2en_token_len.max()}')\n",
    "\n",
    "sns.histplot(flores_en2ko_token_len, ax=axes[0, 1])\n",
    "axes[0, 1].set_title('FLoRes (En2Ko)')\n",
    "axes[0, 1].set_xlabel('English Source Token Length')\n",
    "axes[0, 1].set_ylabel('Frequency')\n",
    "axes[0, 1].set_xlim(0, 550)\n",
    "axes[0, 1].set_ylim(0, 45)\n",
    "axes[0, 1].axvline(flores_en2ko_token_len.mean(), color='r', linestyle='--')\n",
    "axes[0, 1].text(flores_en2ko_token_len.mean() + 10, 35, f'Mean:\\n{flores_en2ko_token_len.mean():.2f}')\n",
    "axes[0, 1].axvline(flores_en2ko_token_len.max(), color='b', linestyle='--')\n",
    "axes[0, 1].text(flores_en2ko_token_len.max() + 10, 35, f'Max: {flores_en2ko_token_len.max()}')\n",
    "\n",
    "sns.histplot(flores_ko2en_token_len, ax=axes[1, 1])\n",
    "axes[1, 1].set_title('FLoRes (Ko2En)')\n",
    "axes[1, 1].set_xlabel('Korean Source Token Length')\n",
    "axes[1, 1].set_ylabel('Frequency')\n",
    "axes[1, 1].set_xlim(0, 550)\n",
    "axes[1, 1].set_ylim(0, 45)\n",
    "axes[1, 1].axvline(flores_ko2en_token_len.mean(), color='r', linestyle='--')\n",
    "axes[1, 1].text(flores_ko2en_token_len.mean() + 10, 35, f'Mean:\\n{flores_ko2en_token_len.mean():.2f}')\n",
    "axes[1, 1].axvline(flores_ko2en_token_len.max(), color='b', linestyle='--')\n",
    "axes[1, 1].text(flores_ko2en_token_len.max() + 10, 35, f'Max: {flores_ko2en_token_len.max()}')\n",
    "\n",
    "plt.tight_layout()\n",
    "plt.show()"
   ]
  },
  {
   "cell_type": "code",
   "execution_count": 48,
   "metadata": {},
   "outputs": [
    {
     "data": {
      "image/png": "[encoded data removed]",
      "text/plain": [
       "<Figure size 800x400 with 1 Axes>"
      ]
     },
     "metadata": {},
     "output_type": "display_data"
    }
   ],
   "source": [
    "plt.figure(figsize=(8, 4))\n",
    "sns.histplot(aihub_ko2en_token_len)\n",
    "plt.title('AI Hub (Ko2En)')\n",
    "plt.xlabel('Korean Source Token Length')\n",
    "plt.ylabel('Frequency')\n",
    "plt.xlim(0, 550)\n",
    "plt.ylim(0, 125)\n",
    "plt.axvline(aihub_ko2en_token_len.mean(), color='r', linestyle='--')\n",
    "plt.text(aihub_ko2en_token_len.mean() + 10, 100, f'Mean: {aihub_ko2en_token_len.mean():.2f}')\n",
    "plt.axvline(aihub_ko2en_token_len.max(), color='b', linestyle='--')\n",
    "plt.text(aihub_ko2en_token_len.max() - 55, 100, f'Max: {aihub_ko2en_token_len.max()}')\n",
    "plt.show()"
   ]
  },
  {
   "cell_type": "code",
   "execution_count": 49,
   "metadata": {},
   "outputs": [
    {
     "data": {
      "image/png": "[encoded data removed]",
      "text/plain": [
       "<Figure size 800x400 with 1 Axes>"
      ]
     },
     "metadata": {},
     "output_type": "display_data"
    }
   ],
   "source": [
    "plt.figure(figsize=(8, 4))\n",
    "sns.histplot(aihub_en2ko_token_len)\n",
    "plt.title('AI Hub (En2Ko)')\n",
    "plt.xlabel('English Source Token Length')\n",
    "plt.ylabel('Frequency')\n",
    "plt.xlim(0, 550)\n",
    "plt.ylim(0, 125)\n",
    "plt.axvline(aihub_en2ko_token_len.mean(), color='r', linestyle='--')\n",
    "plt.text(aihub_en2ko_token_len.mean() + 10, 100, f'Mean: {aihub_en2ko_token_len.mean():.2f}')\n",
    "plt.axvline(aihub_en2ko_token_len.max(), color='b', linestyle='--')\n",
    "plt.text(aihub_en2ko_token_len.max() + 10, 100, f'Max: {aihub_en2ko_token_len.max()}')\n",
    "plt.show()"
   ]
  },
  {
   "cell_type": "code",
   "execution_count": 50,
   "metadata": {},
   "outputs": [
    {
     "data": {
      "image/png": "[encoded data removed]",
      "text/plain": [
       "<Figure size 800x400 with 1 Axes>"
      ]
     },
     "metadata": {},
     "output_type": "display_data"
    }
   ],
   "source": [
    "plt.figure(figsize=(8, 4))\n",
    "sns.histplot(flores_ko2en_token_len)\n",
    "plt.title('FLoRes (Ko2En)')\n",
    "plt.xlabel('Korean Source Token Length')\n",
    "plt.ylabel('Frequency')\n",
    "plt.xlim(0, 550)\n",
    "plt.ylim(0, 45)\n",
    "plt.axvline(flores_ko2en_token_len.mean(), color='r', linestyle='--')\n",
    "plt.text(flores_ko2en_token_len.mean() + 10, 35, f'Mean:\\n{flores_ko2en_token_len.mean():.2f}')\n",
    "plt.axvline(flores_ko2en_token_len.max(), color='b', linestyle='--')\n",
    "plt.text(flores_ko2en_token_len.max() + 10, 35, f'Max: {flores_ko2en_token_len.max()}')\n",
    "plt.show()"
   ]
  },
  {
   "cell_type": "code",
   "execution_count": 51,
   "metadata": {},
   "outputs": [
    {
     "data": {
      "image/png": "[encoded data removed]",
      "text/plain": [
       "<Figure size 800x400 with 1 Axes>"
      ]
     },
     "metadata": {},
     "output_type": "display_data"
    }
   ],
   "source": [
    "plt.figure(figsize=(8, 4))\n",
    "sns.histplot(flores_en2ko_token_len)\n",
    "plt.title('FLoRes (En2Ko)')\n",
    "plt.xlabel('English Source Token Length')\n",
    "plt.ylabel('Frequency')\n",
    "plt.xlim(0, 550)\n",
    "plt.ylim(0, 45)\n",
    "plt.axvline(flores_en2ko_token_len.mean(), color='r', linestyle='--')\n",
    "plt.text(flores_en2ko_token_len.mean() + 10, 35, f'Mean:\\n{flores_en2ko_token_len.mean():.2f}')\n",
    "plt.axvline(flores_en2ko_token_len.max(), color='b', linestyle='--')\n",
    "plt.text(flores_en2ko_token_len.max() + 10, 35, f'Max: {flores_en2ko_token_len.max()}')\n",
    "plt.show()"
   ]
  },
  {
   "cell_type": "code",
   "execution_count": 2,
   "metadata": {},
   "outputs": [],
   "source": [
    "import pandas as pd"
   ]
  },
  {
   "cell_type": "code",
   "execution_count": 5,
   "metadata": {},
   "outputs": [
    {
     "data": {
      "text/plain": [
       "Index(['tgt', 'google_trans', 'google_time', 'deepl_trans', 'deepl_time',\n",
       "       'llama-sparta-qlora_trans', 'llama-sparta-qlora_time',\n",
       "       'llama-sparta-qlora-bf16_trans', 'llama-sparta-qlora-bf16_time',\n",
       "       'llama-sparta-qlora-bf16-vllm_trans',\n",
       "       'llama-sparta-qlora-bf16-vllm_time', 'src', 'src_token_len',\n",
       "       'direction', 'data_source', 'papago_trans', 'papago_time'],\n",
       "      dtype='object')"
      ]
     },
     "execution_count": 5,
     "metadata": {},
     "output_type": "execute_result"
    }
   ],
   "source": [
    "sparta = pd.read_csv('../results/test_sparta_bidir_inferenced.csv')\n",
    "sparta.columns"
   ]
  },
  {
   "cell_type": "code",
   "execution_count": 6,
   "metadata": {},
   "outputs": [
    {
     "data": {
      "text/html": [
       "<div>\n",
       "<style scoped>\n",
       "    .dataframe tbody tr th:only-of-type {\n",
       "        vertical-align: middle;\n",
       "    }\n",
       "\n",
       "    .dataframe tbody tr th {\n",
       "        vertical-align: top;\n",
       "    }\n",
       "\n",
       "    .dataframe thead th {\n",
       "        text-align: right;\n",
       "    }\n",
       "</style>\n",
       "<table border=\"1\" class=\"dataframe\">\n",
       "  <thead>\n",
       "    <tr style=\"text-align: right;\">\n",
       "      <th></th>\n",
       "      <th>tgt</th>\n",
       "      <th>google_trans</th>\n",
       "      <th>google_time</th>\n",
       "      <th>deepl_trans</th>\n",
       "      <th>deepl_time</th>\n",
       "      <th>papago_trans</th>\n",
       "      <th>papago_time</th>\n",
       "      <th>llama-sparta-qlora_trans</th>\n",
       "      <th>llama-sparta-qlora_time</th>\n",
       "      <th>llama-sparta-qlora-bf16_trans</th>\n",
       "      <th>llama-sparta-qlora-bf16_time</th>\n",
       "      <th>llama-sparta-qlora-bf16-vllm_trans</th>\n",
       "      <th>llama-sparta-qlora-bf16-vllm_time</th>\n",
       "      <th>src</th>\n",
       "      <th>src_token_len</th>\n",
       "      <th>direction</th>\n",
       "      <th>data_source</th>\n",
       "    </tr>\n",
       "  </thead>\n",
       "  <tbody>\n",
       "    <tr>\n",
       "      <th>0</th>\n",
       "      <td>Transnational institutions act as intermediari...</td>\n",
       "      <td>The transnational organization acts as an inte...</td>\n",
       "      <td>1869.401</td>\n",
       "      <td>Supranational organizations act as intermediar...</td>\n",
       "      <td>1146.5</td>\n",
       "      <td>Transnational organizations act as intermediar...</td>\n",
       "      <td>282.7</td>\n",
       "      <td>Transnational organizations act as intermediar...</td>\n",
       "      <td>3979.829</td>\n",
       "      <td>Transnational organizations act as intermediar...</td>\n",
       "      <td>1480.720</td>\n",
       "      <td>Transnational organizations act as intermediar...</td>\n",
       "      <td>613.220</td>\n",
       "      <td>초국가 기구는 협상 과정에서 협상 기회를 창출하거나 결정권자들의 갈등을 완화시키는 ...</td>\n",
       "      <td>30</td>\n",
       "      <td>ko-en</td>\n",
       "      <td>aihub-71266</td>\n",
       "    </tr>\n",
       "    <tr>\n",
       "      <th>1</th>\n",
       "      <td>초국가 기구는 협상 과정에서 협상 기회를 창출하거나 결정권자들의 갈등을 완화시키는 ...</td>\n",
       "      <td>초 국가 기관은 협상 기회를 창출하거나 의사 결정자들 사이의 갈등을 완화함으로써 협...</td>\n",
       "      <td>545.195</td>\n",
       "      <td>초국적 기관은 협상 기회를 창출하거나 의사 결정자 간의 갈등을 완화하여 협상 과정에...</td>\n",
       "      <td>664.3</td>\n",
       "      <td>초국가적 제도는 협상 기회를 창출하거나 의사결정자 간의 갈등을 완화함으로써 협상 과...</td>\n",
       "      <td>352.8</td>\n",
       "      <td>초국적 기구는 협상기회를 창출하거나 결정자 간의 갈등을 완화함으로써 협상과정에서 공...</td>\n",
       "      <td>2225.354</td>\n",
       "      <td>초국적 기구는 협상기회를 창출하거나 결정자 간의 갈등을 완화함으로써 협상과정에서 공...</td>\n",
       "      <td>756.085</td>\n",
       "      <td>초국적 기관은 협상기회를 창출하거나 결정자 간의 갈등을 완화함으로써 협상과정에서 공...</td>\n",
       "      <td>515.830</td>\n",
       "      <td>Transnational institutions act as intermediari...</td>\n",
       "      <td>37</td>\n",
       "      <td>en-ko</td>\n",
       "      <td>aihub-71266</td>\n",
       "    </tr>\n",
       "    <tr>\n",
       "      <th>2</th>\n",
       "      <td>So what are you going to choose?</td>\n",
       "      <td>So what are you going to choose?</td>\n",
       "      <td>260.300</td>\n",
       "      <td>So what are you going to pick?</td>\n",
       "      <td>392.8</td>\n",
       "      <td>So what are you going to choose?</td>\n",
       "      <td>206.1</td>\n",
       "      <td>So what are you going to choose?</td>\n",
       "      <td>623.845</td>\n",
       "      <td>So what are you going to choose?</td>\n",
       "      <td>210.805</td>\n",
       "      <td>So what are you going to choose?</td>\n",
       "      <td>141.181</td>\n",
       "      <td>그래서 뭐 고를 건데?</td>\n",
       "      <td>6</td>\n",
       "      <td>ko-en</td>\n",
       "      <td>aihub-71265</td>\n",
       "    </tr>\n",
       "    <tr>\n",
       "      <th>3</th>\n",
       "      <td>그래서 뭐 고를 건데?</td>\n",
       "      <td>그래서 무엇을 선택 하시겠습니까?</td>\n",
       "      <td>225.300</td>\n",
       "      <td>그렇다면 무엇을 선택하시겠습니까?</td>\n",
       "      <td>375.2</td>\n",
       "      <td>그래서 무엇을 선택하실 건가요?</td>\n",
       "      <td>161.0</td>\n",
       "      <td>그래서 당신은 무엇을 선택할 건가요?</td>\n",
       "      <td>622.931</td>\n",
       "      <td>그래서 당신은 무엇을 선택할 건가요?</td>\n",
       "      <td>208.226</td>\n",
       "      <td>그래서 당신은 무엇을 선택할 건가요?</td>\n",
       "      <td>141.312</td>\n",
       "      <td>So what are you going to choose?</td>\n",
       "      <td>8</td>\n",
       "      <td>en-ko</td>\n",
       "      <td>aihub-71265</td>\n",
       "    </tr>\n",
       "    <tr>\n",
       "      <th>4</th>\n",
       "      <td>This is because, at that time, a lawsuit about...</td>\n",
       "      <td>This is because a lawsuit related to the estab...</td>\n",
       "      <td>216.200</td>\n",
       "      <td>At the time, a lawsuit was filed between the p...</td>\n",
       "      <td>480.0</td>\n",
       "      <td>At that time, a lawsuit was filed between Y22 ...</td>\n",
       "      <td>370.9</td>\n",
       "      <td>This is because a lawsuit related to the estab...</td>\n",
       "      <td>2761.580</td>\n",
       "      <td>This is because a lawsuit related to the estab...</td>\n",
       "      <td>938.748</td>\n",
       "      <td>This is because a lawsuit related to the estab...</td>\n",
       "      <td>639.354</td>\n",
       "      <td>당시 사업주체인 Y22프로젝트파이낸싱인베스트먼트와 토지 소유주인 통일교재단 사이에 ...</td>\n",
       "      <td>38</td>\n",
       "      <td>ko-en</td>\n",
       "      <td>aihub-111</td>\n",
       "    </tr>\n",
       "  </tbody>\n",
       "</table>\n",
       "</div>"
      ],
      "text/plain": [
       "                                                 tgt  \\\n",
       "0  Transnational institutions act as intermediari...   \n",
       "1  초국가 기구는 협상 과정에서 협상 기회를 창출하거나 결정권자들의 갈등을 완화시키는 ...   \n",
       "2                   So what are you going to choose?   \n",
       "3                                       그래서 뭐 고를 건데?   \n",
       "4  This is because, at that time, a lawsuit about...   \n",
       "\n",
       "                                        google_trans  google_time  \\\n",
       "0  The transnational organization acts as an inte...     1869.401   \n",
       "1  초 국가 기관은 협상 기회를 창출하거나 의사 결정자들 사이의 갈등을 완화함으로써 협...      545.195   \n",
       "2                   So what are you going to choose?      260.300   \n",
       "3                                 그래서 무엇을 선택 하시겠습니까?      225.300   \n",
       "4  This is because a lawsuit related to the estab...      216.200   \n",
       "\n",
       "                                         deepl_trans  deepl_time  \\\n",
       "0  Supranational organizations act as intermediar...      1146.5   \n",
       "1  초국적 기관은 협상 기회를 창출하거나 의사 결정자 간의 갈등을 완화하여 협상 과정에...       664.3   \n",
       "2                     So what are you going to pick?       392.8   \n",
       "3                                 그렇다면 무엇을 선택하시겠습니까?       375.2   \n",
       "4  At the time, a lawsuit was filed between the p...       480.0   \n",
       "\n",
       "                                        papago_trans  papago_time  \\\n",
       "0  Transnational organizations act as intermediar...        282.7   \n",
       "1  초국가적 제도는 협상 기회를 창출하거나 의사결정자 간의 갈등을 완화함으로써 협상 과...        352.8   \n",
       "2                   So what are you going to choose?        206.1   \n",
       "3                                  그래서 무엇을 선택하실 건가요?        161.0   \n",
       "4  At that time, a lawsuit was filed between Y22 ...        370.9   \n",
       "\n",
       "                            llama-sparta-qlora_trans  llama-sparta-qlora_time  \\\n",
       "0  Transnational organizations act as intermediar...                 3979.829   \n",
       "1  초국적 기구는 협상기회를 창출하거나 결정자 간의 갈등을 완화함으로써 협상과정에서 공...                 2225.354   \n",
       "2                   So what are you going to choose?                  623.845   \n",
       "3                               그래서 당신은 무엇을 선택할 건가요?                  622.931   \n",
       "4  This is because a lawsuit related to the estab...                 2761.580   \n",
       "\n",
       "                       llama-sparta-qlora-bf16_trans  \\\n",
       "0  Transnational organizations act as intermediar...   \n",
       "1  초국적 기구는 협상기회를 창출하거나 결정자 간의 갈등을 완화함으로써 협상과정에서 공...   \n",
       "2                   So what are you going to choose?   \n",
       "3                               그래서 당신은 무엇을 선택할 건가요?   \n",
       "4  This is because a lawsuit related to the estab...   \n",
       "\n",
       "   llama-sparta-qlora-bf16_time  \\\n",
       "0                      1480.720   \n",
       "1                       756.085   \n",
       "2                       210.805   \n",
       "3                       208.226   \n",
       "4                       938.748   \n",
       "\n",
       "                  llama-sparta-qlora-bf16-vllm_trans  \\\n",
       "0  Transnational organizations act as intermediar...   \n",
       "1  초국적 기관은 협상기회를 창출하거나 결정자 간의 갈등을 완화함으로써 협상과정에서 공...   \n",
       "2                   So what are you going to choose?   \n",
       "3                               그래서 당신은 무엇을 선택할 건가요?   \n",
       "4  This is because a lawsuit related to the estab...   \n",
       "\n",
       "   llama-sparta-qlora-bf16-vllm_time  \\\n",
       "0                            613.220   \n",
       "1                            515.830   \n",
       "2                            141.181   \n",
       "3                            141.312   \n",
       "4                            639.354   \n",
       "\n",
       "                                                 src  src_token_len direction  \\\n",
       "0  초국가 기구는 협상 과정에서 협상 기회를 창출하거나 결정권자들의 갈등을 완화시키는 ...             30     ko-en   \n",
       "1  Transnational institutions act as intermediari...             37     en-ko   \n",
       "2                                       그래서 뭐 고를 건데?              6     ko-en   \n",
       "3                   So what are you going to choose?              8     en-ko   \n",
       "4  당시 사업주체인 Y22프로젝트파이낸싱인베스트먼트와 토지 소유주인 통일교재단 사이에 ...             38     ko-en   \n",
       "\n",
       "   data_source  \n",
       "0  aihub-71266  \n",
       "1  aihub-71266  \n",
       "2  aihub-71265  \n",
       "3  aihub-71265  \n",
       "4    aihub-111  "
      ]
     },
     "execution_count": 6,
     "metadata": {},
     "output_type": "execute_result"
    }
   ],
   "source": [
    "sparta = sparta[[\n",
    "    'tgt',\n",
    "    'google_trans',\n",
    "    'google_time',\n",
    "    'deepl_trans',\n",
    "    'deepl_time',\n",
    "    'papago_trans',\n",
    "    'papago_time',\n",
    "    'llama-sparta-qlora_trans',\n",
    "    'llama-sparta-qlora_time',\n",
    "    'llama-sparta-qlora-bf16_trans',\n",
    "    'llama-sparta-qlora-bf16_time',\n",
    "    'llama-sparta-qlora-bf16-vllm_trans',\n",
    "    'llama-sparta-qlora-bf16-vllm_time',\n",
    "    'src',\n",
    "    'src_token_len',\n",
    "    'direction',\n",
    "    'data_source',\n",
    "]]\n",
    "sparta.head()"
   ]
  },
  {
   "cell_type": "code",
   "execution_count": 7,
   "metadata": {},
   "outputs": [],
   "source": [
    "sparta.to_csv('../results/test_sparta_bidir_inferenced.csv', index=False)"
   ]
  },
  {
   "cell_type": "code",
   "execution_count": 8,
   "metadata": {},
   "outputs": [],
   "source": [
    "aihub_ko2en = sparta[(sparta['direction'] == 'ko-en') & (sparta['data_source'].str.startswith('aihub'))]\n",
    "aihub_en2ko = sparta[(sparta['direction'] == 'en-ko') & (sparta['data_source'].str.startswith('aihub'))]\n",
    "flores_ko2en = sparta[(sparta['direction'] == 'ko-en') & (sparta['data_source'].str.startswith('flores'))]\n",
    "flores_en2ko = sparta[(sparta['direction'] == 'en-ko') & (sparta['data_source'].str.startswith('flores'))]"
   ]
  },
  {
   "cell_type": "code",
   "execution_count": 12,
   "metadata": {},
   "outputs": [],
   "source": [
    "from inference_evaluation import calculate_sacrebleu, calculate_xcomet"
   ]
  },
  {
   "cell_type": "code",
   "execution_count": 13,
   "metadata": {},
   "outputs": [
    {
     "name": "stderr",
     "output_type": "stream",
     "text": [
      "Fetching 5 files: 100%|██████████| 5/5 [00:00<00:00, 46916.15it/s]\n",
      "Encoder model frozen.\n",
      "/home/tmax/anaconda3/envs/qlora/lib/python3.11/site-packages/pytorch_lightning/core/saving.py:188: Found keys that are not in the model state dict but in the checkpoint: ['encoder.model.embeddings.position_ids']\n",
      "GPU available: True (cuda), used: True\n",
      "TPU available: False, using: 0 TPU cores\n",
      "IPU available: False, using: 0 IPUs\n",
      "HPU available: False, using: 0 HPUs\n",
      "You are using a CUDA device ('NVIDIA GeForce RTX 4090') that has Tensor Cores. To properly utilize them, you should set `torch.set_float32_matmul_precision('medium' | 'high')` which will trade-off precision for performance. For more details, read https://pytorch.org/docs/stable/generated/torch.set_float32_matmul_precision.html#torch.set_float32_matmul_precision\n",
      "LOCAL_RANK: 0 - CUDA_VISIBLE_DEVICES: [3]\n",
      "Predicting DataLoader 0: 100%|██████████| 50/50 [00:51<00:00,  1.03s/it]\n",
      "Fetching 5 files: 100%|██████████| 5/5 [00:00<00:00, 41363.94it/s]\n",
      "Encoder model frozen.\n",
      "/home/tmax/anaconda3/envs/qlora/lib/python3.11/site-packages/pytorch_lightning/core/saving.py:188: Found keys that are not in the model state dict but in the checkpoint: ['encoder.model.embeddings.position_ids']\n",
      "GPU available: True (cuda), used: True\n",
      "TPU available: False, using: 0 TPU cores\n",
      "IPU available: False, using: 0 IPUs\n",
      "HPU available: False, using: 0 HPUs\n",
      "LOCAL_RANK: 0 - CUDA_VISIBLE_DEVICES: [3]\n",
      "Predicting DataLoader 0: 100%|██████████| 13/13 [00:08<00:00,  1.45it/s]\n"
     ]
    }
   ],
   "source": [
    "papago_aihub_ko2en_sacrebleu = calculate_sacrebleu(aihub_ko2en, column_name='papago_trans', ref_col='tgt')\n",
    "papago_flores_ko2en_sacrebleu = calculate_sacrebleu(flores_ko2en, column_name='papago_trans', ref_col='tgt')\n",
    "papago_aihub_ko2en_xcomet = calculate_xcomet(aihub_ko2en, column_name='papago_trans', src_col='src', ref_col='tgt')\n",
    "papago_flores_ko2en_xcomet = calculate_xcomet(flores_ko2en, column_name='papago_trans', src_col='src', ref_col='tgt')"
   ]
  },
  {
   "cell_type": "code",
   "execution_count": 31,
   "metadata": {},
   "outputs": [
    {
     "name": "stdout",
     "output_type": "stream",
     "text": [
      "AI Hub (Ko2En) Papago SacreBLEU: 43.5877564430919\n",
      "FLoRes (Ko2En) Papago SacreBLEU: 59.00718042711329\n",
      "AI Hub (Ko2En) Papago xCOMET: 86.56624203547835\n",
      "FLoRes (Ko2En) Papago xCOMET: 94.66319260001183\n"
     ]
    }
   ],
   "source": [
    "print(f\"AI Hub (Ko2En) Papago SacreBLEU: {papago_aihub_ko2en_sacrebleu}\")\n",
    "print(f\"FLoRes (Ko2En) Papago SacreBLEU: {papago_flores_ko2en_sacrebleu}\")\n",
    "print(f\"AI Hub (Ko2En) Papago xCOMET: {papago_aihub_ko2en_xcomet}\")\n",
    "print(f\"FLoRes (Ko2En) Papago xCOMET: {papago_flores_ko2en_xcomet}\")"
   ]
  },
  {
   "cell_type": "code",
   "execution_count": 18,
   "metadata": {},
   "outputs": [],
   "source": [
    "papago_aihub_ko2en_time_sum = aihub_ko2en['papago_time'].sum() / 1000\n",
    "papago_flores_ko2en_time_sum = flores_ko2en['papago_time'].sum() / 1000\n",
    "papago_aihub_ko2en_token_sum = aihub_ko2en['src_token_len'].sum()\n",
    "papago_flores_ko2en_token_sum = flores_ko2en['src_token_len'].sum()"
   ]
  },
  {
   "cell_type": "code",
   "execution_count": 20,
   "metadata": {},
   "outputs": [
    {
     "name": "stdout",
     "output_type": "stream",
     "text": [
      "AI Hub (Ko2En) Papago Inference Time: 303.90 sec\n",
      "FLoRes (Ko2En) Papago Inference Time: 42.72 sec\n",
      "AI Hub (Ko2En) Papago Token Sum: 36515\n",
      "FLoRes (Ko2En) Papago Token Sum: 6218\n"
     ]
    }
   ],
   "source": [
    "print(f\"AI Hub (Ko2En) Papago Inference Time: {papago_aihub_ko2en_time_sum:.2f} sec\")\n",
    "print(f\"FLoRes (Ko2En) Papago Inference Time: {papago_flores_ko2en_time_sum:.2f} sec\")\n",
    "print(f\"AI Hub (Ko2En) Papago Token Sum: {papago_aihub_ko2en_token_sum}\")\n",
    "print(f\"FLoRes (Ko2En) Papago Token Sum: {papago_flores_ko2en_token_sum}\")"
   ]
  },
  {
   "cell_type": "code",
   "execution_count": 21,
   "metadata": {},
   "outputs": [
    {
     "name": "stdout",
     "output_type": "stream",
     "text": [
      "AI Hub (Ko2En) Papago Mean Tokens per Time: 120.16\n",
      "FLoRes (Ko2En) Papago Mean Tokens per Time: 145.54\n"
     ]
    }
   ],
   "source": [
    "print(f\"AI Hub (Ko2En) Papago Mean Tokens per Time: {papago_aihub_ko2en_token_sum / papago_aihub_ko2en_time_sum:.2f}\")\n",
    "print(f\"FLoRes (Ko2En) Papago Mean Tokens per Time: {papago_flores_ko2en_token_sum / papago_flores_ko2en_time_sum:.2f}\")"
   ]
  },
  {
   "cell_type": "code",
   "execution_count": 32,
   "metadata": {},
   "outputs": [
    {
     "name": "stderr",
     "output_type": "stream",
     "text": [
      "Fetching 5 files: 100%|██████████| 5/5 [00:00<00:00, 53773.13it/s]\n",
      "Encoder model frozen.\n",
      "/home/tmax/anaconda3/envs/qlora/lib/python3.11/site-packages/pytorch_lightning/core/saving.py:188: Found keys that are not in the model state dict but in the checkpoint: ['encoder.model.embeddings.position_ids']\n",
      "GPU available: True (cuda), used: True\n",
      "TPU available: False, using: 0 TPU cores\n",
      "IPU available: False, using: 0 IPUs\n",
      "HPU available: False, using: 0 HPUs\n",
      "LOCAL_RANK: 0 - CUDA_VISIBLE_DEVICES: [3]\n",
      "Predicting DataLoader 0: 100%|██████████| 50/50 [00:51<00:00,  1.03s/it]\n",
      "Fetching 5 files: 100%|██████████| 5/5 [00:00<00:00, 52692.26it/s]\n",
      "Encoder model frozen.\n",
      "/home/tmax/anaconda3/envs/qlora/lib/python3.11/site-packages/pytorch_lightning/core/saving.py:188: Found keys that are not in the model state dict but in the checkpoint: ['encoder.model.embeddings.position_ids']\n",
      "GPU available: True (cuda), used: True\n",
      "TPU available: False, using: 0 TPU cores\n",
      "IPU available: False, using: 0 IPUs\n",
      "HPU available: False, using: 0 HPUs\n",
      "LOCAL_RANK: 0 - CUDA_VISIBLE_DEVICES: [3]\n",
      "Predicting DataLoader 0: 100%|██████████| 13/13 [00:09<00:00,  1.31it/s]\n"
     ]
    }
   ],
   "source": [
    "papago_aihub_en2ko_sacrebleu = calculate_sacrebleu(aihub_en2ko, column_name='papago_trans', ref_col='tgt')\n",
    "papago_flores_en2ko_sacrebleu = calculate_sacrebleu(flores_en2ko, column_name='papago_trans', ref_col='tgt')\n",
    "papago_aihub_en2ko_xcomet = calculate_xcomet(aihub_en2ko, column_name='papago_trans', src_col='src', ref_col='tgt')\n",
    "papago_flores_en2ko_xcomet = calculate_xcomet(flores_en2ko, column_name='papago_trans', src_col='src', ref_col='tgt')"
   ]
  },
  {
   "cell_type": "code",
   "execution_count": 33,
   "metadata": {},
   "outputs": [
    {
     "name": "stdout",
     "output_type": "stream",
     "text": [
      "AI Hub (En2Ko) Papago SacreBLEU: 27.61976780686114\n",
      "FLoRes (En2Ko) Papago SacreBLEU: 50.808201526796005\n",
      "AI Hub (En2Ko) Papago xCOMET: 88.27746153250337\n",
      "FLoRes (En2Ko) Papago xCOMET: 90.49753913283348\n"
     ]
    }
   ],
   "source": [
    "print(f\"AI Hub (En2Ko) Papago SacreBLEU: {papago_aihub_en2ko_sacrebleu}\")\n",
    "print(f\"FLoRes (En2Ko) Papago SacreBLEU: {papago_flores_en2ko_sacrebleu}\")\n",
    "print(f\"AI Hub (En2Ko) Papago xCOMET: {papago_aihub_en2ko_xcomet}\")\n",
    "print(f\"FLoRes (En2Ko) Papago xCOMET: {papago_flores_en2ko_xcomet}\")"
   ]
  },
  {
   "cell_type": "code",
   "execution_count": 34,
   "metadata": {},
   "outputs": [],
   "source": [
    "papago_aihub_en2ko_time_sum = aihub_en2ko['papago_time'].sum() / 1000\n",
    "papago_flores_en2ko_time_sum = flores_en2ko['papago_time'].sum() / 1000\n",
    "papago_aihub_en2ko_token_sum = aihub_en2ko['src_token_len'].sum()\n",
    "papago_flores_en2ko_token_sum = flores_en2ko['src_token_len'].sum()"
   ]
  },
  {
   "cell_type": "code",
   "execution_count": 36,
   "metadata": {},
   "outputs": [
    {
     "name": "stdout",
     "output_type": "stream",
     "text": [
      "AI Hub (En2Ko) Papago Inference Time: 274.60 sec\n",
      "FLoRes (En2Ko) Papago Inference Time: 41.77 sec\n",
      "AI Hub (En2Ko) Papago Token Sum: 37148\n",
      "FLoRes (En2Ko) Papago Token Sum: 6045\n"
     ]
    }
   ],
   "source": [
    "print(f\"AI Hub (En2Ko) Papago Inference Time: {papago_aihub_en2ko_time_sum:.2f} sec\")\n",
    "print(f\"FLoRes (En2Ko) Papago Inference Time: {papago_flores_en2ko_time_sum:.2f} sec\")\n",
    "print(f\"AI Hub (En2Ko) Papago Token Sum: {papago_aihub_en2ko_token_sum}\")\n",
    "print(f\"FLoRes (En2Ko) Papago Token Sum: {papago_flores_en2ko_token_sum}\")"
   ]
  },
  {
   "cell_type": "code",
   "execution_count": 37,
   "metadata": {},
   "outputs": [
    {
     "name": "stdout",
     "output_type": "stream",
     "text": [
      "AI Hub (En2Ko) Papago Mean Tokens per Time: 135.28\n",
      "FLoRes (En2Ko) Papago Mean Tokens per Time: 144.70\n"
     ]
    },
    {
     "ename": "",
     "evalue": "",
     "output_type": "error",
     "traceback": [
      "\u001b[1;31m현재 셀 또는 이전 셀에서 코드를 실행하는 동안 Kernel이 충돌했습니다. \n",
      "\u001b[1;31m셀의 코드를 검토하여 가능한 오류 원인을 식별하세요. \n",
      "\u001b[1;31m자세한 내용을 보려면 <a href='https://aka.ms/vscodeJupyterKernelCrash'>여기</a>를 클릭하세요. \n",
      "\u001b[1;31m자세한 내용은 Jupyter <a href='command:jupyter.viewOutput'>로그</a>를 참조하세요."
     ]
    }
   ],
   "source": [
    "print(f\"AI Hub (En2Ko) Papago Mean Tokens per Time: {papago_aihub_en2ko_token_sum / papago_aihub_en2ko_time_sum:.2f}\")\n",
    "print(f\"FLoRes (En2Ko) Papago Mean Tokens per Time: {papago_flores_en2ko_token_sum / papago_flores_en2ko_time_sum:.2f}\")"
   ]
  },
  {
   "cell_type": "code",
   "execution_count": null,
   "metadata": {},
   "outputs": [],
   "source": []
  }
 ],
 "metadata": {
  "kernelspec": {
   "display_name": "qlora",
   "language": "python",
   "name": "python3"
  },
  "language_info": {
   "codemirror_mode": {
    "name": "ipython",
    "version": 3
   },
   "file_extension": ".py",
   "mimetype": "text/x-python",
   "name": "python",
   "nbconvert_exporter": "python",
   "pygments_lexer": "ipython3",
   "version": "3.11.5"
  }
 },
 "nbformat": 4,
 "nbformat_minor": 2
}
